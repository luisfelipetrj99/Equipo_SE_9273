{
 "cells": [
  {
   "cell_type": "markdown",
   "metadata": {},
   "source": [
    "<font color=#1a237e face=\"Roman\"> \n",
    "  <h1 align=\"center\"><i>Seminario de Estadística I</i></h1>\n",
    "  </font>\n",
    "  <font color=\"Black\" face=\"Roman\">\n",
    "  <h6 align=\"center\"><i>TAREA I</i></h6>\n",
    "  <h6 align=\"center\"><i>Profesor. Rodrigo Quijón Hipólito</i></h6>\n",
    "    <h6 align=\"center\"><i>Profesor. Jimmy Hernández Morales</i></h6>\n",
    "    <h6 align=\"center\"><i>Ayudante. María Ximena Aguirre Pessina </i></h6>\n",
    "    <h6 align=\"left\"><i>Integrantes:</i></h6>\n",
    "    <h6 align=\"left\"><i>1. Blancas Alvarado Isaí  -  316188506 </i></h6>\n",
    "    <h6 align=\"left\"><i>2. Espinosa Vargas Sinaí  -  316268277 </i></h6>\n",
    "    <h6 align=\"left\"><i>3. Franco Zárraga Daniel  -  316290294 </i></h6>\n",
    "    <h6 align=\"left\"><i>4. Gutiérrez Prieto Luisa Elena  -  ######### </i></h6>\n",
    "    <h6 align=\"left\"><i>5. Trujillo Jiménez Luis Felipe  -  ######### </i></h6>\n",
    "  </font>"
   ]
  },
  {
   "cell_type": "code",
   "execution_count": 181,
   "metadata": {},
   "outputs": [],
   "source": [
    "import pandas as pd\n",
    "import matplotlib.pyplot as plt"
   ]
  },
  {
   "cell_type": "code",
   "execution_count": 2,
   "metadata": {},
   "outputs": [],
   "source": [
    "#Cargamos datos\n",
    "base_comportamiento_2=pd.read_csv('base_comportamiento_2.txt', sep=\" \")\n",
    "base_comportamiento_3=pd.read_csv('base_comportamiento_3.csv')\n",
    "base_ini_externa=pd.read_csv('base_ini_externa.txt', sep=\" \")\n",
    "base_ini_interna=pd.read_csv('base_ini_interna.csv')\n",
    "base_ini_parte1=pd.read_csv('base_ini_parte1.csv')\n",
    "base_inversion=pd.read_csv('base_inversion.txt', sep=\" \")\n",
    "bd_inicio_parte1=pd.read_csv('bd_inicio_parte1.txt', sep=\" \")\n",
    "schools=pd.read_excel('data_schools.xlsx', engine='openpyxl')\n",
    "horms=pd.read_excel('lineal_horm.xlsx', engine='openpyxl')"
   ]
  },
  {
   "cell_type": "markdown",
   "metadata": {},
   "source": [
    "## Análisis exploratorio\n",
    "Se busca decidir si se le va a dar a una persona un crédito bancario"
   ]
  },
  {
   "cell_type": "markdown",
   "metadata": {},
   "source": [
    "## Bases de comportamiento\n",
    "A estos clientes ya le dieron el prestamo, ven el comportamiento del clientes una vez que se les dio el crédito"
   ]
  },
  {
   "cell_type": "markdown",
   "metadata": {},
   "source": [
    "### Base comportamiento 2\n",
    "**num_caso**: Es el id \n",
    "\n",
    "**Tiempo_aparicion**: Número de veces que aparece en la base, edad del crédito"
   ]
  },
  {
   "cell_type": "code",
   "execution_count": 3,
   "metadata": {},
   "outputs": [
    {
     "data": {
      "text/html": [
       "<div>\n",
       "<style scoped>\n",
       "    .dataframe tbody tr th:only-of-type {\n",
       "        vertical-align: middle;\n",
       "    }\n",
       "\n",
       "    .dataframe tbody tr th {\n",
       "        vertical-align: top;\n",
       "    }\n",
       "\n",
       "    .dataframe thead th {\n",
       "        text-align: right;\n",
       "    }\n",
       "</style>\n",
       "<table border=\"1\" class=\"dataframe\">\n",
       "  <thead>\n",
       "    <tr style=\"text-align: right;\">\n",
       "      <th></th>\n",
       "      <th>num_caso</th>\n",
       "      <th>mes_informacion</th>\n",
       "      <th>Tiempo_aparicion</th>\n",
       "    </tr>\n",
       "  </thead>\n",
       "  <tbody>\n",
       "    <tr>\n",
       "      <th>0</th>\n",
       "      <td>1</td>\n",
       "      <td>2016-04-01 00:00:00</td>\n",
       "      <td>0.0</td>\n",
       "    </tr>\n",
       "    <tr>\n",
       "      <th>1</th>\n",
       "      <td>1</td>\n",
       "      <td>2016-05-01 00:00:00</td>\n",
       "      <td>1.0</td>\n",
       "    </tr>\n",
       "    <tr>\n",
       "      <th>2</th>\n",
       "      <td>1</td>\n",
       "      <td>2016-06-01 00:00:00</td>\n",
       "      <td>2.0</td>\n",
       "    </tr>\n",
       "    <tr>\n",
       "      <th>3</th>\n",
       "      <td>1</td>\n",
       "      <td>2016-07-01 00:00:00</td>\n",
       "      <td>3.0</td>\n",
       "    </tr>\n",
       "    <tr>\n",
       "      <th>4</th>\n",
       "      <td>1</td>\n",
       "      <td>2016-08-01 00:00:00</td>\n",
       "      <td>4.0</td>\n",
       "    </tr>\n",
       "  </tbody>\n",
       "</table>\n",
       "</div>"
      ],
      "text/plain": [
       "   num_caso      mes_informacion  Tiempo_aparicion\n",
       "0         1  2016-04-01 00:00:00               0.0\n",
       "1         1  2016-05-01 00:00:00               1.0\n",
       "2         1  2016-06-01 00:00:00               2.0\n",
       "3         1  2016-07-01 00:00:00               3.0\n",
       "4         1  2016-08-01 00:00:00               4.0"
      ]
     },
     "execution_count": 3,
     "metadata": {},
     "output_type": "execute_result"
    }
   ],
   "source": [
    "#Base comportamiento 2\n",
    "#Primeros renglones\n",
    "base_comportamiento_2.head()"
   ]
  },
  {
   "cell_type": "code",
   "execution_count": 4,
   "metadata": {},
   "outputs": [
    {
     "data": {
      "text/plain": [
       "array([    1,     7,     8, ..., 98990, 98992, 98997], dtype=int64)"
      ]
     },
     "execution_count": 4,
     "metadata": {},
     "output_type": "execute_result"
    }
   ],
   "source": [
    "base_comportamiento_2['num_caso'].unique()"
   ]
  },
  {
   "cell_type": "code",
   "execution_count": 5,
   "metadata": {},
   "outputs": [
    {
     "data": {
      "text/plain": [
       "49352"
      ]
     },
     "execution_count": 5,
     "metadata": {},
     "output_type": "execute_result"
    }
   ],
   "source": [
    "len(base_comportamiento_2['num_caso'].unique())"
   ]
  },
  {
   "cell_type": "code",
   "execution_count": 6,
   "metadata": {},
   "outputs": [
    {
     "data": {
      "text/plain": [
       "(1455536, 3)"
      ]
     },
     "execution_count": 6,
     "metadata": {},
     "output_type": "execute_result"
    }
   ],
   "source": [
    "#Dimensiones\n",
    "base_comportamiento_2.shape"
   ]
  },
  {
   "cell_type": "code",
   "execution_count": 7,
   "metadata": {},
   "outputs": [
    {
     "data": {
      "text/plain": [
       "num_caso              int64\n",
       "mes_informacion      object\n",
       "Tiempo_aparicion    float64\n",
       "dtype: object"
      ]
     },
     "execution_count": 7,
     "metadata": {},
     "output_type": "execute_result"
    }
   ],
   "source": [
    "#Tipos de datos\n",
    "base_comportamiento_2.dtypes"
   ]
  },
  {
   "cell_type": "markdown",
   "metadata": {},
   "source": [
    "### Base comportamiento 3\n",
    "Nos dice una vez que le dimos el credito al cliente se registra si pago o no pago el cliente, 0 es pago, no pago es 1"
   ]
  },
  {
   "cell_type": "code",
   "execution_count": 8,
   "metadata": {},
   "outputs": [
    {
     "data": {
      "text/html": [
       "<div>\n",
       "<style scoped>\n",
       "    .dataframe tbody tr th:only-of-type {\n",
       "        vertical-align: middle;\n",
       "    }\n",
       "\n",
       "    .dataframe tbody tr th {\n",
       "        vertical-align: top;\n",
       "    }\n",
       "\n",
       "    .dataframe thead th {\n",
       "        text-align: right;\n",
       "    }\n",
       "</style>\n",
       "<table border=\"1\" class=\"dataframe\">\n",
       "  <thead>\n",
       "    <tr style=\"text-align: right;\">\n",
       "      <th></th>\n",
       "      <th>num_caso</th>\n",
       "      <th>mes_informacion</th>\n",
       "      <th>comportamiento_j</th>\n",
       "    </tr>\n",
       "  </thead>\n",
       "  <tbody>\n",
       "    <tr>\n",
       "      <th>0</th>\n",
       "      <td>1</td>\n",
       "      <td>2016-04-01 00:00:00</td>\n",
       "      <td>0.0</td>\n",
       "    </tr>\n",
       "    <tr>\n",
       "      <th>1</th>\n",
       "      <td>1</td>\n",
       "      <td>2016-05-01 00:00:00</td>\n",
       "      <td>0.0</td>\n",
       "    </tr>\n",
       "    <tr>\n",
       "      <th>2</th>\n",
       "      <td>1</td>\n",
       "      <td>2016-06-01 00:00:00</td>\n",
       "      <td>0.0</td>\n",
       "    </tr>\n",
       "    <tr>\n",
       "      <th>3</th>\n",
       "      <td>1</td>\n",
       "      <td>2016-07-01 00:00:00</td>\n",
       "      <td>0.0</td>\n",
       "    </tr>\n",
       "    <tr>\n",
       "      <th>4</th>\n",
       "      <td>1</td>\n",
       "      <td>2016-08-01 00:00:00</td>\n",
       "      <td>0.0</td>\n",
       "    </tr>\n",
       "  </tbody>\n",
       "</table>\n",
       "</div>"
      ],
      "text/plain": [
       "   num_caso      mes_informacion  comportamiento_j\n",
       "0         1  2016-04-01 00:00:00               0.0\n",
       "1         1  2016-05-01 00:00:00               0.0\n",
       "2         1  2016-06-01 00:00:00               0.0\n",
       "3         1  2016-07-01 00:00:00               0.0\n",
       "4         1  2016-08-01 00:00:00               0.0"
      ]
     },
     "execution_count": 8,
     "metadata": {},
     "output_type": "execute_result"
    }
   ],
   "source": [
    "base_comportamiento_3.head()"
   ]
  },
  {
   "cell_type": "code",
   "execution_count": 9,
   "metadata": {},
   "outputs": [
    {
     "data": {
      "text/plain": [
       "array([    1,     7,     8, ..., 98990, 98992, 98997], dtype=int64)"
      ]
     },
     "execution_count": 9,
     "metadata": {},
     "output_type": "execute_result"
    }
   ],
   "source": [
    "base_comportamiento_3['num_caso'].unique()"
   ]
  },
  {
   "cell_type": "code",
   "execution_count": 10,
   "metadata": {},
   "outputs": [
    {
     "data": {
      "text/plain": [
       "49352"
      ]
     },
     "execution_count": 10,
     "metadata": {},
     "output_type": "execute_result"
    }
   ],
   "source": [
    "len(base_comportamiento_3['num_caso'].unique())"
   ]
  },
  {
   "cell_type": "code",
   "execution_count": 11,
   "metadata": {},
   "outputs": [
    {
     "data": {
      "text/plain": [
       "(1455536, 3)"
      ]
     },
     "execution_count": 11,
     "metadata": {},
     "output_type": "execute_result"
    }
   ],
   "source": [
    "#Dimensiones\n",
    "base_comportamiento_3.shape"
   ]
  },
  {
   "cell_type": "code",
   "execution_count": 12,
   "metadata": {},
   "outputs": [
    {
     "data": {
      "text/plain": [
       "array([ 0.,  1.,  2.,  3.,  4.,  5.,  6.,  7.,  8.,  9., 13., 10., 12.,\n",
       "       16., 18., 14., 15., 11.])"
      ]
     },
     "execution_count": 12,
     "metadata": {},
     "output_type": "execute_result"
    }
   ],
   "source": [
    "base_comportamiento_3['comportamiento_j'].unique()"
   ]
  },
  {
   "cell_type": "code",
   "execution_count": 13,
   "metadata": {},
   "outputs": [
    {
     "data": {
      "text/plain": [
       "num_caso              int64\n",
       "mes_informacion      object\n",
       "comportamiento_j    float64\n",
       "dtype: object"
      ]
     },
     "execution_count": 13,
     "metadata": {},
     "output_type": "execute_result"
    }
   ],
   "source": [
    "#Tipos de datos\n",
    "base_comportamiento_3.dtypes"
   ]
  },
  {
   "cell_type": "markdown",
   "metadata": {},
   "source": [
    "### CRUCE DE BASES 1"
   ]
  },
  {
   "cell_type": "markdown",
   "metadata": {},
   "source": [
    "Las bases 2 y 3 tienen el mismo número de registros y tratan sobre los mismos registros, haremos la unión de estas bases basandonos en la fecha y el número de caso, pero primero convertimos a fecha las columnas mes_informacion"
   ]
  },
  {
   "cell_type": "code",
   "execution_count": 14,
   "metadata": {},
   "outputs": [],
   "source": [
    "#convertimos en fecha la variable mes_información\n",
    "base_comportamiento_2['mes_informacion']=pd.to_datetime(base_comportamiento_2['mes_informacion'])"
   ]
  },
  {
   "cell_type": "code",
   "execution_count": 15,
   "metadata": {},
   "outputs": [],
   "source": [
    "#Convertimos en fecha la columna mes informacion\n",
    "base_comportamiento_3['mes_informacion']=pd.to_datetime(base_comportamiento_3['mes_informacion'])"
   ]
  },
  {
   "cell_type": "code",
   "execution_count": 16,
   "metadata": {},
   "outputs": [],
   "source": [
    "base_comportamiento=pd.merge(base_comportamiento_2,base_comportamiento_3,on=['num_caso','mes_informacion'])"
   ]
  },
  {
   "cell_type": "code",
   "execution_count": 17,
   "metadata": {},
   "outputs": [
    {
     "data": {
      "text/html": [
       "<div>\n",
       "<style scoped>\n",
       "    .dataframe tbody tr th:only-of-type {\n",
       "        vertical-align: middle;\n",
       "    }\n",
       "\n",
       "    .dataframe tbody tr th {\n",
       "        vertical-align: top;\n",
       "    }\n",
       "\n",
       "    .dataframe thead th {\n",
       "        text-align: right;\n",
       "    }\n",
       "</style>\n",
       "<table border=\"1\" class=\"dataframe\">\n",
       "  <thead>\n",
       "    <tr style=\"text-align: right;\">\n",
       "      <th></th>\n",
       "      <th>num_caso</th>\n",
       "      <th>mes_informacion</th>\n",
       "      <th>Tiempo_aparicion</th>\n",
       "      <th>comportamiento_j</th>\n",
       "    </tr>\n",
       "  </thead>\n",
       "  <tbody>\n",
       "    <tr>\n",
       "      <th>0</th>\n",
       "      <td>1</td>\n",
       "      <td>2016-04-01</td>\n",
       "      <td>0.0</td>\n",
       "      <td>0.0</td>\n",
       "    </tr>\n",
       "    <tr>\n",
       "      <th>1</th>\n",
       "      <td>1</td>\n",
       "      <td>2016-05-01</td>\n",
       "      <td>1.0</td>\n",
       "      <td>0.0</td>\n",
       "    </tr>\n",
       "    <tr>\n",
       "      <th>2</th>\n",
       "      <td>1</td>\n",
       "      <td>2016-06-01</td>\n",
       "      <td>2.0</td>\n",
       "      <td>0.0</td>\n",
       "    </tr>\n",
       "    <tr>\n",
       "      <th>3</th>\n",
       "      <td>1</td>\n",
       "      <td>2016-07-01</td>\n",
       "      <td>3.0</td>\n",
       "      <td>0.0</td>\n",
       "    </tr>\n",
       "    <tr>\n",
       "      <th>4</th>\n",
       "      <td>1</td>\n",
       "      <td>2016-08-01</td>\n",
       "      <td>4.0</td>\n",
       "      <td>0.0</td>\n",
       "    </tr>\n",
       "  </tbody>\n",
       "</table>\n",
       "</div>"
      ],
      "text/plain": [
       "   num_caso mes_informacion  Tiempo_aparicion  comportamiento_j\n",
       "0         1      2016-04-01               0.0               0.0\n",
       "1         1      2016-05-01               1.0               0.0\n",
       "2         1      2016-06-01               2.0               0.0\n",
       "3         1      2016-07-01               3.0               0.0\n",
       "4         1      2016-08-01               4.0               0.0"
      ]
     },
     "execution_count": 17,
     "metadata": {},
     "output_type": "execute_result"
    }
   ],
   "source": [
    "base_comportamiento.head()"
   ]
  },
  {
   "cell_type": "code",
   "execution_count": 18,
   "metadata": {},
   "outputs": [
    {
     "data": {
      "text/plain": [
       "(1455536, 4)"
      ]
     },
     "execution_count": 18,
     "metadata": {},
     "output_type": "execute_result"
    }
   ],
   "source": [
    "base_comportamiento.shape"
   ]
  },
  {
   "cell_type": "code",
   "execution_count": 19,
   "metadata": {},
   "outputs": [
    {
     "data": {
      "text/plain": [
       "True"
      ]
     },
     "execution_count": 19,
     "metadata": {},
     "output_type": "execute_result"
    }
   ],
   "source": [
    "#Comparobamos que no perdimos datos\n",
    "len(base_comportamiento)==len(base_comportamiento_2) and len(base_comportamiento)==len(base_comportamiento_3) "
   ]
  },
  {
   "cell_type": "markdown",
   "metadata": {},
   "source": [
    "Veamos algunas estadísticas de la base de comportamiento"
   ]
  },
  {
   "cell_type": "code",
   "execution_count": 20,
   "metadata": {},
   "outputs": [
    {
     "data": {
      "image/png": "[encoded data removed]",
      "text/plain": [
       "<Figure size 432x288 with 1 Axes>"
      ]
     },
     "metadata": {
      "needs_background": "light"
     },
     "output_type": "display_data"
    }
   ],
   "source": [
    "plt.hist(base_comportamiento['Tiempo_aparicion'])\n",
    "plt.xlabel('Apariciones en la base de datos')\n",
    "plt.ylabel('Frecuencia')\n",
    "plt.show()"
   ]
  },
  {
   "cell_type": "markdown",
   "metadata": {},
   "source": [
    "Parece que la distribución del número de apariciones en la base esta sesgada hacia la izquierda"
   ]
  },
  {
   "cell_type": "code",
   "execution_count": 21,
   "metadata": {},
   "outputs": [
    {
     "name": "stdout",
     "output_type": "stream",
     "text": [
      "Promedio de veces que aparecen en la base de datos los clientes:  19.29374470985259\n"
     ]
    }
   ],
   "source": [
    "print('Promedio de veces que aparecen en la base de datos los clientes: ',base_comportamiento['Tiempo_aparicion'].mean())"
   ]
  },
  {
   "cell_type": "code",
   "execution_count": 22,
   "metadata": {},
   "outputs": [
    {
     "name": "stdout",
     "output_type": "stream",
     "text": [
      "Mediana del número de veces que aparecen en la base de datos los clientes: 16.0\n"
     ]
    }
   ],
   "source": [
    "print('Mediana del número de veces que aparecen en la base de datos los clientes:', base_comportamiento['Tiempo_aparicion'].median())"
   ]
  },
  {
   "cell_type": "code",
   "execution_count": 23,
   "metadata": {},
   "outputs": [
    {
     "data": {
      "text/plain": [
       "0.0     1287541\n",
       "1.0      141945\n",
       "2.0       11593\n",
       "3.0        6315\n",
       "4.0        2356\n",
       "5.0        1582\n",
       "6.0        1265\n",
       "7.0        1089\n",
       "8.0         947\n",
       "9.0         854\n",
       "10.0         36\n",
       "11.0          3\n",
       "12.0          3\n",
       "18.0          2\n",
       "13.0          2\n",
       "14.0          1\n",
       "15.0          1\n",
       "16.0          1\n",
       "Name: comportamiento_j, dtype: int64"
      ]
     },
     "execution_count": 23,
     "metadata": {},
     "output_type": "execute_result"
    }
   ],
   "source": [
    "#Sacamos una tabla de frecuencias de las categorias\n",
    "base_comportamiento['comportamiento_j'].value_counts()"
   ]
  },
  {
   "cell_type": "code",
   "execution_count": 24,
   "metadata": {},
   "outputs": [
    {
     "data": {
      "image/png": "[encoded data removed]",
      "text/plain": [
       "<Figure size 432x288 with 1 Axes>"
      ]
     },
     "metadata": {
      "needs_background": "light"
     },
     "output_type": "display_data"
    }
   ],
   "source": [
    "base_comportamiento['comportamiento_j'].value_counts().plot(kind='bar')\n",
    "plt.xlabel('Apariciones en la base de datos')\n",
    "plt.ylabel('Frecuencia')\n",
    "plt.show()"
   ]
  },
  {
   "cell_type": "markdown",
   "metadata": {},
   "source": [
    "Con esto se puede ver que la mayoria de los clientes no incumplieron ni una vez con sus pagos.\n"
   ]
  },
  {
   "cell_type": "markdown",
   "metadata": {},
   "source": [
    "## Bases externas e internas"
   ]
  },
  {
   "cell_type": "markdown",
   "metadata": {},
   "source": [
    "### Base ini externa\n",
    "Simula información del cliente pero que no son datos directos dentro del banco"
   ]
  },
  {
   "cell_type": "code",
   "execution_count": 25,
   "metadata": {},
   "outputs": [
    {
     "data": {
      "text/html": [
       "<div>\n",
       "<style scoped>\n",
       "    .dataframe tbody tr th:only-of-type {\n",
       "        vertical-align: middle;\n",
       "    }\n",
       "\n",
       "    .dataframe tbody tr th {\n",
       "        vertical-align: top;\n",
       "    }\n",
       "\n",
       "    .dataframe thead th {\n",
       "        text-align: right;\n",
       "    }\n",
       "</style>\n",
       "<table border=\"1\" class=\"dataframe\">\n",
       "  <thead>\n",
       "    <tr style=\"text-align: right;\">\n",
       "      <th></th>\n",
       "      <th>_id_</th>\n",
       "      <th>comp_externo1</th>\n",
       "      <th>comp_externo2</th>\n",
       "      <th>comp_externo3</th>\n",
       "      <th>comp_externo4</th>\n",
       "    </tr>\n",
       "  </thead>\n",
       "  <tbody>\n",
       "    <tr>\n",
       "      <th>0</th>\n",
       "      <td>78213</td>\n",
       "      <td>260.869565</td>\n",
       "      <td>25.854639</td>\n",
       "      <td>56.0</td>\n",
       "      <td>-230.0</td>\n",
       "    </tr>\n",
       "    <tr>\n",
       "      <th>1</th>\n",
       "      <td>76457</td>\n",
       "      <td>40.579710</td>\n",
       "      <td>2.872738</td>\n",
       "      <td>62.0</td>\n",
       "      <td>-230.0</td>\n",
       "    </tr>\n",
       "    <tr>\n",
       "      <th>2</th>\n",
       "      <td>40666</td>\n",
       "      <td>NaN</td>\n",
       "      <td>NaN</td>\n",
       "      <td>119.0</td>\n",
       "      <td>-230.0</td>\n",
       "    </tr>\n",
       "    <tr>\n",
       "      <th>3</th>\n",
       "      <td>8329</td>\n",
       "      <td>349.275362</td>\n",
       "      <td>34.616490</td>\n",
       "      <td>94.0</td>\n",
       "      <td>-230.0</td>\n",
       "    </tr>\n",
       "    <tr>\n",
       "      <th>4</th>\n",
       "      <td>68389</td>\n",
       "      <td>276.811594</td>\n",
       "      <td>27.434645</td>\n",
       "      <td>125.0</td>\n",
       "      <td>-230.0</td>\n",
       "    </tr>\n",
       "  </tbody>\n",
       "</table>\n",
       "</div>"
      ],
      "text/plain": [
       "    _id_  comp_externo1  comp_externo2  comp_externo3  comp_externo4\n",
       "0  78213     260.869565      25.854639           56.0         -230.0\n",
       "1  76457      40.579710       2.872738           62.0         -230.0\n",
       "2  40666            NaN            NaN          119.0         -230.0\n",
       "3   8329     349.275362      34.616490           94.0         -230.0\n",
       "4  68389     276.811594      27.434645          125.0         -230.0"
      ]
     },
     "execution_count": 25,
     "metadata": {},
     "output_type": "execute_result"
    }
   ],
   "source": [
    "#Primeros renglones\n",
    "base_ini_externa.head()"
   ]
  },
  {
   "cell_type": "code",
   "execution_count": 26,
   "metadata": {},
   "outputs": [
    {
     "data": {
      "text/plain": [
       "(50000, 5)"
      ]
     },
     "execution_count": 26,
     "metadata": {},
     "output_type": "execute_result"
    }
   ],
   "source": [
    "#Dimensiones\n",
    "base_ini_externa.shape"
   ]
  },
  {
   "cell_type": "code",
   "execution_count": 27,
   "metadata": {},
   "outputs": [
    {
     "data": {
      "text/plain": [
       "_id_               int64\n",
       "comp_externo1    float64\n",
       "comp_externo2    float64\n",
       "comp_externo3    float64\n",
       "comp_externo4    float64\n",
       "dtype: object"
      ]
     },
     "execution_count": 27,
     "metadata": {},
     "output_type": "execute_result"
    }
   ],
   "source": [
    "#Tipos de datos\n",
    "base_ini_externa.dtypes"
   ]
  },
  {
   "cell_type": "markdown",
   "metadata": {},
   "source": [
    "### Base ini interna\n",
    "Base que registra el momento en el que el cliente va a el banco a solicitar un crédito\n",
    "\n",
    "**com_interno1**: Variable que el cliente tiene actualmente en la empresa\n",
    "\n",
    "**com_interno2,3,4**: Van sobre el tipo de crédito que solicito el cliente\n",
    "\n",
    "**categoria1,2,3**: Variables categórica"
   ]
  },
  {
   "cell_type": "code",
   "execution_count": 28,
   "metadata": {},
   "outputs": [
    {
     "data": {
      "text/html": [
       "<div>\n",
       "<style scoped>\n",
       "    .dataframe tbody tr th:only-of-type {\n",
       "        vertical-align: middle;\n",
       "    }\n",
       "\n",
       "    .dataframe tbody tr th {\n",
       "        vertical-align: top;\n",
       "    }\n",
       "\n",
       "    .dataframe thead th {\n",
       "        text-align: right;\n",
       "    }\n",
       "</style>\n",
       "<table border=\"1\" class=\"dataframe\">\n",
       "  <thead>\n",
       "    <tr style=\"text-align: right;\">\n",
       "      <th></th>\n",
       "      <th>_id_</th>\n",
       "      <th>fecha_inicio</th>\n",
       "      <th>comp_interno1</th>\n",
       "      <th>comp_interno2</th>\n",
       "      <th>comp_interno3</th>\n",
       "      <th>comp_interno4</th>\n",
       "      <th>categoria1</th>\n",
       "      <th>categoria2</th>\n",
       "      <th>categoria3</th>\n",
       "    </tr>\n",
       "  </thead>\n",
       "  <tbody>\n",
       "    <tr>\n",
       "      <th>0</th>\n",
       "      <td>78213</td>\n",
       "      <td>2020-03-25</td>\n",
       "      <td>0.000000</td>\n",
       "      <td>b'0'</td>\n",
       "      <td>11.0</td>\n",
       "      <td>58.0</td>\n",
       "      <td>2.0</td>\n",
       "      <td>9.0</td>\n",
       "      <td>156.0</td>\n",
       "    </tr>\n",
       "    <tr>\n",
       "      <th>1</th>\n",
       "      <td>76457</td>\n",
       "      <td>2020-02-13</td>\n",
       "      <td>0.000000</td>\n",
       "      <td>b'1'</td>\n",
       "      <td>28.0</td>\n",
       "      <td>45.0</td>\n",
       "      <td>1.0</td>\n",
       "      <td>4.0</td>\n",
       "      <td>173.0</td>\n",
       "    </tr>\n",
       "    <tr>\n",
       "      <th>2</th>\n",
       "      <td>40666</td>\n",
       "      <td>2018-01-24</td>\n",
       "      <td>0.000000</td>\n",
       "      <td>b'1'</td>\n",
       "      <td>25.0</td>\n",
       "      <td>45.0</td>\n",
       "      <td>1.0</td>\n",
       "      <td>9.0</td>\n",
       "      <td>170.0</td>\n",
       "    </tr>\n",
       "    <tr>\n",
       "      <th>3</th>\n",
       "      <td>8329</td>\n",
       "      <td>2016-10-07</td>\n",
       "      <td>0.000000</td>\n",
       "      <td>b'1'</td>\n",
       "      <td>14.0</td>\n",
       "      <td>59.0</td>\n",
       "      <td>3.0</td>\n",
       "      <td>3.0</td>\n",
       "      <td>159.0</td>\n",
       "    </tr>\n",
       "    <tr>\n",
       "      <th>4</th>\n",
       "      <td>68389</td>\n",
       "      <td>2019-07-30</td>\n",
       "      <td>2026.342452</td>\n",
       "      <td>b'1'</td>\n",
       "      <td>1.0</td>\n",
       "      <td>67.0</td>\n",
       "      <td>2.0</td>\n",
       "      <td>9.0</td>\n",
       "      <td>146.0</td>\n",
       "    </tr>\n",
       "  </tbody>\n",
       "</table>\n",
       "</div>"
      ],
      "text/plain": [
       "    _id_ fecha_inicio  comp_interno1 comp_interno2  comp_interno3  \\\n",
       "0  78213   2020-03-25       0.000000          b'0'           11.0   \n",
       "1  76457   2020-02-13       0.000000          b'1'           28.0   \n",
       "2  40666   2018-01-24       0.000000          b'1'           25.0   \n",
       "3   8329   2016-10-07       0.000000          b'1'           14.0   \n",
       "4  68389   2019-07-30    2026.342452          b'1'            1.0   \n",
       "\n",
       "   comp_interno4  categoria1  categoria2  categoria3  \n",
       "0           58.0         2.0         9.0       156.0  \n",
       "1           45.0         1.0         4.0       173.0  \n",
       "2           45.0         1.0         9.0       170.0  \n",
       "3           59.0         3.0         3.0       159.0  \n",
       "4           67.0         2.0         9.0       146.0  "
      ]
     },
     "execution_count": 28,
     "metadata": {},
     "output_type": "execute_result"
    }
   ],
   "source": [
    "#Primeros renglones\n",
    "base_ini_interna.head()"
   ]
  },
  {
   "cell_type": "code",
   "execution_count": 29,
   "metadata": {},
   "outputs": [
    {
     "data": {
      "text/plain": [
       "(50000, 9)"
      ]
     },
     "execution_count": 29,
     "metadata": {},
     "output_type": "execute_result"
    }
   ],
   "source": [
    "#Dimensiones\n",
    "base_ini_interna.shape"
   ]
  },
  {
   "cell_type": "code",
   "execution_count": 30,
   "metadata": {},
   "outputs": [
    {
     "data": {
      "text/plain": [
       "_id_               int64\n",
       "fecha_inicio      object\n",
       "comp_interno1    float64\n",
       "comp_interno2     object\n",
       "comp_interno3    float64\n",
       "comp_interno4    float64\n",
       "categoria1       float64\n",
       "categoria2       float64\n",
       "categoria3       float64\n",
       "dtype: object"
      ]
     },
     "execution_count": 30,
     "metadata": {},
     "output_type": "execute_result"
    }
   ],
   "source": [
    "#Tipos de datos\n",
    "base_ini_interna.dtypes"
   ]
  },
  {
   "cell_type": "markdown",
   "metadata": {},
   "source": [
    "### Base ini parte 1\n",
    "**comp_mixto1**: Representa información del cliente dentro de la empresa y fuera de la misma"
   ]
  },
  {
   "cell_type": "code",
   "execution_count": 31,
   "metadata": {},
   "outputs": [
    {
     "data": {
      "text/html": [
       "<div>\n",
       "<style scoped>\n",
       "    .dataframe tbody tr th:only-of-type {\n",
       "        vertical-align: middle;\n",
       "    }\n",
       "\n",
       "    .dataframe tbody tr th {\n",
       "        vertical-align: top;\n",
       "    }\n",
       "\n",
       "    .dataframe thead th {\n",
       "        text-align: right;\n",
       "    }\n",
       "</style>\n",
       "<table border=\"1\" class=\"dataframe\">\n",
       "  <thead>\n",
       "    <tr style=\"text-align: right;\">\n",
       "      <th></th>\n",
       "      <th>_id_</th>\n",
       "      <th>_id2_</th>\n",
       "      <th>comp_mixto1</th>\n",
       "    </tr>\n",
       "  </thead>\n",
       "  <tbody>\n",
       "    <tr>\n",
       "      <th>0</th>\n",
       "      <td>78213</td>\n",
       "      <td>1798899</td>\n",
       "      <td>0.33522</td>\n",
       "    </tr>\n",
       "    <tr>\n",
       "      <th>1</th>\n",
       "      <td>76457</td>\n",
       "      <td>1758511</td>\n",
       "      <td>0.33334</td>\n",
       "    </tr>\n",
       "    <tr>\n",
       "      <th>2</th>\n",
       "      <td>40666</td>\n",
       "      <td>935318</td>\n",
       "      <td>0.29186</td>\n",
       "    </tr>\n",
       "    <tr>\n",
       "      <th>3</th>\n",
       "      <td>8329</td>\n",
       "      <td>191567</td>\n",
       "      <td>0.29112</td>\n",
       "    </tr>\n",
       "    <tr>\n",
       "      <th>4</th>\n",
       "      <td>68389</td>\n",
       "      <td>1572947</td>\n",
       "      <td>0.27318</td>\n",
       "    </tr>\n",
       "  </tbody>\n",
       "</table>\n",
       "</div>"
      ],
      "text/plain": [
       "    _id_    _id2_  comp_mixto1\n",
       "0  78213  1798899      0.33522\n",
       "1  76457  1758511      0.33334\n",
       "2  40666   935318      0.29186\n",
       "3   8329   191567      0.29112\n",
       "4  68389  1572947      0.27318"
      ]
     },
     "execution_count": 31,
     "metadata": {},
     "output_type": "execute_result"
    }
   ],
   "source": [
    "base_ini_parte1.head()"
   ]
  },
  {
   "cell_type": "code",
   "execution_count": 32,
   "metadata": {},
   "outputs": [
    {
     "data": {
      "text/plain": [
       "(50000, 3)"
      ]
     },
     "execution_count": 32,
     "metadata": {},
     "output_type": "execute_result"
    }
   ],
   "source": [
    "base_ini_parte1.shape"
   ]
  },
  {
   "cell_type": "markdown",
   "metadata": {},
   "source": [
    "### Base inversion\n",
    "Inversión del cliente en el banco"
   ]
  },
  {
   "cell_type": "code",
   "execution_count": 33,
   "metadata": {},
   "outputs": [
    {
     "data": {
      "text/html": [
       "<div>\n",
       "<style scoped>\n",
       "    .dataframe tbody tr th:only-of-type {\n",
       "        vertical-align: middle;\n",
       "    }\n",
       "\n",
       "    .dataframe tbody tr th {\n",
       "        vertical-align: top;\n",
       "    }\n",
       "\n",
       "    .dataframe thead th {\n",
       "        text-align: right;\n",
       "    }\n",
       "</style>\n",
       "<table border=\"1\" class=\"dataframe\">\n",
       "  <thead>\n",
       "    <tr style=\"text-align: right;\">\n",
       "      <th></th>\n",
       "      <th>_id2_</th>\n",
       "      <th>inversion</th>\n",
       "    </tr>\n",
       "  </thead>\n",
       "  <tbody>\n",
       "    <tr>\n",
       "      <th>0</th>\n",
       "      <td>1758511</td>\n",
       "      <td>0.041039</td>\n",
       "    </tr>\n",
       "    <tr>\n",
       "      <th>1</th>\n",
       "      <td>1572947</td>\n",
       "      <td>77.422135</td>\n",
       "    </tr>\n",
       "    <tr>\n",
       "      <th>2</th>\n",
       "      <td>1051836</td>\n",
       "      <td>90.539953</td>\n",
       "    </tr>\n",
       "    <tr>\n",
       "      <th>3</th>\n",
       "      <td>1223255</td>\n",
       "      <td>90.205018</td>\n",
       "    </tr>\n",
       "    <tr>\n",
       "      <th>4</th>\n",
       "      <td>1894602</td>\n",
       "      <td>1.071354</td>\n",
       "    </tr>\n",
       "  </tbody>\n",
       "</table>\n",
       "</div>"
      ],
      "text/plain": [
       "     _id2_  inversion\n",
       "0  1758511   0.041039\n",
       "1  1572947  77.422135\n",
       "2  1051836  90.539953\n",
       "3  1223255  90.205018\n",
       "4  1894602   1.071354"
      ]
     },
     "execution_count": 33,
     "metadata": {},
     "output_type": "execute_result"
    }
   ],
   "source": [
    "base_inversion.head()"
   ]
  },
  {
   "cell_type": "code",
   "execution_count": 34,
   "metadata": {},
   "outputs": [
    {
     "data": {
      "text/plain": [
       "(17536, 2)"
      ]
     },
     "execution_count": 34,
     "metadata": {},
     "output_type": "execute_result"
    }
   ],
   "source": [
    "base_inversion.shape"
   ]
  },
  {
   "cell_type": "code",
   "execution_count": 35,
   "metadata": {},
   "outputs": [
    {
     "data": {
      "text/plain": [
       "_id2_          int64\n",
       "inversion    float64\n",
       "dtype: object"
      ]
     },
     "execution_count": 35,
     "metadata": {},
     "output_type": "execute_result"
    }
   ],
   "source": [
    "base_inversion.dtypes"
   ]
  },
  {
   "cell_type": "markdown",
   "metadata": {},
   "source": [
    "### bd inicio parte1\n"
   ]
  },
  {
   "cell_type": "code",
   "execution_count": 36,
   "metadata": {},
   "outputs": [
    {
     "data": {
      "text/html": [
       "<div>\n",
       "<style scoped>\n",
       "    .dataframe tbody tr th:only-of-type {\n",
       "        vertical-align: middle;\n",
       "    }\n",
       "\n",
       "    .dataframe tbody tr th {\n",
       "        vertical-align: top;\n",
       "    }\n",
       "\n",
       "    .dataframe thead th {\n",
       "        text-align: right;\n",
       "    }\n",
       "</style>\n",
       "<table border=\"1\" class=\"dataframe\">\n",
       "  <thead>\n",
       "    <tr style=\"text-align: right;\">\n",
       "      <th></th>\n",
       "      <th>_id_</th>\n",
       "      <th>comp_interno4</th>\n",
       "    </tr>\n",
       "  </thead>\n",
       "  <tbody>\n",
       "    <tr>\n",
       "      <th>0</th>\n",
       "      <td>78213</td>\n",
       "      <td>58.0</td>\n",
       "    </tr>\n",
       "    <tr>\n",
       "      <th>1</th>\n",
       "      <td>76457</td>\n",
       "      <td>45.0</td>\n",
       "    </tr>\n",
       "    <tr>\n",
       "      <th>2</th>\n",
       "      <td>40666</td>\n",
       "      <td>45.0</td>\n",
       "    </tr>\n",
       "    <tr>\n",
       "      <th>3</th>\n",
       "      <td>8329</td>\n",
       "      <td>59.0</td>\n",
       "    </tr>\n",
       "    <tr>\n",
       "      <th>4</th>\n",
       "      <td>68389</td>\n",
       "      <td>67.0</td>\n",
       "    </tr>\n",
       "  </tbody>\n",
       "</table>\n",
       "</div>"
      ],
      "text/plain": [
       "    _id_  comp_interno4\n",
       "0  78213           58.0\n",
       "1  76457           45.0\n",
       "2  40666           45.0\n",
       "3   8329           59.0\n",
       "4  68389           67.0"
      ]
     },
     "execution_count": 36,
     "metadata": {},
     "output_type": "execute_result"
    }
   ],
   "source": [
    "bd_inicio_parte1.head()"
   ]
  },
  {
   "cell_type": "code",
   "execution_count": 37,
   "metadata": {},
   "outputs": [
    {
     "data": {
      "text/plain": [
       "(50000, 2)"
      ]
     },
     "execution_count": 37,
     "metadata": {},
     "output_type": "execute_result"
    }
   ],
   "source": [
    "bd_inicio_parte1.shape"
   ]
  },
  {
   "cell_type": "code",
   "execution_count": 38,
   "metadata": {},
   "outputs": [
    {
     "data": {
      "text/plain": [
       "_id_               int64\n",
       "comp_interno4    float64\n",
       "dtype: object"
      ]
     },
     "execution_count": 38,
     "metadata": {},
     "output_type": "execute_result"
    }
   ],
   "source": [
    "bd_inicio_parte1.dtypes"
   ]
  },
  {
   "cell_type": "markdown",
   "metadata": {},
   "source": [
    "### CRUCE DE BASES 2"
   ]
  },
  {
   "cell_type": "markdown",
   "metadata": {},
   "source": [
    "Todas las bases tienen el mismo número de registros exepto la base de inversiones por lo que aquí conviene hacer un left join, para hacer el cruce iniciare con la base_ini_interna con la externa, de ahí con la base inicio parte 1, de ahí con la base ini parte 1 y al final con la base inversión.\n",
    "Los primeros cruces van con la _id_ y el último va sobre _id2_"
   ]
  },
  {
   "cell_type": "code",
   "execution_count": 39,
   "metadata": {},
   "outputs": [],
   "source": [
    "#1er cruce\n",
    "base=pd.merge(base_ini_interna,base_ini_externa)"
   ]
  },
  {
   "cell_type": "code",
   "execution_count": 40,
   "metadata": {},
   "outputs": [
    {
     "data": {
      "text/plain": [
       "50000"
      ]
     },
     "execution_count": 40,
     "metadata": {},
     "output_type": "execute_result"
    }
   ],
   "source": [
    "#Comprobamos que no se hayan perdido bases\n",
    "len(base)"
   ]
  },
  {
   "cell_type": "code",
   "execution_count": 41,
   "metadata": {},
   "outputs": [
    {
     "data": {
      "text/html": [
       "<div>\n",
       "<style scoped>\n",
       "    .dataframe tbody tr th:only-of-type {\n",
       "        vertical-align: middle;\n",
       "    }\n",
       "\n",
       "    .dataframe tbody tr th {\n",
       "        vertical-align: top;\n",
       "    }\n",
       "\n",
       "    .dataframe thead th {\n",
       "        text-align: right;\n",
       "    }\n",
       "</style>\n",
       "<table border=\"1\" class=\"dataframe\">\n",
       "  <thead>\n",
       "    <tr style=\"text-align: right;\">\n",
       "      <th></th>\n",
       "      <th>_id_</th>\n",
       "      <th>fecha_inicio</th>\n",
       "      <th>comp_interno1</th>\n",
       "      <th>comp_interno2</th>\n",
       "      <th>comp_interno3</th>\n",
       "      <th>comp_interno4</th>\n",
       "      <th>categoria1</th>\n",
       "      <th>categoria2</th>\n",
       "      <th>categoria3</th>\n",
       "      <th>comp_externo1</th>\n",
       "      <th>comp_externo2</th>\n",
       "      <th>comp_externo3</th>\n",
       "      <th>comp_externo4</th>\n",
       "    </tr>\n",
       "  </thead>\n",
       "  <tbody>\n",
       "    <tr>\n",
       "      <th>0</th>\n",
       "      <td>78213</td>\n",
       "      <td>2020-03-25</td>\n",
       "      <td>0.000000</td>\n",
       "      <td>b'0'</td>\n",
       "      <td>11.0</td>\n",
       "      <td>58.0</td>\n",
       "      <td>2.0</td>\n",
       "      <td>9.0</td>\n",
       "      <td>156.0</td>\n",
       "      <td>260.869565</td>\n",
       "      <td>25.854639</td>\n",
       "      <td>56.0</td>\n",
       "      <td>-230.0</td>\n",
       "    </tr>\n",
       "    <tr>\n",
       "      <th>1</th>\n",
       "      <td>76457</td>\n",
       "      <td>2020-02-13</td>\n",
       "      <td>0.000000</td>\n",
       "      <td>b'1'</td>\n",
       "      <td>28.0</td>\n",
       "      <td>45.0</td>\n",
       "      <td>1.0</td>\n",
       "      <td>4.0</td>\n",
       "      <td>173.0</td>\n",
       "      <td>40.579710</td>\n",
       "      <td>2.872738</td>\n",
       "      <td>62.0</td>\n",
       "      <td>-230.0</td>\n",
       "    </tr>\n",
       "    <tr>\n",
       "      <th>2</th>\n",
       "      <td>40666</td>\n",
       "      <td>2018-01-24</td>\n",
       "      <td>0.000000</td>\n",
       "      <td>b'1'</td>\n",
       "      <td>25.0</td>\n",
       "      <td>45.0</td>\n",
       "      <td>1.0</td>\n",
       "      <td>9.0</td>\n",
       "      <td>170.0</td>\n",
       "      <td>NaN</td>\n",
       "      <td>NaN</td>\n",
       "      <td>119.0</td>\n",
       "      <td>-230.0</td>\n",
       "    </tr>\n",
       "    <tr>\n",
       "      <th>3</th>\n",
       "      <td>8329</td>\n",
       "      <td>2016-10-07</td>\n",
       "      <td>0.000000</td>\n",
       "      <td>b'1'</td>\n",
       "      <td>14.0</td>\n",
       "      <td>59.0</td>\n",
       "      <td>3.0</td>\n",
       "      <td>3.0</td>\n",
       "      <td>159.0</td>\n",
       "      <td>349.275362</td>\n",
       "      <td>34.616490</td>\n",
       "      <td>94.0</td>\n",
       "      <td>-230.0</td>\n",
       "    </tr>\n",
       "    <tr>\n",
       "      <th>4</th>\n",
       "      <td>68389</td>\n",
       "      <td>2019-07-30</td>\n",
       "      <td>2026.342452</td>\n",
       "      <td>b'1'</td>\n",
       "      <td>1.0</td>\n",
       "      <td>67.0</td>\n",
       "      <td>2.0</td>\n",
       "      <td>9.0</td>\n",
       "      <td>146.0</td>\n",
       "      <td>276.811594</td>\n",
       "      <td>27.434645</td>\n",
       "      <td>125.0</td>\n",
       "      <td>-230.0</td>\n",
       "    </tr>\n",
       "  </tbody>\n",
       "</table>\n",
       "</div>"
      ],
      "text/plain": [
       "    _id_ fecha_inicio  comp_interno1 comp_interno2  comp_interno3  \\\n",
       "0  78213   2020-03-25       0.000000          b'0'           11.0   \n",
       "1  76457   2020-02-13       0.000000          b'1'           28.0   \n",
       "2  40666   2018-01-24       0.000000          b'1'           25.0   \n",
       "3   8329   2016-10-07       0.000000          b'1'           14.0   \n",
       "4  68389   2019-07-30    2026.342452          b'1'            1.0   \n",
       "\n",
       "   comp_interno4  categoria1  categoria2  categoria3  comp_externo1  \\\n",
       "0           58.0         2.0         9.0       156.0     260.869565   \n",
       "1           45.0         1.0         4.0       173.0      40.579710   \n",
       "2           45.0         1.0         9.0       170.0            NaN   \n",
       "3           59.0         3.0         3.0       159.0     349.275362   \n",
       "4           67.0         2.0         9.0       146.0     276.811594   \n",
       "\n",
       "   comp_externo2  comp_externo3  comp_externo4  \n",
       "0      25.854639           56.0         -230.0  \n",
       "1       2.872738           62.0         -230.0  \n",
       "2            NaN          119.0         -230.0  \n",
       "3      34.616490           94.0         -230.0  \n",
       "4      27.434645          125.0         -230.0  "
      ]
     },
     "execution_count": 41,
     "metadata": {},
     "output_type": "execute_result"
    }
   ],
   "source": [
    "base.head()"
   ]
  },
  {
   "cell_type": "code",
   "execution_count": 42,
   "metadata": {},
   "outputs": [],
   "source": [
    "#2do cruce\n",
    "base=pd.merge(base,bd_inicio_parte1,on='_id_')"
   ]
  },
  {
   "cell_type": "code",
   "execution_count": 43,
   "metadata": {},
   "outputs": [
    {
     "data": {
      "text/plain": [
       "50000"
      ]
     },
     "execution_count": 43,
     "metadata": {},
     "output_type": "execute_result"
    }
   ],
   "source": [
    "#Comprobamos que no se hayan perdido bases\n",
    "len(base)"
   ]
  },
  {
   "cell_type": "code",
   "execution_count": 44,
   "metadata": {},
   "outputs": [
    {
     "data": {
      "text/html": [
       "<div>\n",
       "<style scoped>\n",
       "    .dataframe tbody tr th:only-of-type {\n",
       "        vertical-align: middle;\n",
       "    }\n",
       "\n",
       "    .dataframe tbody tr th {\n",
       "        vertical-align: top;\n",
       "    }\n",
       "\n",
       "    .dataframe thead th {\n",
       "        text-align: right;\n",
       "    }\n",
       "</style>\n",
       "<table border=\"1\" class=\"dataframe\">\n",
       "  <thead>\n",
       "    <tr style=\"text-align: right;\">\n",
       "      <th></th>\n",
       "      <th>_id_</th>\n",
       "      <th>fecha_inicio</th>\n",
       "      <th>comp_interno1</th>\n",
       "      <th>comp_interno2</th>\n",
       "      <th>comp_interno3</th>\n",
       "      <th>comp_interno4_x</th>\n",
       "      <th>categoria1</th>\n",
       "      <th>categoria2</th>\n",
       "      <th>categoria3</th>\n",
       "      <th>comp_externo1</th>\n",
       "      <th>comp_externo2</th>\n",
       "      <th>comp_externo3</th>\n",
       "      <th>comp_externo4</th>\n",
       "      <th>comp_interno4_y</th>\n",
       "    </tr>\n",
       "  </thead>\n",
       "  <tbody>\n",
       "    <tr>\n",
       "      <th>0</th>\n",
       "      <td>78213</td>\n",
       "      <td>2020-03-25</td>\n",
       "      <td>0.000000</td>\n",
       "      <td>b'0'</td>\n",
       "      <td>11.0</td>\n",
       "      <td>58.0</td>\n",
       "      <td>2.0</td>\n",
       "      <td>9.0</td>\n",
       "      <td>156.0</td>\n",
       "      <td>260.869565</td>\n",
       "      <td>25.854639</td>\n",
       "      <td>56.0</td>\n",
       "      <td>-230.0</td>\n",
       "      <td>58.0</td>\n",
       "    </tr>\n",
       "    <tr>\n",
       "      <th>1</th>\n",
       "      <td>76457</td>\n",
       "      <td>2020-02-13</td>\n",
       "      <td>0.000000</td>\n",
       "      <td>b'1'</td>\n",
       "      <td>28.0</td>\n",
       "      <td>45.0</td>\n",
       "      <td>1.0</td>\n",
       "      <td>4.0</td>\n",
       "      <td>173.0</td>\n",
       "      <td>40.579710</td>\n",
       "      <td>2.872738</td>\n",
       "      <td>62.0</td>\n",
       "      <td>-230.0</td>\n",
       "      <td>45.0</td>\n",
       "    </tr>\n",
       "    <tr>\n",
       "      <th>2</th>\n",
       "      <td>40666</td>\n",
       "      <td>2018-01-24</td>\n",
       "      <td>0.000000</td>\n",
       "      <td>b'1'</td>\n",
       "      <td>25.0</td>\n",
       "      <td>45.0</td>\n",
       "      <td>1.0</td>\n",
       "      <td>9.0</td>\n",
       "      <td>170.0</td>\n",
       "      <td>NaN</td>\n",
       "      <td>NaN</td>\n",
       "      <td>119.0</td>\n",
       "      <td>-230.0</td>\n",
       "      <td>45.0</td>\n",
       "    </tr>\n",
       "    <tr>\n",
       "      <th>3</th>\n",
       "      <td>8329</td>\n",
       "      <td>2016-10-07</td>\n",
       "      <td>0.000000</td>\n",
       "      <td>b'1'</td>\n",
       "      <td>14.0</td>\n",
       "      <td>59.0</td>\n",
       "      <td>3.0</td>\n",
       "      <td>3.0</td>\n",
       "      <td>159.0</td>\n",
       "      <td>349.275362</td>\n",
       "      <td>34.616490</td>\n",
       "      <td>94.0</td>\n",
       "      <td>-230.0</td>\n",
       "      <td>59.0</td>\n",
       "    </tr>\n",
       "    <tr>\n",
       "      <th>4</th>\n",
       "      <td>68389</td>\n",
       "      <td>2019-07-30</td>\n",
       "      <td>2026.342452</td>\n",
       "      <td>b'1'</td>\n",
       "      <td>1.0</td>\n",
       "      <td>67.0</td>\n",
       "      <td>2.0</td>\n",
       "      <td>9.0</td>\n",
       "      <td>146.0</td>\n",
       "      <td>276.811594</td>\n",
       "      <td>27.434645</td>\n",
       "      <td>125.0</td>\n",
       "      <td>-230.0</td>\n",
       "      <td>67.0</td>\n",
       "    </tr>\n",
       "  </tbody>\n",
       "</table>\n",
       "</div>"
      ],
      "text/plain": [
       "    _id_ fecha_inicio  comp_interno1 comp_interno2  comp_interno3  \\\n",
       "0  78213   2020-03-25       0.000000          b'0'           11.0   \n",
       "1  76457   2020-02-13       0.000000          b'1'           28.0   \n",
       "2  40666   2018-01-24       0.000000          b'1'           25.0   \n",
       "3   8329   2016-10-07       0.000000          b'1'           14.0   \n",
       "4  68389   2019-07-30    2026.342452          b'1'            1.0   \n",
       "\n",
       "   comp_interno4_x  categoria1  categoria2  categoria3  comp_externo1  \\\n",
       "0             58.0         2.0         9.0       156.0     260.869565   \n",
       "1             45.0         1.0         4.0       173.0      40.579710   \n",
       "2             45.0         1.0         9.0       170.0            NaN   \n",
       "3             59.0         3.0         3.0       159.0     349.275362   \n",
       "4             67.0         2.0         9.0       146.0     276.811594   \n",
       "\n",
       "   comp_externo2  comp_externo3  comp_externo4  comp_interno4_y  \n",
       "0      25.854639           56.0         -230.0             58.0  \n",
       "1       2.872738           62.0         -230.0             45.0  \n",
       "2            NaN          119.0         -230.0             45.0  \n",
       "3      34.616490           94.0         -230.0             59.0  \n",
       "4      27.434645          125.0         -230.0             67.0  "
      ]
     },
     "execution_count": 44,
     "metadata": {},
     "output_type": "execute_result"
    }
   ],
   "source": [
    "base.head()"
   ]
  },
  {
   "cell_type": "code",
   "execution_count": 45,
   "metadata": {},
   "outputs": [],
   "source": [
    "#Cruce 3\n",
    "base=pd.merge(base,base_ini_parte1,on='_id_')"
   ]
  },
  {
   "cell_type": "code",
   "execution_count": 46,
   "metadata": {},
   "outputs": [
    {
     "data": {
      "text/plain": [
       "50000"
      ]
     },
     "execution_count": 46,
     "metadata": {},
     "output_type": "execute_result"
    }
   ],
   "source": [
    "#Comprobamos que no se hayan perdido bases\n",
    "len(base)"
   ]
  },
  {
   "cell_type": "code",
   "execution_count": 47,
   "metadata": {},
   "outputs": [
    {
     "data": {
      "text/html": [
       "<div>\n",
       "<style scoped>\n",
       "    .dataframe tbody tr th:only-of-type {\n",
       "        vertical-align: middle;\n",
       "    }\n",
       "\n",
       "    .dataframe tbody tr th {\n",
       "        vertical-align: top;\n",
       "    }\n",
       "\n",
       "    .dataframe thead th {\n",
       "        text-align: right;\n",
       "    }\n",
       "</style>\n",
       "<table border=\"1\" class=\"dataframe\">\n",
       "  <thead>\n",
       "    <tr style=\"text-align: right;\">\n",
       "      <th></th>\n",
       "      <th>_id_</th>\n",
       "      <th>fecha_inicio</th>\n",
       "      <th>comp_interno1</th>\n",
       "      <th>comp_interno2</th>\n",
       "      <th>comp_interno3</th>\n",
       "      <th>comp_interno4_x</th>\n",
       "      <th>categoria1</th>\n",
       "      <th>categoria2</th>\n",
       "      <th>categoria3</th>\n",
       "      <th>comp_externo1</th>\n",
       "      <th>comp_externo2</th>\n",
       "      <th>comp_externo3</th>\n",
       "      <th>comp_externo4</th>\n",
       "      <th>comp_interno4_y</th>\n",
       "      <th>_id2_</th>\n",
       "      <th>comp_mixto1</th>\n",
       "    </tr>\n",
       "  </thead>\n",
       "  <tbody>\n",
       "    <tr>\n",
       "      <th>0</th>\n",
       "      <td>78213</td>\n",
       "      <td>2020-03-25</td>\n",
       "      <td>0.000000</td>\n",
       "      <td>b'0'</td>\n",
       "      <td>11.0</td>\n",
       "      <td>58.0</td>\n",
       "      <td>2.0</td>\n",
       "      <td>9.0</td>\n",
       "      <td>156.0</td>\n",
       "      <td>260.869565</td>\n",
       "      <td>25.854639</td>\n",
       "      <td>56.0</td>\n",
       "      <td>-230.0</td>\n",
       "      <td>58.0</td>\n",
       "      <td>1798899</td>\n",
       "      <td>0.33522</td>\n",
       "    </tr>\n",
       "    <tr>\n",
       "      <th>1</th>\n",
       "      <td>76457</td>\n",
       "      <td>2020-02-13</td>\n",
       "      <td>0.000000</td>\n",
       "      <td>b'1'</td>\n",
       "      <td>28.0</td>\n",
       "      <td>45.0</td>\n",
       "      <td>1.0</td>\n",
       "      <td>4.0</td>\n",
       "      <td>173.0</td>\n",
       "      <td>40.579710</td>\n",
       "      <td>2.872738</td>\n",
       "      <td>62.0</td>\n",
       "      <td>-230.0</td>\n",
       "      <td>45.0</td>\n",
       "      <td>1758511</td>\n",
       "      <td>0.33334</td>\n",
       "    </tr>\n",
       "    <tr>\n",
       "      <th>2</th>\n",
       "      <td>40666</td>\n",
       "      <td>2018-01-24</td>\n",
       "      <td>0.000000</td>\n",
       "      <td>b'1'</td>\n",
       "      <td>25.0</td>\n",
       "      <td>45.0</td>\n",
       "      <td>1.0</td>\n",
       "      <td>9.0</td>\n",
       "      <td>170.0</td>\n",
       "      <td>NaN</td>\n",
       "      <td>NaN</td>\n",
       "      <td>119.0</td>\n",
       "      <td>-230.0</td>\n",
       "      <td>45.0</td>\n",
       "      <td>935318</td>\n",
       "      <td>0.29186</td>\n",
       "    </tr>\n",
       "    <tr>\n",
       "      <th>3</th>\n",
       "      <td>8329</td>\n",
       "      <td>2016-10-07</td>\n",
       "      <td>0.000000</td>\n",
       "      <td>b'1'</td>\n",
       "      <td>14.0</td>\n",
       "      <td>59.0</td>\n",
       "      <td>3.0</td>\n",
       "      <td>3.0</td>\n",
       "      <td>159.0</td>\n",
       "      <td>349.275362</td>\n",
       "      <td>34.616490</td>\n",
       "      <td>94.0</td>\n",
       "      <td>-230.0</td>\n",
       "      <td>59.0</td>\n",
       "      <td>191567</td>\n",
       "      <td>0.29112</td>\n",
       "    </tr>\n",
       "    <tr>\n",
       "      <th>4</th>\n",
       "      <td>68389</td>\n",
       "      <td>2019-07-30</td>\n",
       "      <td>2026.342452</td>\n",
       "      <td>b'1'</td>\n",
       "      <td>1.0</td>\n",
       "      <td>67.0</td>\n",
       "      <td>2.0</td>\n",
       "      <td>9.0</td>\n",
       "      <td>146.0</td>\n",
       "      <td>276.811594</td>\n",
       "      <td>27.434645</td>\n",
       "      <td>125.0</td>\n",
       "      <td>-230.0</td>\n",
       "      <td>67.0</td>\n",
       "      <td>1572947</td>\n",
       "      <td>0.27318</td>\n",
       "    </tr>\n",
       "  </tbody>\n",
       "</table>\n",
       "</div>"
      ],
      "text/plain": [
       "    _id_ fecha_inicio  comp_interno1 comp_interno2  comp_interno3  \\\n",
       "0  78213   2020-03-25       0.000000          b'0'           11.0   \n",
       "1  76457   2020-02-13       0.000000          b'1'           28.0   \n",
       "2  40666   2018-01-24       0.000000          b'1'           25.0   \n",
       "3   8329   2016-10-07       0.000000          b'1'           14.0   \n",
       "4  68389   2019-07-30    2026.342452          b'1'            1.0   \n",
       "\n",
       "   comp_interno4_x  categoria1  categoria2  categoria3  comp_externo1  \\\n",
       "0             58.0         2.0         9.0       156.0     260.869565   \n",
       "1             45.0         1.0         4.0       173.0      40.579710   \n",
       "2             45.0         1.0         9.0       170.0            NaN   \n",
       "3             59.0         3.0         3.0       159.0     349.275362   \n",
       "4             67.0         2.0         9.0       146.0     276.811594   \n",
       "\n",
       "   comp_externo2  comp_externo3  comp_externo4  comp_interno4_y    _id2_  \\\n",
       "0      25.854639           56.0         -230.0             58.0  1798899   \n",
       "1       2.872738           62.0         -230.0             45.0  1758511   \n",
       "2            NaN          119.0         -230.0             45.0   935318   \n",
       "3      34.616490           94.0         -230.0             59.0   191567   \n",
       "4      27.434645          125.0         -230.0             67.0  1572947   \n",
       "\n",
       "   comp_mixto1  \n",
       "0      0.33522  \n",
       "1      0.33334  \n",
       "2      0.29186  \n",
       "3      0.29112  \n",
       "4      0.27318  "
      ]
     },
     "execution_count": 47,
     "metadata": {},
     "output_type": "execute_result"
    }
   ],
   "source": [
    "base.head()"
   ]
  },
  {
   "cell_type": "code",
   "execution_count": 48,
   "metadata": {},
   "outputs": [],
   "source": [
    "#Cruce 4, aquí es un left join\n",
    "base=pd.merge(base,base_inversion,on='_id2_',how='left')"
   ]
  },
  {
   "cell_type": "code",
   "execution_count": 49,
   "metadata": {},
   "outputs": [
    {
     "data": {
      "text/plain": [
       "50000"
      ]
     },
     "execution_count": 49,
     "metadata": {},
     "output_type": "execute_result"
    }
   ],
   "source": [
    "#Comprobamos que no se hayan perdido bases\n",
    "len(base)"
   ]
  },
  {
   "cell_type": "code",
   "execution_count": 50,
   "metadata": {},
   "outputs": [
    {
     "data": {
      "text/html": [
       "<div>\n",
       "<style scoped>\n",
       "    .dataframe tbody tr th:only-of-type {\n",
       "        vertical-align: middle;\n",
       "    }\n",
       "\n",
       "    .dataframe tbody tr th {\n",
       "        vertical-align: top;\n",
       "    }\n",
       "\n",
       "    .dataframe thead th {\n",
       "        text-align: right;\n",
       "    }\n",
       "</style>\n",
       "<table border=\"1\" class=\"dataframe\">\n",
       "  <thead>\n",
       "    <tr style=\"text-align: right;\">\n",
       "      <th></th>\n",
       "      <th>_id_</th>\n",
       "      <th>fecha_inicio</th>\n",
       "      <th>comp_interno1</th>\n",
       "      <th>comp_interno2</th>\n",
       "      <th>comp_interno3</th>\n",
       "      <th>comp_interno4_x</th>\n",
       "      <th>categoria1</th>\n",
       "      <th>categoria2</th>\n",
       "      <th>categoria3</th>\n",
       "      <th>comp_externo1</th>\n",
       "      <th>comp_externo2</th>\n",
       "      <th>comp_externo3</th>\n",
       "      <th>comp_externo4</th>\n",
       "      <th>comp_interno4_y</th>\n",
       "      <th>_id2_</th>\n",
       "      <th>comp_mixto1</th>\n",
       "      <th>inversion</th>\n",
       "    </tr>\n",
       "  </thead>\n",
       "  <tbody>\n",
       "    <tr>\n",
       "      <th>0</th>\n",
       "      <td>78213</td>\n",
       "      <td>2020-03-25</td>\n",
       "      <td>0.000000</td>\n",
       "      <td>b'0'</td>\n",
       "      <td>11.0</td>\n",
       "      <td>58.0</td>\n",
       "      <td>2.0</td>\n",
       "      <td>9.0</td>\n",
       "      <td>156.0</td>\n",
       "      <td>260.869565</td>\n",
       "      <td>25.854639</td>\n",
       "      <td>56.0</td>\n",
       "      <td>-230.0</td>\n",
       "      <td>58.0</td>\n",
       "      <td>1798899</td>\n",
       "      <td>0.33522</td>\n",
       "      <td>NaN</td>\n",
       "    </tr>\n",
       "    <tr>\n",
       "      <th>1</th>\n",
       "      <td>76457</td>\n",
       "      <td>2020-02-13</td>\n",
       "      <td>0.000000</td>\n",
       "      <td>b'1'</td>\n",
       "      <td>28.0</td>\n",
       "      <td>45.0</td>\n",
       "      <td>1.0</td>\n",
       "      <td>4.0</td>\n",
       "      <td>173.0</td>\n",
       "      <td>40.579710</td>\n",
       "      <td>2.872738</td>\n",
       "      <td>62.0</td>\n",
       "      <td>-230.0</td>\n",
       "      <td>45.0</td>\n",
       "      <td>1758511</td>\n",
       "      <td>0.33334</td>\n",
       "      <td>0.041039</td>\n",
       "    </tr>\n",
       "    <tr>\n",
       "      <th>2</th>\n",
       "      <td>40666</td>\n",
       "      <td>2018-01-24</td>\n",
       "      <td>0.000000</td>\n",
       "      <td>b'1'</td>\n",
       "      <td>25.0</td>\n",
       "      <td>45.0</td>\n",
       "      <td>1.0</td>\n",
       "      <td>9.0</td>\n",
       "      <td>170.0</td>\n",
       "      <td>NaN</td>\n",
       "      <td>NaN</td>\n",
       "      <td>119.0</td>\n",
       "      <td>-230.0</td>\n",
       "      <td>45.0</td>\n",
       "      <td>935318</td>\n",
       "      <td>0.29186</td>\n",
       "      <td>NaN</td>\n",
       "    </tr>\n",
       "    <tr>\n",
       "      <th>3</th>\n",
       "      <td>8329</td>\n",
       "      <td>2016-10-07</td>\n",
       "      <td>0.000000</td>\n",
       "      <td>b'1'</td>\n",
       "      <td>14.0</td>\n",
       "      <td>59.0</td>\n",
       "      <td>3.0</td>\n",
       "      <td>3.0</td>\n",
       "      <td>159.0</td>\n",
       "      <td>349.275362</td>\n",
       "      <td>34.616490</td>\n",
       "      <td>94.0</td>\n",
       "      <td>-230.0</td>\n",
       "      <td>59.0</td>\n",
       "      <td>191567</td>\n",
       "      <td>0.29112</td>\n",
       "      <td>NaN</td>\n",
       "    </tr>\n",
       "    <tr>\n",
       "      <th>4</th>\n",
       "      <td>68389</td>\n",
       "      <td>2019-07-30</td>\n",
       "      <td>2026.342452</td>\n",
       "      <td>b'1'</td>\n",
       "      <td>1.0</td>\n",
       "      <td>67.0</td>\n",
       "      <td>2.0</td>\n",
       "      <td>9.0</td>\n",
       "      <td>146.0</td>\n",
       "      <td>276.811594</td>\n",
       "      <td>27.434645</td>\n",
       "      <td>125.0</td>\n",
       "      <td>-230.0</td>\n",
       "      <td>67.0</td>\n",
       "      <td>1572947</td>\n",
       "      <td>0.27318</td>\n",
       "      <td>77.422135</td>\n",
       "    </tr>\n",
       "  </tbody>\n",
       "</table>\n",
       "</div>"
      ],
      "text/plain": [
       "    _id_ fecha_inicio  comp_interno1 comp_interno2  comp_interno3  \\\n",
       "0  78213   2020-03-25       0.000000          b'0'           11.0   \n",
       "1  76457   2020-02-13       0.000000          b'1'           28.0   \n",
       "2  40666   2018-01-24       0.000000          b'1'           25.0   \n",
       "3   8329   2016-10-07       0.000000          b'1'           14.0   \n",
       "4  68389   2019-07-30    2026.342452          b'1'            1.0   \n",
       "\n",
       "   comp_interno4_x  categoria1  categoria2  categoria3  comp_externo1  \\\n",
       "0             58.0         2.0         9.0       156.0     260.869565   \n",
       "1             45.0         1.0         4.0       173.0      40.579710   \n",
       "2             45.0         1.0         9.0       170.0            NaN   \n",
       "3             59.0         3.0         3.0       159.0     349.275362   \n",
       "4             67.0         2.0         9.0       146.0     276.811594   \n",
       "\n",
       "   comp_externo2  comp_externo3  comp_externo4  comp_interno4_y    _id2_  \\\n",
       "0      25.854639           56.0         -230.0             58.0  1798899   \n",
       "1       2.872738           62.0         -230.0             45.0  1758511   \n",
       "2            NaN          119.0         -230.0             45.0   935318   \n",
       "3      34.616490           94.0         -230.0             59.0   191567   \n",
       "4      27.434645          125.0         -230.0             67.0  1572947   \n",
       "\n",
       "   comp_mixto1  inversion  \n",
       "0      0.33522        NaN  \n",
       "1      0.33334   0.041039  \n",
       "2      0.29186        NaN  \n",
       "3      0.29112        NaN  \n",
       "4      0.27318  77.422135  "
      ]
     },
     "execution_count": 50,
     "metadata": {},
     "output_type": "execute_result"
    }
   ],
   "source": [
    "base.head()"
   ]
  },
  {
   "cell_type": "markdown",
   "metadata": {},
   "source": [
    "De aqui podemos notar que hay dos clumnas que tienen el mismo nombre y parecen ser los mismos registros, por lo que conviene verificar si esto es así y si es el caso podriamos proceder a eliminar una de las columnas repetidas"
   ]
  },
  {
   "cell_type": "code",
   "execution_count": 51,
   "metadata": {},
   "outputs": [
    {
     "data": {
      "text/plain": [
       "array([ True])"
      ]
     },
     "execution_count": 51,
     "metadata": {},
     "output_type": "execute_result"
    }
   ],
   "source": [
    "#Definimos una lista que guarde todos los registros que se harán al checar si cada registro de las dos columnas son iguales\n",
    "lista=base['comp_interno4_x']==base['comp_interno4_y']\n",
    "#Verificamos si hay algún false en la lista, si ese es el caso no habrá duplicados\n",
    "lista.unique()"
   ]
  },
  {
   "cell_type": "markdown",
   "metadata": {},
   "source": [
    "Esto comprueba que las dos columnas son las mismas por lo que podriamos proceder a eliminar una de las dos columnas, sin embargo como la columna viene repetida de la base bd_ini_parte1 y lo único que aporta esta es esa columna podriamos volver a hacer el cruce de las basees omitiendo esta base en los cruces"
   ]
  },
  {
   "cell_type": "code",
   "execution_count": 52,
   "metadata": {},
   "outputs": [],
   "source": [
    "#1er cruce\n",
    "base=pd.merge(base_ini_interna,base_ini_externa)\n",
    "#Cruce 2\n",
    "base=pd.merge(base,base_ini_parte1,on='_id_')\n",
    "#Cruce 3, aquí es un left join\n",
    "base=pd.merge(base,base_inversion,on='_id2_',how='left')"
   ]
  },
  {
   "cell_type": "code",
   "execution_count": 53,
   "metadata": {},
   "outputs": [
    {
     "data": {
      "text/plain": [
       "50000"
      ]
     },
     "execution_count": 53,
     "metadata": {},
     "output_type": "execute_result"
    }
   ],
   "source": [
    "len(base)"
   ]
  },
  {
   "cell_type": "code",
   "execution_count": 54,
   "metadata": {},
   "outputs": [
    {
     "data": {
      "text/html": [
       "<div>\n",
       "<style scoped>\n",
       "    .dataframe tbody tr th:only-of-type {\n",
       "        vertical-align: middle;\n",
       "    }\n",
       "\n",
       "    .dataframe tbody tr th {\n",
       "        vertical-align: top;\n",
       "    }\n",
       "\n",
       "    .dataframe thead th {\n",
       "        text-align: right;\n",
       "    }\n",
       "</style>\n",
       "<table border=\"1\" class=\"dataframe\">\n",
       "  <thead>\n",
       "    <tr style=\"text-align: right;\">\n",
       "      <th></th>\n",
       "      <th>_id_</th>\n",
       "      <th>fecha_inicio</th>\n",
       "      <th>comp_interno1</th>\n",
       "      <th>comp_interno2</th>\n",
       "      <th>comp_interno3</th>\n",
       "      <th>comp_interno4</th>\n",
       "      <th>categoria1</th>\n",
       "      <th>categoria2</th>\n",
       "      <th>categoria3</th>\n",
       "      <th>comp_externo1</th>\n",
       "      <th>comp_externo2</th>\n",
       "      <th>comp_externo3</th>\n",
       "      <th>comp_externo4</th>\n",
       "      <th>_id2_</th>\n",
       "      <th>comp_mixto1</th>\n",
       "      <th>inversion</th>\n",
       "    </tr>\n",
       "  </thead>\n",
       "  <tbody>\n",
       "    <tr>\n",
       "      <th>0</th>\n",
       "      <td>78213</td>\n",
       "      <td>2020-03-25</td>\n",
       "      <td>0.000000</td>\n",
       "      <td>b'0'</td>\n",
       "      <td>11.0</td>\n",
       "      <td>58.0</td>\n",
       "      <td>2.0</td>\n",
       "      <td>9.0</td>\n",
       "      <td>156.0</td>\n",
       "      <td>260.869565</td>\n",
       "      <td>25.854639</td>\n",
       "      <td>56.0</td>\n",
       "      <td>-230.0</td>\n",
       "      <td>1798899</td>\n",
       "      <td>0.33522</td>\n",
       "      <td>NaN</td>\n",
       "    </tr>\n",
       "    <tr>\n",
       "      <th>1</th>\n",
       "      <td>76457</td>\n",
       "      <td>2020-02-13</td>\n",
       "      <td>0.000000</td>\n",
       "      <td>b'1'</td>\n",
       "      <td>28.0</td>\n",
       "      <td>45.0</td>\n",
       "      <td>1.0</td>\n",
       "      <td>4.0</td>\n",
       "      <td>173.0</td>\n",
       "      <td>40.579710</td>\n",
       "      <td>2.872738</td>\n",
       "      <td>62.0</td>\n",
       "      <td>-230.0</td>\n",
       "      <td>1758511</td>\n",
       "      <td>0.33334</td>\n",
       "      <td>0.041039</td>\n",
       "    </tr>\n",
       "    <tr>\n",
       "      <th>2</th>\n",
       "      <td>40666</td>\n",
       "      <td>2018-01-24</td>\n",
       "      <td>0.000000</td>\n",
       "      <td>b'1'</td>\n",
       "      <td>25.0</td>\n",
       "      <td>45.0</td>\n",
       "      <td>1.0</td>\n",
       "      <td>9.0</td>\n",
       "      <td>170.0</td>\n",
       "      <td>NaN</td>\n",
       "      <td>NaN</td>\n",
       "      <td>119.0</td>\n",
       "      <td>-230.0</td>\n",
       "      <td>935318</td>\n",
       "      <td>0.29186</td>\n",
       "      <td>NaN</td>\n",
       "    </tr>\n",
       "    <tr>\n",
       "      <th>3</th>\n",
       "      <td>8329</td>\n",
       "      <td>2016-10-07</td>\n",
       "      <td>0.000000</td>\n",
       "      <td>b'1'</td>\n",
       "      <td>14.0</td>\n",
       "      <td>59.0</td>\n",
       "      <td>3.0</td>\n",
       "      <td>3.0</td>\n",
       "      <td>159.0</td>\n",
       "      <td>349.275362</td>\n",
       "      <td>34.616490</td>\n",
       "      <td>94.0</td>\n",
       "      <td>-230.0</td>\n",
       "      <td>191567</td>\n",
       "      <td>0.29112</td>\n",
       "      <td>NaN</td>\n",
       "    </tr>\n",
       "    <tr>\n",
       "      <th>4</th>\n",
       "      <td>68389</td>\n",
       "      <td>2019-07-30</td>\n",
       "      <td>2026.342452</td>\n",
       "      <td>b'1'</td>\n",
       "      <td>1.0</td>\n",
       "      <td>67.0</td>\n",
       "      <td>2.0</td>\n",
       "      <td>9.0</td>\n",
       "      <td>146.0</td>\n",
       "      <td>276.811594</td>\n",
       "      <td>27.434645</td>\n",
       "      <td>125.0</td>\n",
       "      <td>-230.0</td>\n",
       "      <td>1572947</td>\n",
       "      <td>0.27318</td>\n",
       "      <td>77.422135</td>\n",
       "    </tr>\n",
       "  </tbody>\n",
       "</table>\n",
       "</div>"
      ],
      "text/plain": [
       "    _id_ fecha_inicio  comp_interno1 comp_interno2  comp_interno3  \\\n",
       "0  78213   2020-03-25       0.000000          b'0'           11.0   \n",
       "1  76457   2020-02-13       0.000000          b'1'           28.0   \n",
       "2  40666   2018-01-24       0.000000          b'1'           25.0   \n",
       "3   8329   2016-10-07       0.000000          b'1'           14.0   \n",
       "4  68389   2019-07-30    2026.342452          b'1'            1.0   \n",
       "\n",
       "   comp_interno4  categoria1  categoria2  categoria3  comp_externo1  \\\n",
       "0           58.0         2.0         9.0       156.0     260.869565   \n",
       "1           45.0         1.0         4.0       173.0      40.579710   \n",
       "2           45.0         1.0         9.0       170.0            NaN   \n",
       "3           59.0         3.0         3.0       159.0     349.275362   \n",
       "4           67.0         2.0         9.0       146.0     276.811594   \n",
       "\n",
       "   comp_externo2  comp_externo3  comp_externo4    _id2_  comp_mixto1  \\\n",
       "0      25.854639           56.0         -230.0  1798899      0.33522   \n",
       "1       2.872738           62.0         -230.0  1758511      0.33334   \n",
       "2            NaN          119.0         -230.0   935318      0.29186   \n",
       "3      34.616490           94.0         -230.0   191567      0.29112   \n",
       "4      27.434645          125.0         -230.0  1572947      0.27318   \n",
       "\n",
       "   inversion  \n",
       "0        NaN  \n",
       "1   0.041039  \n",
       "2        NaN  \n",
       "3        NaN  \n",
       "4  77.422135  "
      ]
     },
     "execution_count": 54,
     "metadata": {},
     "output_type": "execute_result"
    }
   ],
   "source": [
    "base.head()"
   ]
  },
  {
   "cell_type": "markdown",
   "metadata": {},
   "source": [
    "Con esto ya no hay columnas repetidas en la base\n",
    "\n",
    "Veamos un análisis gráfico de todas las columnas numéricas"
   ]
  },
  {
   "cell_type": "code",
   "execution_count": 55,
   "metadata": {},
   "outputs": [],
   "source": [
    "base_hist=base.drop(columns=['_id_','fecha_inicio','comp_interno2','_id2_'])"
   ]
  },
  {
   "cell_type": "code",
   "execution_count": 56,
   "metadata": {},
   "outputs": [
    {
     "data": {
      "text/plain": [
       "(50000, 12)"
      ]
     },
     "execution_count": 56,
     "metadata": {},
     "output_type": "execute_result"
    }
   ],
   "source": [
    "base_hist.shape"
   ]
  },
  {
   "cell_type": "code",
   "execution_count": 57,
   "metadata": {},
   "outputs": [],
   "source": [
    "#Convertimos las columnas a su mejor tipo de dato posible, así podriamos identificar cuales son categorícas\n",
    "base_hist=base_hist.convert_dtypes()"
   ]
  },
  {
   "cell_type": "code",
   "execution_count": 58,
   "metadata": {},
   "outputs": [
    {
     "data": {
      "text/plain": [
       "comp_interno1    float64\n",
       "comp_interno3      Int64\n",
       "comp_interno4      Int64\n",
       "categoria1         Int64\n",
       "categoria2         Int64\n",
       "categoria3         Int64\n",
       "comp_externo1    float64\n",
       "comp_externo2    float64\n",
       "comp_externo3      Int64\n",
       "comp_externo4    float64\n",
       "comp_mixto1      float64\n",
       "inversion        float64\n",
       "dtype: object"
      ]
     },
     "execution_count": 58,
     "metadata": {},
     "output_type": "execute_result"
    }
   ],
   "source": [
    "base_hist.dtypes"
   ]
  },
  {
   "cell_type": "code",
   "execution_count": 59,
   "metadata": {},
   "outputs": [
    {
     "name": "stderr",
     "output_type": "stream",
     "text": [
      "C:\\Users\\luisf\\anaconda3\\lib\\site-packages\\pandas\\plotting\\_matplotlib\\tools.py:331: MatplotlibDeprecationWarning: \n",
      "The is_first_col function was deprecated in Matplotlib 3.4 and will be removed two minor releases later. Use ax.get_subplotspec().is_first_col() instead.\n",
      "  if ax.is_first_col():\n"
     ]
    },
    {
     "data": {
      "image/png": "[encoded data removed]",
      "text/plain": [
       "<Figure size 1080x720 with 12 Axes>"
      ]
     },
     "metadata": {
      "needs_background": "light"
     },
     "output_type": "display_data"
    }
   ],
   "source": [
    "base_hist.hist(layout=(4,3),figsize=(15,10))\n",
    "plt.show()"
   ]
  },
  {
   "cell_type": "markdown",
   "metadata": {},
   "source": [
    "De aqui se puede identificar varias cosas:\n",
    "* En la categoria 1 la mayoria de clientes pertenecen a la primer categoria y la menos comun es la categoria \n",
    "* En la categoria 8 al parecer  la mas común es la categoria 8\n",
    "* Las bases de datos de comp_interno1, comp_externo 1,2 y 4 así como la base de inversion presentan un comportamiento muy similar concentrandose en sus primeros valores \n",
    "* Las base comp_externo 3 presenta un comportamiento donde la mayoria de sus valores se concentran al final de su rango, aqui existen valores nulos\n",
    "* Categoria 3 y com_interno3 presentan la misma distribución por lo que estas dos variables podrian guardar algun tipo de relación \n",
    "* Comp_interno4 esta sesgada hacia la derecha \n",
    "* Comp_mixto1 esta sesgada hacia la izquierda\n"
   ]
  },
  {
   "cell_type": "markdown",
   "metadata": {},
   "source": [
    "## Cruce final\n",
    "Ahora hay que cruzar las bases del comportamiento de los clientes a los que les dio el crédito y la base donde se registran sus datos cuando lo solicitaron.\n",
    "\n",
    "Para esto agruparemos la base por el número de caso y sumaremos su comportamiento ya que este nos indica si incumplió con un pago, los datos del mes de información y tiempo de aparición no consideramos que aporten mucho a la base ya que solo dan la fecha del registro y el número del registro para el cliente\n",
    "\n",
    "Ahora, crearemos varias variables mas:\n",
    "* num_impagos: Mide cuantas veces el cliente incumplio con el pago que o no liquidaba su deuda por completo\n",
    "* num_impagos_acum: Mide el número de impagos totales que registro el cliente a lo largo de su historia\n",
    "* num_impagos_intervalo: Intervalo en el que se encuentra el cliente en relación a los demás con el número de impagos\n",
    "* num_impagos_acum_intervalo: Intervalo en el que se encuentra el cliente en relación con los demas clientes basado en el número de impagos acumulados\n",
    "* incumplimiento: Indica si un cliente dejó de pagar su crédito en lo que va de tiempo no volvió a retomarlo."
   ]
  },
  {
   "cell_type": "markdown",
   "metadata": {},
   "source": [
    "### num_impagos"
   ]
  },
  {
   "cell_type": "code",
   "execution_count": 60,
   "metadata": {},
   "outputs": [
    {
     "data": {
      "text/html": [
       "<div>\n",
       "<style scoped>\n",
       "    .dataframe tbody tr th:only-of-type {\n",
       "        vertical-align: middle;\n",
       "    }\n",
       "\n",
       "    .dataframe tbody tr th {\n",
       "        vertical-align: top;\n",
       "    }\n",
       "\n",
       "    .dataframe thead th {\n",
       "        text-align: right;\n",
       "    }\n",
       "</style>\n",
       "<table border=\"1\" class=\"dataframe\">\n",
       "  <thead>\n",
       "    <tr style=\"text-align: right;\">\n",
       "      <th></th>\n",
       "      <th>num_caso</th>\n",
       "      <th>comportamiento_j</th>\n",
       "    </tr>\n",
       "  </thead>\n",
       "  <tbody>\n",
       "    <tr>\n",
       "      <th>0</th>\n",
       "      <td>1</td>\n",
       "      <td>0.0</td>\n",
       "    </tr>\n",
       "    <tr>\n",
       "      <th>1</th>\n",
       "      <td>1</td>\n",
       "      <td>0.0</td>\n",
       "    </tr>\n",
       "    <tr>\n",
       "      <th>2</th>\n",
       "      <td>1</td>\n",
       "      <td>0.0</td>\n",
       "    </tr>\n",
       "    <tr>\n",
       "      <th>3</th>\n",
       "      <td>1</td>\n",
       "      <td>0.0</td>\n",
       "    </tr>\n",
       "    <tr>\n",
       "      <th>4</th>\n",
       "      <td>1</td>\n",
       "      <td>0.0</td>\n",
       "    </tr>\n",
       "  </tbody>\n",
       "</table>\n",
       "</div>"
      ],
      "text/plain": [
       "   num_caso  comportamiento_j\n",
       "0         1               0.0\n",
       "1         1               0.0\n",
       "2         1               0.0\n",
       "3         1               0.0\n",
       "4         1               0.0"
      ]
     },
     "execution_count": 60,
     "metadata": {},
     "output_type": "execute_result"
    }
   ],
   "source": [
    "#Extraemos las columnas número de caso y comportamiento_j\n",
    "base_c_cruce_2=base_comportamiento[['num_caso','comportamiento_j']]\n",
    "base_c_cruce_2.head()"
   ]
  },
  {
   "cell_type": "code",
   "execution_count": 61,
   "metadata": {},
   "outputs": [
    {
     "name": "stderr",
     "output_type": "stream",
     "text": [
      "<ipython-input-61-0c631d9993bf>:5: SettingWithCopyWarning: \n",
      "A value is trying to be set on a copy of a slice from a DataFrame.\n",
      "Try using .loc[row_indexer,col_indexer] = value instead\n",
      "\n",
      "See the caveats in the documentation: https://pandas.pydata.org/pandas-docs/stable/user_guide/indexing.html#returning-a-view-versus-a-copy\n",
      "  base_c_cruce_2['num_impagos']=lista\n"
     ]
    }
   ],
   "source": [
    "#Creamos una lista de comprensión donde se guarden los valores de nuestra nueva columna\n",
    "#Aqui registra 0 si el cliente pago o liquido su deuda y un 1 si no pago o sigue sin liquidar su deuda totalmente\n",
    "lista=[1 if i>0 else 0 for i in base_c_cruce_2['comportamiento_j']]\n",
    "#Añadimos la lista a la base\n",
    "base_c_cruce_2['num_impagos']=lista"
   ]
  },
  {
   "cell_type": "code",
   "execution_count": 62,
   "metadata": {},
   "outputs": [
    {
     "data": {
      "text/html": [
       "<div>\n",
       "<style scoped>\n",
       "    .dataframe tbody tr th:only-of-type {\n",
       "        vertical-align: middle;\n",
       "    }\n",
       "\n",
       "    .dataframe tbody tr th {\n",
       "        vertical-align: top;\n",
       "    }\n",
       "\n",
       "    .dataframe thead th {\n",
       "        text-align: right;\n",
       "    }\n",
       "</style>\n",
       "<table border=\"1\" class=\"dataframe\">\n",
       "  <thead>\n",
       "    <tr style=\"text-align: right;\">\n",
       "      <th></th>\n",
       "      <th>num_caso</th>\n",
       "      <th>comportamiento_j</th>\n",
       "      <th>num_impagos</th>\n",
       "    </tr>\n",
       "  </thead>\n",
       "  <tbody>\n",
       "    <tr>\n",
       "      <th>9</th>\n",
       "      <td>1</td>\n",
       "      <td>1.0</td>\n",
       "      <td>1</td>\n",
       "    </tr>\n",
       "    <tr>\n",
       "      <th>12</th>\n",
       "      <td>1</td>\n",
       "      <td>1.0</td>\n",
       "      <td>1</td>\n",
       "    </tr>\n",
       "    <tr>\n",
       "      <th>13</th>\n",
       "      <td>1</td>\n",
       "      <td>1.0</td>\n",
       "      <td>1</td>\n",
       "    </tr>\n",
       "    <tr>\n",
       "      <th>14</th>\n",
       "      <td>1</td>\n",
       "      <td>1.0</td>\n",
       "      <td>1</td>\n",
       "    </tr>\n",
       "    <tr>\n",
       "      <th>32</th>\n",
       "      <td>1</td>\n",
       "      <td>1.0</td>\n",
       "      <td>1</td>\n",
       "    </tr>\n",
       "    <tr>\n",
       "      <th>33</th>\n",
       "      <td>1</td>\n",
       "      <td>1.0</td>\n",
       "      <td>1</td>\n",
       "    </tr>\n",
       "    <tr>\n",
       "      <th>59</th>\n",
       "      <td>1</td>\n",
       "      <td>1.0</td>\n",
       "      <td>1</td>\n",
       "    </tr>\n",
       "    <tr>\n",
       "      <th>71</th>\n",
       "      <td>7</td>\n",
       "      <td>1.0</td>\n",
       "      <td>1</td>\n",
       "    </tr>\n",
       "    <tr>\n",
       "      <th>72</th>\n",
       "      <td>7</td>\n",
       "      <td>1.0</td>\n",
       "      <td>1</td>\n",
       "    </tr>\n",
       "    <tr>\n",
       "      <th>73</th>\n",
       "      <td>7</td>\n",
       "      <td>2.0</td>\n",
       "      <td>1</td>\n",
       "    </tr>\n",
       "    <tr>\n",
       "      <th>74</th>\n",
       "      <td>7</td>\n",
       "      <td>3.0</td>\n",
       "      <td>1</td>\n",
       "    </tr>\n",
       "    <tr>\n",
       "      <th>75</th>\n",
       "      <td>7</td>\n",
       "      <td>4.0</td>\n",
       "      <td>1</td>\n",
       "    </tr>\n",
       "    <tr>\n",
       "      <th>76</th>\n",
       "      <td>7</td>\n",
       "      <td>5.0</td>\n",
       "      <td>1</td>\n",
       "    </tr>\n",
       "    <tr>\n",
       "      <th>77</th>\n",
       "      <td>7</td>\n",
       "      <td>6.0</td>\n",
       "      <td>1</td>\n",
       "    </tr>\n",
       "    <tr>\n",
       "      <th>79</th>\n",
       "      <td>7</td>\n",
       "      <td>1.0</td>\n",
       "      <td>1</td>\n",
       "    </tr>\n",
       "  </tbody>\n",
       "</table>\n",
       "</div>"
      ],
      "text/plain": [
       "    num_caso  comportamiento_j  num_impagos\n",
       "9          1               1.0            1\n",
       "12         1               1.0            1\n",
       "13         1               1.0            1\n",
       "14         1               1.0            1\n",
       "32         1               1.0            1\n",
       "33         1               1.0            1\n",
       "59         1               1.0            1\n",
       "71         7               1.0            1\n",
       "72         7               1.0            1\n",
       "73         7               2.0            1\n",
       "74         7               3.0            1\n",
       "75         7               4.0            1\n",
       "76         7               5.0            1\n",
       "77         7               6.0            1\n",
       "79         7               1.0            1"
      ]
     },
     "execution_count": 62,
     "metadata": {},
     "output_type": "execute_result"
    }
   ],
   "source": [
    "#Comprobamos que haya funcionado con los primero registros\n",
    "base_c_cruce_2[base_c_cruce_2['num_impagos']==1].head(15)"
   ]
  },
  {
   "cell_type": "code",
   "execution_count": 63,
   "metadata": {},
   "outputs": [
    {
     "data": {
      "text/html": [
       "<div>\n",
       "<style scoped>\n",
       "    .dataframe tbody tr th:only-of-type {\n",
       "        vertical-align: middle;\n",
       "    }\n",
       "\n",
       "    .dataframe tbody tr th {\n",
       "        vertical-align: top;\n",
       "    }\n",
       "\n",
       "    .dataframe thead th {\n",
       "        text-align: right;\n",
       "    }\n",
       "</style>\n",
       "<table border=\"1\" class=\"dataframe\">\n",
       "  <thead>\n",
       "    <tr style=\"text-align: right;\">\n",
       "      <th></th>\n",
       "      <th>num_caso</th>\n",
       "      <th>num_impagos</th>\n",
       "    </tr>\n",
       "  </thead>\n",
       "  <tbody>\n",
       "    <tr>\n",
       "      <th>0</th>\n",
       "      <td>1</td>\n",
       "      <td>7</td>\n",
       "    </tr>\n",
       "    <tr>\n",
       "      <th>1</th>\n",
       "      <td>7</td>\n",
       "      <td>9</td>\n",
       "    </tr>\n",
       "    <tr>\n",
       "      <th>2</th>\n",
       "      <td>8</td>\n",
       "      <td>4</td>\n",
       "    </tr>\n",
       "    <tr>\n",
       "      <th>3</th>\n",
       "      <td>9</td>\n",
       "      <td>0</td>\n",
       "    </tr>\n",
       "    <tr>\n",
       "      <th>4</th>\n",
       "      <td>10</td>\n",
       "      <td>1</td>\n",
       "    </tr>\n",
       "  </tbody>\n",
       "</table>\n",
       "</div>"
      ],
      "text/plain": [
       "   num_caso  num_impagos\n",
       "0         1            7\n",
       "1         7            9\n",
       "2         8            4\n",
       "3         9            0\n",
       "4        10            1"
      ]
     },
     "execution_count": 63,
     "metadata": {},
     "output_type": "execute_result"
    }
   ],
   "source": [
    "#Esta base ya tiene el número de veces que el cliente no pago\n",
    "base_c_cruce_2=base_c_cruce_2.groupby('num_caso')['num_impagos'].sum().reset_index()\n",
    "base_c_cruce_2.head()"
   ]
  },
  {
   "cell_type": "code",
   "execution_count": 64,
   "metadata": {},
   "outputs": [
    {
     "data": {
      "text/plain": [
       "0    9945\n",
       "1    8765\n",
       "2    7490\n",
       "3    6125\n",
       "4    4929\n",
       "5    3498\n",
       "6    2445\n",
       "7    1642\n",
       "8     964\n",
       "9     694\n",
       "Name: num_impagos, dtype: int64"
      ]
     },
     "execution_count": 64,
     "metadata": {},
     "output_type": "execute_result"
    }
   ],
   "source": [
    "#Frecuencia absoluta de las primeros 10 variables ordinales\n",
    "base_c_cruce_2['num_impagos'].value_counts().head(10)"
   ]
  },
  {
   "cell_type": "code",
   "execution_count": 65,
   "metadata": {},
   "outputs": [
    {
     "data": {
      "text/plain": [
       "50"
      ]
     },
     "execution_count": 65,
     "metadata": {},
     "output_type": "execute_result"
    }
   ],
   "source": [
    "#Cantidad de categorias\n",
    "len(base_c_cruce_2['num_impagos'].value_counts())"
   ]
  },
  {
   "cell_type": "code",
   "execution_count": 66,
   "metadata": {},
   "outputs": [
    {
     "data": {
      "text/plain": [
       "0    20.15%\n",
       "1    17.76%\n",
       "2    15.18%\n",
       "3    12.41%\n",
       "4     9.99%\n",
       "5     7.09%\n",
       "6     4.95%\n",
       "7     3.33%\n",
       "8     1.95%\n",
       "9     1.41%\n",
       "Name: num_impagos, dtype: object"
      ]
     },
     "execution_count": 66,
     "metadata": {},
     "output_type": "execute_result"
    }
   ],
   "source": [
    "#Frecuencia relativa de las primeros 10 variables ordinales\n",
    "round(base_c_cruce_2['num_impagos'].value_counts(True).head(10)*100,2).astype('str')+'%'"
   ]
  },
  {
   "cell_type": "markdown",
   "metadata": {},
   "source": [
    "De aqui se puede ver que que al rededor de un 81% de los clientes no registraron menos de 5 impagos en todo su historial de la base"
   ]
  },
  {
   "cell_type": "markdown",
   "metadata": {},
   "source": [
    "### num_impagos_acum"
   ]
  },
  {
   "cell_type": "code",
   "execution_count": 67,
   "metadata": {},
   "outputs": [],
   "source": [
    "base_c_cruce=base_comportamiento[['num_caso','comportamiento_j']]\n",
    "base_c_cruce=base_c_cruce.groupby('num_caso')['comportamiento_j'].sum().reset_index()"
   ]
  },
  {
   "cell_type": "code",
   "execution_count": 68,
   "metadata": {},
   "outputs": [
    {
     "data": {
      "text/html": [
       "<div>\n",
       "<style scoped>\n",
       "    .dataframe tbody tr th:only-of-type {\n",
       "        vertical-align: middle;\n",
       "    }\n",
       "\n",
       "    .dataframe tbody tr th {\n",
       "        vertical-align: top;\n",
       "    }\n",
       "\n",
       "    .dataframe thead th {\n",
       "        text-align: right;\n",
       "    }\n",
       "</style>\n",
       "<table border=\"1\" class=\"dataframe\">\n",
       "  <thead>\n",
       "    <tr style=\"text-align: right;\">\n",
       "      <th></th>\n",
       "      <th>num_caso</th>\n",
       "      <th>comportamiento_j</th>\n",
       "    </tr>\n",
       "  </thead>\n",
       "  <tbody>\n",
       "    <tr>\n",
       "      <th>0</th>\n",
       "      <td>1</td>\n",
       "      <td>7.0</td>\n",
       "    </tr>\n",
       "    <tr>\n",
       "      <th>1</th>\n",
       "      <td>7</td>\n",
       "      <td>24.0</td>\n",
       "    </tr>\n",
       "    <tr>\n",
       "      <th>2</th>\n",
       "      <td>8</td>\n",
       "      <td>4.0</td>\n",
       "    </tr>\n",
       "    <tr>\n",
       "      <th>3</th>\n",
       "      <td>9</td>\n",
       "      <td>0.0</td>\n",
       "    </tr>\n",
       "    <tr>\n",
       "      <th>4</th>\n",
       "      <td>10</td>\n",
       "      <td>1.0</td>\n",
       "    </tr>\n",
       "  </tbody>\n",
       "</table>\n",
       "</div>"
      ],
      "text/plain": [
       "   num_caso  comportamiento_j\n",
       "0         1               7.0\n",
       "1         7              24.0\n",
       "2         8               4.0\n",
       "3         9               0.0\n",
       "4        10               1.0"
      ]
     },
     "execution_count": 68,
     "metadata": {},
     "output_type": "execute_result"
    }
   ],
   "source": [
    "base_c_cruce.head()"
   ]
  },
  {
   "cell_type": "markdown",
   "metadata": {},
   "source": [
    "Antes veamos una tabla de frecuencias y un gráfico de los incumplimientos de los pagos"
   ]
  },
  {
   "cell_type": "code",
   "execution_count": 69,
   "metadata": {},
   "outputs": [
    {
     "data": {
      "text/plain": [
       "0.0      9945\n",
       "1.0      8764\n",
       "2.0      7466\n",
       "3.0      6083\n",
       "4.0      4866\n",
       "         ... \n",
       "123.0       1\n",
       "112.0       1\n",
       "106.0       1\n",
       "130.0       1\n",
       "135.0       1\n",
       "Name: comportamiento_j, Length: 123, dtype: int64"
      ]
     },
     "execution_count": 69,
     "metadata": {},
     "output_type": "execute_result"
    }
   ],
   "source": [
    "base_c_cruce.comportamiento_j.value_counts()"
   ]
  },
  {
   "cell_type": "code",
   "execution_count": 70,
   "metadata": {},
   "outputs": [
    {
     "data": {
      "text/plain": [
       "0.0      20.151%\n",
       "1.0      17.758%\n",
       "2.0      15.128%\n",
       "3.0      12.326%\n",
       "4.0        9.86%\n",
       "          ...   \n",
       "123.0     0.002%\n",
       "112.0     0.002%\n",
       "106.0     0.002%\n",
       "130.0     0.002%\n",
       "135.0     0.002%\n",
       "Name: comportamiento_j, Length: 123, dtype: object"
      ]
     },
     "execution_count": 70,
     "metadata": {},
     "output_type": "execute_result"
    }
   ],
   "source": [
    "#Frecuencia relativa de las primeros \n",
    "round(base_c_cruce['comportamiento_j'].value_counts(True)*100,3).astype('str')+'%'"
   ]
  },
  {
   "cell_type": "code",
   "execution_count": 71,
   "metadata": {},
   "outputs": [],
   "source": [
    "#Renombramos las columnas\n",
    "base_c_cruce.columns=['num_caso','num_impagos_acum']"
   ]
  },
  {
   "cell_type": "markdown",
   "metadata": {},
   "source": [
    "De aqui podemos ver que al rededor de un 75% de los clientes registraron menos de 4 impagos acumulados a lo largo de su historia dentro de la base\n",
    "### num_impagos_intervalo\n",
    "Como se tiene una longitud de 50 entradas dividiremos las variables en 5 intervalos, usaremos la función pd.cut() para hacerlo"
   ]
  },
  {
   "cell_type": "code",
   "execution_count": 72,
   "metadata": {},
   "outputs": [
    {
     "data": {
      "text/plain": [
       "[(-0.051, 10.2], (10.2, 20.4], (20.4, 30.6], (30.6, 40.8], (40.8, 51.0]]\n",
       "Categories (5, interval[float64]): [(-0.051, 10.2] < (10.2, 20.4] < (20.4, 30.6] < (30.6, 40.8] < (40.8, 51.0]]"
      ]
     },
     "execution_count": 72,
     "metadata": {},
     "output_type": "execute_result"
    }
   ],
   "source": [
    "#Calculamos los intervalos en los que se partirá la variable\n",
    "pd.cut(base_c_cruce_2['num_impagos'],5).unique()"
   ]
  },
  {
   "cell_type": "markdown",
   "metadata": {},
   "source": [
    "Los intervalos generados son:\n",
    "* 1: \\[0,10\\]\n",
    "* 2: \\[10,20\\]\n",
    "* 3: \\[20,30\\]\n",
    "* 4:\\[30,40\\]\n",
    "* 5:\\[40,51\\]"
   ]
  },
  {
   "cell_type": "code",
   "execution_count": 73,
   "metadata": {},
   "outputs": [
    {
     "data": {
      "text/html": [
       "<div>\n",
       "<style scoped>\n",
       "    .dataframe tbody tr th:only-of-type {\n",
       "        vertical-align: middle;\n",
       "    }\n",
       "\n",
       "    .dataframe tbody tr th {\n",
       "        vertical-align: top;\n",
       "    }\n",
       "\n",
       "    .dataframe thead th {\n",
       "        text-align: right;\n",
       "    }\n",
       "</style>\n",
       "<table border=\"1\" class=\"dataframe\">\n",
       "  <thead>\n",
       "    <tr style=\"text-align: right;\">\n",
       "      <th></th>\n",
       "      <th>num_caso</th>\n",
       "      <th>num_impagos</th>\n",
       "      <th>num_impagos_intervalo</th>\n",
       "    </tr>\n",
       "  </thead>\n",
       "  <tbody>\n",
       "    <tr>\n",
       "      <th>0</th>\n",
       "      <td>1</td>\n",
       "      <td>7</td>\n",
       "      <td>1</td>\n",
       "    </tr>\n",
       "    <tr>\n",
       "      <th>1</th>\n",
       "      <td>7</td>\n",
       "      <td>9</td>\n",
       "      <td>1</td>\n",
       "    </tr>\n",
       "    <tr>\n",
       "      <th>2</th>\n",
       "      <td>8</td>\n",
       "      <td>4</td>\n",
       "      <td>1</td>\n",
       "    </tr>\n",
       "    <tr>\n",
       "      <th>3</th>\n",
       "      <td>9</td>\n",
       "      <td>0</td>\n",
       "      <td>1</td>\n",
       "    </tr>\n",
       "    <tr>\n",
       "      <th>4</th>\n",
       "      <td>10</td>\n",
       "      <td>1</td>\n",
       "      <td>1</td>\n",
       "    </tr>\n",
       "  </tbody>\n",
       "</table>\n",
       "</div>"
      ],
      "text/plain": [
       "   num_caso  num_impagos num_impagos_intervalo\n",
       "0         1            7                     1\n",
       "1         7            9                     1\n",
       "2         8            4                     1\n",
       "3         9            0                     1\n",
       "4        10            1                     1"
      ]
     },
     "execution_count": 73,
     "metadata": {},
     "output_type": "execute_result"
    }
   ],
   "source": [
    "#Partimos la columna en estos intervalos\n",
    "base_c_cruce_2['num_impagos_intervalo']=pd.cut(base_c_cruce_2['num_impagos'],5,labels=[1,2,3,4,5])\n",
    "base_c_cruce_2.head()"
   ]
  },
  {
   "cell_type": "code",
   "execution_count": 74,
   "metadata": {},
   "outputs": [
    {
     "data": {
      "text/plain": [
       "1    46927\n",
       "2     1718\n",
       "3      530\n",
       "4      155\n",
       "5       22\n",
       "Name: num_impagos_intervalo, dtype: int64"
      ]
     },
     "execution_count": 74,
     "metadata": {},
     "output_type": "execute_result"
    }
   ],
   "source": [
    "#Frecuencia absoluta\n",
    "base_c_cruce_2['num_impagos_intervalo'].value_counts()"
   ]
  },
  {
   "cell_type": "code",
   "execution_count": 75,
   "metadata": {},
   "outputs": [
    {
     "data": {
      "text/plain": [
       "1    95.09%\n",
       "2     3.48%\n",
       "3     1.07%\n",
       "4     0.31%\n",
       "5     0.04%\n",
       "Name: num_impagos_intervalo, dtype: object"
      ]
     },
     "execution_count": 75,
     "metadata": {},
     "output_type": "execute_result"
    }
   ],
   "source": [
    "#Frecuencia relativa\n",
    "round(base_c_cruce_2['num_impagos_intervalo'].value_counts(True)*100,2).astype('str')+'%'"
   ]
  },
  {
   "cell_type": "code",
   "execution_count": 76,
   "metadata": {},
   "outputs": [
    {
     "data": {
      "text/plain": [
       "<AxesSubplot:>"
      ]
     },
     "execution_count": 76,
     "metadata": {},
     "output_type": "execute_result"
    },
    {
     "data": {
      "image/png": "[encoded data removed]",
      "text/plain": [
       "<Figure size 432x288 with 1 Axes>"
      ]
     },
     "metadata": {
      "needs_background": "light"
     },
     "output_type": "display_data"
    }
   ],
   "source": [
    "#Hacemos un gráfico de barras\n",
    "base_c_cruce_2['num_impagos_intervalo'].value_counts().plot(kind='bar')"
   ]
  },
  {
   "cell_type": "markdown",
   "metadata": {},
   "source": [
    "Un 95% de los clientes tienen entre 0 y 10 impagos\n",
    "### num_impagos_acum_intervalo\n",
    "De igual forma partiremos la información en 5 intervalos de la misma longitud"
   ]
  },
  {
   "cell_type": "code",
   "execution_count": 77,
   "metadata": {},
   "outputs": [
    {
     "data": {
      "text/plain": [
       "[(-0.19, 38.0], (38.0, 76.0], (76.0, 114.0], (114.0, 152.0], (152.0, 190.0]]\n",
       "Categories (5, interval[float64]): [(-0.19, 38.0] < (38.0, 76.0] < (76.0, 114.0] < (114.0, 152.0] < (152.0, 190.0]]"
      ]
     },
     "execution_count": 77,
     "metadata": {},
     "output_type": "execute_result"
    }
   ],
   "source": [
    "#Calculamos los intervalos en los que se partirá la variable\n",
    "pd.cut(base_c_cruce['num_impagos_acum'],5).unique()"
   ]
  },
  {
   "cell_type": "markdown",
   "metadata": {},
   "source": [
    "Los datos se partieron en los siguientes intervalos:\n",
    "* Intervalo 1: \\[0,38\\]\n",
    "* Intervalo 2: \\[39,76\\]\n",
    "* Intervalo 3: \\[77,114\\]\n",
    "* Intervalo 4: \\[115,152\\]\n",
    "* Intervalo 5: \\[152,190\\]\n",
    "\n"
   ]
  },
  {
   "cell_type": "code",
   "execution_count": 78,
   "metadata": {},
   "outputs": [],
   "source": [
    "base_c_cruce['num_impagos_acum_intervalo']=pd.cut(base_c_cruce['num_impagos_acum'],5,labels=[1,2,3,4,5])"
   ]
  },
  {
   "cell_type": "code",
   "execution_count": 79,
   "metadata": {},
   "outputs": [
    {
     "data": {
      "text/plain": [
       "1    47981\n",
       "2     1209\n",
       "3      150\n",
       "4       11\n",
       "5        1\n",
       "Name: num_impagos_acum_intervalo, dtype: int64"
      ]
     },
     "execution_count": 79,
     "metadata": {},
     "output_type": "execute_result"
    }
   ],
   "source": [
    "#Frecuencias absolutas\n",
    "base_c_cruce['num_impagos_acum_intervalo'].value_counts()"
   ]
  },
  {
   "cell_type": "code",
   "execution_count": 80,
   "metadata": {},
   "outputs": [
    {
     "data": {
      "text/plain": [
       "1    97.222%\n",
       "2      2.45%\n",
       "3     0.304%\n",
       "4     0.022%\n",
       "5     0.002%\n",
       "Name: num_impagos_acum_intervalo, dtype: object"
      ]
     },
     "execution_count": 80,
     "metadata": {},
     "output_type": "execute_result"
    }
   ],
   "source": [
    "#Frecuencia relativa\n",
    "round(base_c_cruce['num_impagos_acum_intervalo'].value_counts(True)*100,3).astype('str')+'%'"
   ]
  },
  {
   "cell_type": "markdown",
   "metadata": {},
   "source": [
    "Un 97% de los clientes caen en el primer intervalo"
   ]
  },
  {
   "cell_type": "code",
   "execution_count": null,
   "metadata": {},
   "outputs": [],
   "source": []
  },
  {
   "cell_type": "code",
   "execution_count": 81,
   "metadata": {},
   "outputs": [],
   "source": [
    "base_c_cruce.columns=['_id_','num_impagos_acum','num_impagos_acum_intervalo']\n",
    "base_c_cruce_2.columns=['_id_','num_impagos','num_impagos_intervalo']"
   ]
  },
  {
   "cell_type": "code",
   "execution_count": 82,
   "metadata": {},
   "outputs": [
    {
     "data": {
      "text/plain": [
       "True"
      ]
     },
     "execution_count": 82,
     "metadata": {},
     "output_type": "execute_result"
    }
   ],
   "source": [
    "len(base_c_cruce)==len(base_c_cruce_2)"
   ]
  },
  {
   "cell_type": "markdown",
   "metadata": {},
   "source": [
    "Ahora juntamos las dos bases de comportamiento por el id y de ahí la juntamos con la base de los clientes que solicitaron el crédito, será a travéz de un left join y de ahí separaremos en dos bases para hacer un análisis donde veremos en que categorias de cada columna estan los clientes que no recibieron el crédito y en cuales estan los que si recibieron el crédito"
   ]
  },
  {
   "cell_type": "code",
   "execution_count": 83,
   "metadata": {},
   "outputs": [],
   "source": [
    "base_cruce_1=pd.merge(base_c_cruce_2,base_c_cruce,on='_id_')"
   ]
  },
  {
   "cell_type": "code",
   "execution_count": 84,
   "metadata": {},
   "outputs": [
    {
     "data": {
      "text/plain": [
       "True"
      ]
     },
     "execution_count": 84,
     "metadata": {},
     "output_type": "execute_result"
    }
   ],
   "source": [
    "len(base_cruce_1)==len(base_c_cruce_2)"
   ]
  },
  {
   "cell_type": "code",
   "execution_count": 85,
   "metadata": {},
   "outputs": [
    {
     "data": {
      "text/html": [
       "<div>\n",
       "<style scoped>\n",
       "    .dataframe tbody tr th:only-of-type {\n",
       "        vertical-align: middle;\n",
       "    }\n",
       "\n",
       "    .dataframe tbody tr th {\n",
       "        vertical-align: top;\n",
       "    }\n",
       "\n",
       "    .dataframe thead th {\n",
       "        text-align: right;\n",
       "    }\n",
       "</style>\n",
       "<table border=\"1\" class=\"dataframe\">\n",
       "  <thead>\n",
       "    <tr style=\"text-align: right;\">\n",
       "      <th></th>\n",
       "      <th>_id_</th>\n",
       "      <th>num_impagos</th>\n",
       "      <th>num_impagos_intervalo</th>\n",
       "      <th>num_impagos_acum</th>\n",
       "      <th>num_impagos_acum_intervalo</th>\n",
       "    </tr>\n",
       "  </thead>\n",
       "  <tbody>\n",
       "    <tr>\n",
       "      <th>0</th>\n",
       "      <td>1</td>\n",
       "      <td>7</td>\n",
       "      <td>1</td>\n",
       "      <td>7.0</td>\n",
       "      <td>1</td>\n",
       "    </tr>\n",
       "    <tr>\n",
       "      <th>1</th>\n",
       "      <td>7</td>\n",
       "      <td>9</td>\n",
       "      <td>1</td>\n",
       "      <td>24.0</td>\n",
       "      <td>1</td>\n",
       "    </tr>\n",
       "    <tr>\n",
       "      <th>2</th>\n",
       "      <td>8</td>\n",
       "      <td>4</td>\n",
       "      <td>1</td>\n",
       "      <td>4.0</td>\n",
       "      <td>1</td>\n",
       "    </tr>\n",
       "    <tr>\n",
       "      <th>3</th>\n",
       "      <td>9</td>\n",
       "      <td>0</td>\n",
       "      <td>1</td>\n",
       "      <td>0.0</td>\n",
       "      <td>1</td>\n",
       "    </tr>\n",
       "    <tr>\n",
       "      <th>4</th>\n",
       "      <td>10</td>\n",
       "      <td>1</td>\n",
       "      <td>1</td>\n",
       "      <td>1.0</td>\n",
       "      <td>1</td>\n",
       "    </tr>\n",
       "  </tbody>\n",
       "</table>\n",
       "</div>"
      ],
      "text/plain": [
       "   _id_  num_impagos num_impagos_intervalo  num_impagos_acum  \\\n",
       "0     1            7                     1               7.0   \n",
       "1     7            9                     1              24.0   \n",
       "2     8            4                     1               4.0   \n",
       "3     9            0                     1               0.0   \n",
       "4    10            1                     1               1.0   \n",
       "\n",
       "  num_impagos_acum_intervalo  \n",
       "0                          1  \n",
       "1                          1  \n",
       "2                          1  \n",
       "3                          1  \n",
       "4                          1  "
      ]
     },
     "execution_count": 85,
     "metadata": {},
     "output_type": "execute_result"
    }
   ],
   "source": [
    "base_cruce_1.head()"
   ]
  },
  {
   "cell_type": "code",
   "execution_count": 86,
   "metadata": {},
   "outputs": [],
   "source": [
    "base_final=pd.merge(base,base_cruce_1,on='_id_',how='left')"
   ]
  },
  {
   "cell_type": "code",
   "execution_count": 87,
   "metadata": {},
   "outputs": [
    {
     "data": {
      "text/html": [
       "<div>\n",
       "<style scoped>\n",
       "    .dataframe tbody tr th:only-of-type {\n",
       "        vertical-align: middle;\n",
       "    }\n",
       "\n",
       "    .dataframe tbody tr th {\n",
       "        vertical-align: top;\n",
       "    }\n",
       "\n",
       "    .dataframe thead th {\n",
       "        text-align: right;\n",
       "    }\n",
       "</style>\n",
       "<table border=\"1\" class=\"dataframe\">\n",
       "  <thead>\n",
       "    <tr style=\"text-align: right;\">\n",
       "      <th></th>\n",
       "      <th>_id_</th>\n",
       "      <th>fecha_inicio</th>\n",
       "      <th>comp_interno1</th>\n",
       "      <th>comp_interno2</th>\n",
       "      <th>comp_interno3</th>\n",
       "      <th>comp_interno4</th>\n",
       "      <th>categoria1</th>\n",
       "      <th>categoria2</th>\n",
       "      <th>categoria3</th>\n",
       "      <th>comp_externo1</th>\n",
       "      <th>comp_externo2</th>\n",
       "      <th>comp_externo3</th>\n",
       "      <th>comp_externo4</th>\n",
       "      <th>_id2_</th>\n",
       "      <th>comp_mixto1</th>\n",
       "      <th>inversion</th>\n",
       "      <th>num_impagos</th>\n",
       "      <th>num_impagos_intervalo</th>\n",
       "      <th>num_impagos_acum</th>\n",
       "      <th>num_impagos_acum_intervalo</th>\n",
       "    </tr>\n",
       "  </thead>\n",
       "  <tbody>\n",
       "    <tr>\n",
       "      <th>0</th>\n",
       "      <td>78213</td>\n",
       "      <td>2020-03-25</td>\n",
       "      <td>0.000000</td>\n",
       "      <td>b'0'</td>\n",
       "      <td>11.0</td>\n",
       "      <td>58.0</td>\n",
       "      <td>2.0</td>\n",
       "      <td>9.0</td>\n",
       "      <td>156.0</td>\n",
       "      <td>260.869565</td>\n",
       "      <td>25.854639</td>\n",
       "      <td>56.0</td>\n",
       "      <td>-230.0</td>\n",
       "      <td>1798899</td>\n",
       "      <td>0.33522</td>\n",
       "      <td>NaN</td>\n",
       "      <td>1.0</td>\n",
       "      <td>1</td>\n",
       "      <td>1.0</td>\n",
       "      <td>1</td>\n",
       "    </tr>\n",
       "    <tr>\n",
       "      <th>1</th>\n",
       "      <td>76457</td>\n",
       "      <td>2020-02-13</td>\n",
       "      <td>0.000000</td>\n",
       "      <td>b'1'</td>\n",
       "      <td>28.0</td>\n",
       "      <td>45.0</td>\n",
       "      <td>1.0</td>\n",
       "      <td>4.0</td>\n",
       "      <td>173.0</td>\n",
       "      <td>40.579710</td>\n",
       "      <td>2.872738</td>\n",
       "      <td>62.0</td>\n",
       "      <td>-230.0</td>\n",
       "      <td>1758511</td>\n",
       "      <td>0.33334</td>\n",
       "      <td>0.041039</td>\n",
       "      <td>1.0</td>\n",
       "      <td>1</td>\n",
       "      <td>1.0</td>\n",
       "      <td>1</td>\n",
       "    </tr>\n",
       "    <tr>\n",
       "      <th>2</th>\n",
       "      <td>40666</td>\n",
       "      <td>2018-01-24</td>\n",
       "      <td>0.000000</td>\n",
       "      <td>b'1'</td>\n",
       "      <td>25.0</td>\n",
       "      <td>45.0</td>\n",
       "      <td>1.0</td>\n",
       "      <td>9.0</td>\n",
       "      <td>170.0</td>\n",
       "      <td>NaN</td>\n",
       "      <td>NaN</td>\n",
       "      <td>119.0</td>\n",
       "      <td>-230.0</td>\n",
       "      <td>935318</td>\n",
       "      <td>0.29186</td>\n",
       "      <td>NaN</td>\n",
       "      <td>2.0</td>\n",
       "      <td>1</td>\n",
       "      <td>2.0</td>\n",
       "      <td>1</td>\n",
       "    </tr>\n",
       "    <tr>\n",
       "      <th>3</th>\n",
       "      <td>8329</td>\n",
       "      <td>2016-10-07</td>\n",
       "      <td>0.000000</td>\n",
       "      <td>b'1'</td>\n",
       "      <td>14.0</td>\n",
       "      <td>59.0</td>\n",
       "      <td>3.0</td>\n",
       "      <td>3.0</td>\n",
       "      <td>159.0</td>\n",
       "      <td>349.275362</td>\n",
       "      <td>34.616490</td>\n",
       "      <td>94.0</td>\n",
       "      <td>-230.0</td>\n",
       "      <td>191567</td>\n",
       "      <td>0.29112</td>\n",
       "      <td>NaN</td>\n",
       "      <td>0.0</td>\n",
       "      <td>1</td>\n",
       "      <td>0.0</td>\n",
       "      <td>1</td>\n",
       "    </tr>\n",
       "    <tr>\n",
       "      <th>4</th>\n",
       "      <td>68389</td>\n",
       "      <td>2019-07-30</td>\n",
       "      <td>2026.342452</td>\n",
       "      <td>b'1'</td>\n",
       "      <td>1.0</td>\n",
       "      <td>67.0</td>\n",
       "      <td>2.0</td>\n",
       "      <td>9.0</td>\n",
       "      <td>146.0</td>\n",
       "      <td>276.811594</td>\n",
       "      <td>27.434645</td>\n",
       "      <td>125.0</td>\n",
       "      <td>-230.0</td>\n",
       "      <td>1572947</td>\n",
       "      <td>0.27318</td>\n",
       "      <td>77.422135</td>\n",
       "      <td>1.0</td>\n",
       "      <td>1</td>\n",
       "      <td>1.0</td>\n",
       "      <td>1</td>\n",
       "    </tr>\n",
       "  </tbody>\n",
       "</table>\n",
       "</div>"
      ],
      "text/plain": [
       "    _id_ fecha_inicio  comp_interno1 comp_interno2  comp_interno3  \\\n",
       "0  78213   2020-03-25       0.000000          b'0'           11.0   \n",
       "1  76457   2020-02-13       0.000000          b'1'           28.0   \n",
       "2  40666   2018-01-24       0.000000          b'1'           25.0   \n",
       "3   8329   2016-10-07       0.000000          b'1'           14.0   \n",
       "4  68389   2019-07-30    2026.342452          b'1'            1.0   \n",
       "\n",
       "   comp_interno4  categoria1  categoria2  categoria3  comp_externo1  \\\n",
       "0           58.0         2.0         9.0       156.0     260.869565   \n",
       "1           45.0         1.0         4.0       173.0      40.579710   \n",
       "2           45.0         1.0         9.0       170.0            NaN   \n",
       "3           59.0         3.0         3.0       159.0     349.275362   \n",
       "4           67.0         2.0         9.0       146.0     276.811594   \n",
       "\n",
       "   comp_externo2  comp_externo3  comp_externo4    _id2_  comp_mixto1  \\\n",
       "0      25.854639           56.0         -230.0  1798899      0.33522   \n",
       "1       2.872738           62.0         -230.0  1758511      0.33334   \n",
       "2            NaN          119.0         -230.0   935318      0.29186   \n",
       "3      34.616490           94.0         -230.0   191567      0.29112   \n",
       "4      27.434645          125.0         -230.0  1572947      0.27318   \n",
       "\n",
       "   inversion  num_impagos num_impagos_intervalo  num_impagos_acum  \\\n",
       "0        NaN          1.0                     1               1.0   \n",
       "1   0.041039          1.0                     1               1.0   \n",
       "2        NaN          2.0                     1               2.0   \n",
       "3        NaN          0.0                     1               0.0   \n",
       "4  77.422135          1.0                     1               1.0   \n",
       "\n",
       "  num_impagos_acum_intervalo  \n",
       "0                          1  \n",
       "1                          1  \n",
       "2                          1  \n",
       "3                          1  \n",
       "4                          1  "
      ]
     },
     "execution_count": 87,
     "metadata": {},
     "output_type": "execute_result"
    }
   ],
   "source": [
    "base_final.head()"
   ]
  },
  {
   "cell_type": "code",
   "execution_count": 88,
   "metadata": {},
   "outputs": [
    {
     "data": {
      "text/plain": [
       "_id_                              0\n",
       "fecha_inicio                      0\n",
       "comp_interno1                     0\n",
       "comp_interno2                     0\n",
       "comp_interno3                     0\n",
       "comp_interno4                     0\n",
       "categoria1                        0\n",
       "categoria2                        0\n",
       "categoria3                        0\n",
       "comp_externo1                  2169\n",
       "comp_externo2                  5590\n",
       "comp_externo3                     6\n",
       "comp_externo4                     0\n",
       "_id2_                             0\n",
       "comp_mixto1                       0\n",
       "inversion                     32464\n",
       "num_impagos                     648\n",
       "num_impagos_intervalo           648\n",
       "num_impagos_acum                648\n",
       "num_impagos_acum_intervalo      648\n",
       "dtype: int64"
      ]
     },
     "execution_count": 88,
     "metadata": {},
     "output_type": "execute_result"
    }
   ],
   "source": [
    "base_final.isna().sum()"
   ]
  },
  {
   "cell_type": "code",
   "execution_count": 89,
   "metadata": {},
   "outputs": [],
   "source": [
    "base_aceptados=base_final[~base_final.num_impagos.isna()]\n",
    "base_no_aceptados=base_final[base_final.num_impagos.isna()]"
   ]
  },
  {
   "cell_type": "code",
   "execution_count": 90,
   "metadata": {},
   "outputs": [
    {
     "data": {
      "text/plain": [
       "49352"
      ]
     },
     "execution_count": 90,
     "metadata": {},
     "output_type": "execute_result"
    }
   ],
   "source": [
    "len(base_aceptados)"
   ]
  },
  {
   "cell_type": "code",
   "execution_count": 91,
   "metadata": {},
   "outputs": [
    {
     "data": {
      "text/plain": [
       "648"
      ]
     },
     "execution_count": 91,
     "metadata": {},
     "output_type": "execute_result"
    }
   ],
   "source": [
    "len(base_no_aceptados)"
   ]
  },
  {
   "cell_type": "markdown",
   "metadata": {},
   "source": [
    "A 49352 clientes se les dió el crédito y a 648 clientes no se les dio el crédito, veamos que diferencia a cada cliente"
   ]
  },
  {
   "cell_type": "code",
   "execution_count": null,
   "metadata": {},
   "outputs": [],
   "source": [
    "#Convertimos los tipos de datos\n",
    "base_aceptados=base_aceptados.convert_dtypes()\n",
    "base_no_aceptados=base_no_aceptados.convert_dtypes()"
   ]
  },
  {
   "cell_type": "code",
   "execution_count": 128,
   "metadata": {},
   "outputs": [
    {
     "data": {
      "text/html": [
       "<div>\n",
       "<style scoped>\n",
       "    .dataframe tbody tr th:only-of-type {\n",
       "        vertical-align: middle;\n",
       "    }\n",
       "\n",
       "    .dataframe tbody tr th {\n",
       "        vertical-align: top;\n",
       "    }\n",
       "\n",
       "    .dataframe thead th {\n",
       "        text-align: right;\n",
       "    }\n",
       "</style>\n",
       "<table border=\"1\" class=\"dataframe\">\n",
       "  <thead>\n",
       "    <tr style=\"text-align: right;\">\n",
       "      <th></th>\n",
       "      <th>_id_</th>\n",
       "      <th>fecha_inicio</th>\n",
       "      <th>comp_interno1</th>\n",
       "      <th>comp_interno2</th>\n",
       "      <th>comp_interno3</th>\n",
       "      <th>comp_interno4</th>\n",
       "      <th>categoria1</th>\n",
       "      <th>categoria2</th>\n",
       "      <th>categoria3</th>\n",
       "      <th>comp_externo1</th>\n",
       "      <th>comp_externo2</th>\n",
       "      <th>comp_externo3</th>\n",
       "      <th>comp_externo4</th>\n",
       "      <th>_id2_</th>\n",
       "      <th>comp_mixto1</th>\n",
       "      <th>inversion</th>\n",
       "      <th>num_impagos</th>\n",
       "      <th>num_impagos_intervalo</th>\n",
       "      <th>num_impagos_acum</th>\n",
       "      <th>num_impagos_acum_intervalo</th>\n",
       "    </tr>\n",
       "  </thead>\n",
       "  <tbody>\n",
       "    <tr>\n",
       "      <th>0</th>\n",
       "      <td>78213</td>\n",
       "      <td>2020-03-25</td>\n",
       "      <td>0.000000</td>\n",
       "      <td>b'0'</td>\n",
       "      <td>11</td>\n",
       "      <td>58</td>\n",
       "      <td>2</td>\n",
       "      <td>9</td>\n",
       "      <td>156</td>\n",
       "      <td>260.869565</td>\n",
       "      <td>25.854639</td>\n",
       "      <td>56</td>\n",
       "      <td>-230.0</td>\n",
       "      <td>1798899</td>\n",
       "      <td>0.33522</td>\n",
       "      <td>NaN</td>\n",
       "      <td>1</td>\n",
       "      <td>1</td>\n",
       "      <td>1</td>\n",
       "      <td>1</td>\n",
       "    </tr>\n",
       "    <tr>\n",
       "      <th>1</th>\n",
       "      <td>76457</td>\n",
       "      <td>2020-02-13</td>\n",
       "      <td>0.000000</td>\n",
       "      <td>b'1'</td>\n",
       "      <td>28</td>\n",
       "      <td>45</td>\n",
       "      <td>1</td>\n",
       "      <td>4</td>\n",
       "      <td>173</td>\n",
       "      <td>40.579710</td>\n",
       "      <td>2.872738</td>\n",
       "      <td>62</td>\n",
       "      <td>-230.0</td>\n",
       "      <td>1758511</td>\n",
       "      <td>0.33334</td>\n",
       "      <td>0.041039</td>\n",
       "      <td>1</td>\n",
       "      <td>1</td>\n",
       "      <td>1</td>\n",
       "      <td>1</td>\n",
       "    </tr>\n",
       "    <tr>\n",
       "      <th>2</th>\n",
       "      <td>40666</td>\n",
       "      <td>2018-01-24</td>\n",
       "      <td>0.000000</td>\n",
       "      <td>b'1'</td>\n",
       "      <td>25</td>\n",
       "      <td>45</td>\n",
       "      <td>1</td>\n",
       "      <td>9</td>\n",
       "      <td>170</td>\n",
       "      <td>NaN</td>\n",
       "      <td>NaN</td>\n",
       "      <td>119</td>\n",
       "      <td>-230.0</td>\n",
       "      <td>935318</td>\n",
       "      <td>0.29186</td>\n",
       "      <td>NaN</td>\n",
       "      <td>2</td>\n",
       "      <td>1</td>\n",
       "      <td>2</td>\n",
       "      <td>1</td>\n",
       "    </tr>\n",
       "    <tr>\n",
       "      <th>3</th>\n",
       "      <td>8329</td>\n",
       "      <td>2016-10-07</td>\n",
       "      <td>0.000000</td>\n",
       "      <td>b'1'</td>\n",
       "      <td>14</td>\n",
       "      <td>59</td>\n",
       "      <td>3</td>\n",
       "      <td>3</td>\n",
       "      <td>159</td>\n",
       "      <td>349.275362</td>\n",
       "      <td>34.616490</td>\n",
       "      <td>94</td>\n",
       "      <td>-230.0</td>\n",
       "      <td>191567</td>\n",
       "      <td>0.29112</td>\n",
       "      <td>NaN</td>\n",
       "      <td>0</td>\n",
       "      <td>1</td>\n",
       "      <td>0</td>\n",
       "      <td>1</td>\n",
       "    </tr>\n",
       "    <tr>\n",
       "      <th>4</th>\n",
       "      <td>68389</td>\n",
       "      <td>2019-07-30</td>\n",
       "      <td>2026.342452</td>\n",
       "      <td>b'1'</td>\n",
       "      <td>1</td>\n",
       "      <td>67</td>\n",
       "      <td>2</td>\n",
       "      <td>9</td>\n",
       "      <td>146</td>\n",
       "      <td>276.811594</td>\n",
       "      <td>27.434645</td>\n",
       "      <td>125</td>\n",
       "      <td>-230.0</td>\n",
       "      <td>1572947</td>\n",
       "      <td>0.27318</td>\n",
       "      <td>77.422135</td>\n",
       "      <td>1</td>\n",
       "      <td>1</td>\n",
       "      <td>1</td>\n",
       "      <td>1</td>\n",
       "    </tr>\n",
       "  </tbody>\n",
       "</table>\n",
       "</div>"
      ],
      "text/plain": [
       "    _id_ fecha_inicio  comp_interno1 comp_interno2  comp_interno3  \\\n",
       "0  78213   2020-03-25       0.000000          b'0'             11   \n",
       "1  76457   2020-02-13       0.000000          b'1'             28   \n",
       "2  40666   2018-01-24       0.000000          b'1'             25   \n",
       "3   8329   2016-10-07       0.000000          b'1'             14   \n",
       "4  68389   2019-07-30    2026.342452          b'1'              1   \n",
       "\n",
       "   comp_interno4  categoria1  categoria2  categoria3  comp_externo1  \\\n",
       "0             58           2           9         156     260.869565   \n",
       "1             45           1           4         173      40.579710   \n",
       "2             45           1           9         170            NaN   \n",
       "3             59           3           3         159     349.275362   \n",
       "4             67           2           9         146     276.811594   \n",
       "\n",
       "   comp_externo2  comp_externo3  comp_externo4    _id2_  comp_mixto1  \\\n",
       "0      25.854639             56         -230.0  1798899      0.33522   \n",
       "1       2.872738             62         -230.0  1758511      0.33334   \n",
       "2            NaN            119         -230.0   935318      0.29186   \n",
       "3      34.616490             94         -230.0   191567      0.29112   \n",
       "4      27.434645            125         -230.0  1572947      0.27318   \n",
       "\n",
       "   inversion  num_impagos num_impagos_intervalo  num_impagos_acum  \\\n",
       "0        NaN            1                     1                 1   \n",
       "1   0.041039            1                     1                 1   \n",
       "2        NaN            2                     1                 2   \n",
       "3        NaN            0                     1                 0   \n",
       "4  77.422135            1                     1                 1   \n",
       "\n",
       "  num_impagos_acum_intervalo  \n",
       "0                          1  \n",
       "1                          1  \n",
       "2                          1  \n",
       "3                          1  \n",
       "4                          1  "
      ]
     },
     "execution_count": 128,
     "metadata": {},
     "output_type": "execute_result"
    }
   ],
   "source": [
    "base_aceptados.head()"
   ]
  },
  {
   "cell_type": "code",
   "execution_count": 127,
   "metadata": {},
   "outputs": [
    {
     "data": {
      "text/html": [
       "<div>\n",
       "<style scoped>\n",
       "    .dataframe tbody tr th:only-of-type {\n",
       "        vertical-align: middle;\n",
       "    }\n",
       "\n",
       "    .dataframe tbody tr th {\n",
       "        vertical-align: top;\n",
       "    }\n",
       "\n",
       "    .dataframe thead th {\n",
       "        text-align: right;\n",
       "    }\n",
       "</style>\n",
       "<table border=\"1\" class=\"dataframe\">\n",
       "  <thead>\n",
       "    <tr style=\"text-align: right;\">\n",
       "      <th></th>\n",
       "      <th>_id_</th>\n",
       "      <th>fecha_inicio</th>\n",
       "      <th>comp_interno1</th>\n",
       "      <th>comp_interno2</th>\n",
       "      <th>comp_interno3</th>\n",
       "      <th>comp_interno4</th>\n",
       "      <th>categoria1</th>\n",
       "      <th>categoria2</th>\n",
       "      <th>categoria3</th>\n",
       "      <th>comp_externo1</th>\n",
       "      <th>comp_externo2</th>\n",
       "      <th>comp_externo3</th>\n",
       "      <th>comp_externo4</th>\n",
       "      <th>_id2_</th>\n",
       "      <th>comp_mixto1</th>\n",
       "      <th>inversion</th>\n",
       "      <th>num_impagos</th>\n",
       "      <th>num_impagos_intervalo</th>\n",
       "      <th>num_impagos_acum</th>\n",
       "      <th>num_impagos_acum_intervalo</th>\n",
       "    </tr>\n",
       "  </thead>\n",
       "  <tbody>\n",
       "    <tr>\n",
       "      <th>80</th>\n",
       "      <td>96667</td>\n",
       "      <td>2021-03-23</td>\n",
       "      <td>0.00000</td>\n",
       "      <td>b'0'</td>\n",
       "      <td>1</td>\n",
       "      <td>64</td>\n",
       "      <td>2</td>\n",
       "      <td>9</td>\n",
       "      <td>146</td>\n",
       "      <td>324.637681</td>\n",
       "      <td>32.174662</td>\n",
       "      <td>127</td>\n",
       "      <td>-230.0</td>\n",
       "      <td>2223341</td>\n",
       "      <td>0.36504</td>\n",
       "      <td>NaN</td>\n",
       "      <td>&lt;NA&gt;</td>\n",
       "      <td>NaN</td>\n",
       "      <td>&lt;NA&gt;</td>\n",
       "      <td>NaN</td>\n",
       "    </tr>\n",
       "    <tr>\n",
       "      <th>107</th>\n",
       "      <td>97397</td>\n",
       "      <td>2021-04-08</td>\n",
       "      <td>0.00000</td>\n",
       "      <td>b'0'</td>\n",
       "      <td>19</td>\n",
       "      <td>64</td>\n",
       "      <td>4</td>\n",
       "      <td>9</td>\n",
       "      <td>164</td>\n",
       "      <td>858.840580</td>\n",
       "      <td>85.119219</td>\n",
       "      <td>134</td>\n",
       "      <td>-230.0</td>\n",
       "      <td>2240131</td>\n",
       "      <td>0.38000</td>\n",
       "      <td>NaN</td>\n",
       "      <td>&lt;NA&gt;</td>\n",
       "      <td>NaN</td>\n",
       "      <td>&lt;NA&gt;</td>\n",
       "      <td>NaN</td>\n",
       "    </tr>\n",
       "    <tr>\n",
       "      <th>131</th>\n",
       "      <td>98330</td>\n",
       "      <td>2021-04-05</td>\n",
       "      <td>0.00000</td>\n",
       "      <td>b'1'</td>\n",
       "      <td>19</td>\n",
       "      <td>44</td>\n",
       "      <td>1</td>\n",
       "      <td>9</td>\n",
       "      <td>164</td>\n",
       "      <td>156.521739</td>\n",
       "      <td>15.512784</td>\n",
       "      <td>109</td>\n",
       "      <td>-230.0</td>\n",
       "      <td>2261590</td>\n",
       "      <td>0.34680</td>\n",
       "      <td>0.105438</td>\n",
       "      <td>&lt;NA&gt;</td>\n",
       "      <td>NaN</td>\n",
       "      <td>&lt;NA&gt;</td>\n",
       "      <td>NaN</td>\n",
       "    </tr>\n",
       "    <tr>\n",
       "      <th>201</th>\n",
       "      <td>33487</td>\n",
       "      <td>2017-09-20</td>\n",
       "      <td>1008.10537</td>\n",
       "      <td>b'1'</td>\n",
       "      <td>28</td>\n",
       "      <td>59</td>\n",
       "      <td>2</td>\n",
       "      <td>9</td>\n",
       "      <td>173</td>\n",
       "      <td>57.971014</td>\n",
       "      <td>NaN</td>\n",
       "      <td>131</td>\n",
       "      <td>-230.0</td>\n",
       "      <td>770201</td>\n",
       "      <td>0.24514</td>\n",
       "      <td>NaN</td>\n",
       "      <td>&lt;NA&gt;</td>\n",
       "      <td>NaN</td>\n",
       "      <td>&lt;NA&gt;</td>\n",
       "      <td>NaN</td>\n",
       "    </tr>\n",
       "    <tr>\n",
       "      <th>442</th>\n",
       "      <td>96681</td>\n",
       "      <td>2021-03-25</td>\n",
       "      <td>0.00000</td>\n",
       "      <td>b'1'</td>\n",
       "      <td>21</td>\n",
       "      <td>74</td>\n",
       "      <td>1</td>\n",
       "      <td>6</td>\n",
       "      <td>166</td>\n",
       "      <td>886.956522</td>\n",
       "      <td>87.905774</td>\n",
       "      <td>115</td>\n",
       "      <td>-230.0</td>\n",
       "      <td>2223663</td>\n",
       "      <td>0.30776</td>\n",
       "      <td>NaN</td>\n",
       "      <td>&lt;NA&gt;</td>\n",
       "      <td>NaN</td>\n",
       "      <td>&lt;NA&gt;</td>\n",
       "      <td>NaN</td>\n",
       "    </tr>\n",
       "  </tbody>\n",
       "</table>\n",
       "</div>"
      ],
      "text/plain": [
       "      _id_ fecha_inicio  comp_interno1 comp_interno2  comp_interno3  \\\n",
       "80   96667   2021-03-23        0.00000          b'0'              1   \n",
       "107  97397   2021-04-08        0.00000          b'0'             19   \n",
       "131  98330   2021-04-05        0.00000          b'1'             19   \n",
       "201  33487   2017-09-20     1008.10537          b'1'             28   \n",
       "442  96681   2021-03-25        0.00000          b'1'             21   \n",
       "\n",
       "     comp_interno4  categoria1  categoria2  categoria3  comp_externo1  \\\n",
       "80              64           2           9         146     324.637681   \n",
       "107             64           4           9         164     858.840580   \n",
       "131             44           1           9         164     156.521739   \n",
       "201             59           2           9         173      57.971014   \n",
       "442             74           1           6         166     886.956522   \n",
       "\n",
       "     comp_externo2  comp_externo3  comp_externo4    _id2_  comp_mixto1  \\\n",
       "80       32.174662            127         -230.0  2223341      0.36504   \n",
       "107      85.119219            134         -230.0  2240131      0.38000   \n",
       "131      15.512784            109         -230.0  2261590      0.34680   \n",
       "201            NaN            131         -230.0   770201      0.24514   \n",
       "442      87.905774            115         -230.0  2223663      0.30776   \n",
       "\n",
       "     inversion  num_impagos num_impagos_intervalo  num_impagos_acum  \\\n",
       "80         NaN         <NA>                   NaN              <NA>   \n",
       "107        NaN         <NA>                   NaN              <NA>   \n",
       "131   0.105438         <NA>                   NaN              <NA>   \n",
       "201        NaN         <NA>                   NaN              <NA>   \n",
       "442        NaN         <NA>                   NaN              <NA>   \n",
       "\n",
       "    num_impagos_acum_intervalo  \n",
       "80                         NaN  \n",
       "107                        NaN  \n",
       "131                        NaN  \n",
       "201                        NaN  \n",
       "442                        NaN  "
      ]
     },
     "execution_count": 127,
     "metadata": {},
     "output_type": "execute_result"
    }
   ],
   "source": [
    "base_no_aceptados.head()"
   ]
  },
  {
   "cell_type": "code",
   "execution_count": 149,
   "metadata": {},
   "outputs": [
    {
     "name": "stdout",
     "output_type": "stream",
     "text": [
      "<class 'pandas.core.frame.DataFrame'>\n",
      "Int64Index: 49352 entries, 0 to 49999\n",
      "Data columns (total 20 columns):\n",
      " #   Column                      Non-Null Count  Dtype   \n",
      "---  ------                      --------------  -----   \n",
      " 0   _id_                        49352 non-null  Int64   \n",
      " 1   fecha_inicio                49352 non-null  string  \n",
      " 2   comp_interno1               49352 non-null  float64 \n",
      " 3   comp_interno2               49352 non-null  string  \n",
      " 4   comp_interno3               49352 non-null  Int64   \n",
      " 5   comp_interno4               49352 non-null  Int64   \n",
      " 6   categoria1                  49352 non-null  Int64   \n",
      " 7   categoria2                  49352 non-null  Int64   \n",
      " 8   categoria3                  49352 non-null  Int64   \n",
      " 9   comp_externo1               47202 non-null  float64 \n",
      " 10  comp_externo2               43826 non-null  float64 \n",
      " 11  comp_externo3               49346 non-null  Int64   \n",
      " 12  comp_externo4               49352 non-null  float64 \n",
      " 13  _id2_                       49352 non-null  Int64   \n",
      " 14  comp_mixto1                 49352 non-null  float64 \n",
      " 15  inversion                   17261 non-null  float64 \n",
      " 16  num_impagos                 49352 non-null  Int64   \n",
      " 17  num_impagos_intervalo       49352 non-null  category\n",
      " 18  num_impagos_acum            49352 non-null  Int64   \n",
      " 19  num_impagos_acum_intervalo  49352 non-null  category\n",
      "dtypes: Int64(10), category(2), float64(6), string(2)\n",
      "memory usage: 7.7 MB\n"
     ]
    }
   ],
   "source": [
    "base_aceptados.info()"
   ]
  },
  {
   "cell_type": "code",
   "execution_count": 150,
   "metadata": {},
   "outputs": [
    {
     "name": "stdout",
     "output_type": "stream",
     "text": [
      "<class 'pandas.core.frame.DataFrame'>\n",
      "Int64Index: 648 entries, 80 to 49962\n",
      "Data columns (total 20 columns):\n",
      " #   Column                      Non-Null Count  Dtype   \n",
      "---  ------                      --------------  -----   \n",
      " 0   _id_                        648 non-null    Int64   \n",
      " 1   fecha_inicio                648 non-null    string  \n",
      " 2   comp_interno1               648 non-null    float64 \n",
      " 3   comp_interno2               648 non-null    string  \n",
      " 4   comp_interno3               648 non-null    Int64   \n",
      " 5   comp_interno4               648 non-null    Int64   \n",
      " 6   categoria1                  648 non-null    Int64   \n",
      " 7   categoria2                  648 non-null    Int64   \n",
      " 8   categoria3                  648 non-null    Int64   \n",
      " 9   comp_externo1               629 non-null    float64 \n",
      " 10  comp_externo2               584 non-null    float64 \n",
      " 11  comp_externo3               648 non-null    Int64   \n",
      " 12  comp_externo4               648 non-null    float64 \n",
      " 13  _id2_                       648 non-null    Int64   \n",
      " 14  comp_mixto1                 648 non-null    float64 \n",
      " 15  inversion                   275 non-null    float64 \n",
      " 16  num_impagos                 0 non-null      Int64   \n",
      " 17  num_impagos_intervalo       0 non-null      category\n",
      " 18  num_impagos_acum            0 non-null      Int64   \n",
      " 19  num_impagos_acum_intervalo  0 non-null      category\n",
      "dtypes: Int64(10), category(2), float64(6), string(2)\n",
      "memory usage: 104.2 KB\n"
     ]
    }
   ],
   "source": [
    "base_no_aceptados.info()"
   ]
  },
  {
   "cell_type": "markdown",
   "metadata": {},
   "source": [
    "### Comportamiento interno 1\n"
   ]
  },
  {
   "cell_type": "code",
   "execution_count": 135,
   "metadata": {},
   "outputs": [
    {
     "name": "stdout",
     "output_type": "stream",
     "text": [
      "Resumen estadístico aceptados:\n",
      "count     49352.000000\n",
      "mean       1057.320543\n",
      "std        5065.784034\n",
      "min           0.000000\n",
      "25%           0.000000\n",
      "50%           0.000000\n",
      "75%        1013.171226\n",
      "max      329483.282675\n",
      "Name: comp_interno1, dtype: float64\n",
      "\n",
      "Resumen estadístico no aceptados:\n",
      "count      648.000000\n",
      "mean      1153.881634\n",
      "std       3668.459749\n",
      "min          0.000000\n",
      "25%          0.000000\n",
      "50%          0.000000\n",
      "75%       1215.805471\n",
      "max      70921.985816\n",
      "Name: comp_interno1, dtype: float64\n"
     ]
    },
    {
     "data": {
      "image/png": "[encoded data removed]",
      "text/plain": [
       "<Figure size 432x288 with 1 Axes>"
      ]
     },
     "metadata": {
      "needs_background": "light"
     },
     "output_type": "display_data"
    },
    {
     "data": {
      "image/png": "[encoded data removed]",
      "text/plain": [
       "<Figure size 432x288 with 1 Axes>"
      ]
     },
     "metadata": {
      "needs_background": "light"
     },
     "output_type": "display_data"
    }
   ],
   "source": [
    "#Descripción del comportamiento interno 1 en la base de aceptados\n",
    "print('Resumen estadístico aceptados:')\n",
    "print(base_aceptados['comp_interno1'].describe())\n",
    "\n",
    "#Descripción del comportamiento interno 1 en la base de no aceptados\n",
    "print('\\nResumen estadístico no aceptados:')\n",
    "print(base_no_aceptados['comp_interno1'].describe())\n",
    "\n",
    "#Gráfica aceptados\n",
    "plt.hist(base_aceptados['comp_interno1'],bins=20)\n",
    "plt.title('Comportamiento interno 1 aceptados')\n",
    "plt.show()\n",
    "\n",
    "#Gráfica no aceptados\n",
    "plt.hist(base_no_aceptados['comp_interno1'],bins=20)\n",
    "plt.title('Comportamiento interno 1 no aceptados')\n",
    "plt.show()"
   ]
  },
  {
   "cell_type": "markdown",
   "metadata": {},
   "source": [
    "Parece que estas doa variables poseen un comportamiento similar, ambas tienen inician en 0 y poseen valores muy extremos, sus cuantiles son parecidos  pero los datos de la base de no aceptados se encuentranb mas dispersos y esto es a que el rango de los datos es mucho mayor."
   ]
  },
  {
   "cell_type": "markdown",
   "metadata": {},
   "source": [
    "### Comportamiento interno 2"
   ]
  },
  {
   "cell_type": "code",
   "execution_count": 134,
   "metadata": {},
   "outputs": [
    {
     "name": "stdout",
     "output_type": "stream",
     "text": [
      "Resumen estadístico aceptados:\n",
      "count     49352\n",
      "unique        2\n",
      "top        b'1'\n",
      "freq      34835\n",
      "Name: comp_interno2, dtype: object\n",
      "\n",
      "Resumen estadístico no aceptados:\n",
      "count      648\n",
      "unique       2\n",
      "top       b'1'\n",
      "freq       457\n",
      "Name: comp_interno2, dtype: object\n",
      "\n",
      "Frecuencias relativas aceptados\n",
      "b'1'    70.58%\n",
      "b'0'    29.42%\n",
      "Name: comp_interno2, dtype: object\n",
      "\n",
      "Frecuencias relativas no aceptados\n",
      "b'1'    70.52%\n",
      "b'0'    29.48%\n",
      "Name: comp_interno2, dtype: object\n"
     ]
    },
    {
     "data": {
      "image/png": "[encoded data removed]",
      "text/plain": [
       "<Figure size 432x288 with 1 Axes>"
      ]
     },
     "metadata": {
      "needs_background": "light"
     },
     "output_type": "display_data"
    },
    {
     "data": {
      "image/png": "[encoded data removed]",
      "text/plain": [
       "<Figure size 432x288 with 1 Axes>"
      ]
     },
     "metadata": {
      "needs_background": "light"
     },
     "output_type": "display_data"
    }
   ],
   "source": [
    "#Descripción del comportamiento interno 2 en la base de aceptados\n",
    "print('Resumen estadístico aceptados:')\n",
    "print(base_aceptados['comp_interno2'].describe())\n",
    "\n",
    "#Descripción del comportamiento interno 2 en la base de no aceptados\n",
    "print('\\nResumen estadístico no aceptados:')\n",
    "print(base_no_aceptados['comp_interno2'].describe())\n",
    "\n",
    "#Tabla de frecuencias relativas\n",
    "print('\\nFrecuencias relativas aceptados')\n",
    "print(round((base_aceptados['comp_interno2'].value_counts()/sum(base_aceptados['comp_interno2'].value_counts()))*100,2).astype('str')+'%')\n",
    "\n",
    "#Tabla de frecuencias relativas\n",
    "print('\\nFrecuencias relativas no aceptados')\n",
    "print(round((base_no_aceptados['comp_interno2'].value_counts()/sum(base_no_aceptados['comp_interno2'].value_counts()))*100,2).astype('str')+'%')\n",
    "\n",
    "#Gráfica aceptados\n",
    "base_aceptados['comp_interno2'].value_counts().plot(kind='bar')\n",
    "plt.title('Comportamiento interno 2 aceptados')\n",
    "plt.show()\n",
    "\n",
    "#Gráfica no aceptados\n",
    "base_no_aceptados['comp_interno2'].value_counts().plot(kind='bar')\n",
    "plt.title('Comportamiento interno 2  no aceptados')\n",
    "plt.show()"
   ]
  },
  {
   "cell_type": "markdown",
   "metadata": {},
   "source": [
    "Esta variable presenta un comportamiento idéntico en las dos bases de datos por lo que parece no influir en que un cliente tenga o no tenga crédito\n",
    "### Comportamiento interno 3"
   ]
  },
  {
   "cell_type": "code",
   "execution_count": 132,
   "metadata": {},
   "outputs": [
    {
     "name": "stdout",
     "output_type": "stream",
     "text": [
      "Resumen estadístico aceptados:\n",
      "count    49352.000000\n",
      "mean        14.669699\n",
      "std          8.814331\n",
      "min          1.000000\n",
      "25%          8.000000\n",
      "50%         15.000000\n",
      "75%         21.000000\n",
      "max         32.000000\n",
      "Name: comp_interno3, dtype: float64\n",
      "\n",
      "Resumen estadístico no aceptados:\n",
      "count    648.000000\n",
      "mean      14.209877\n",
      "std        8.963558\n",
      "min        1.000000\n",
      "25%        6.000000\n",
      "50%       15.000000\n",
      "75%       21.000000\n",
      "max       32.000000\n",
      "Name: comp_interno3, dtype: float64\n",
      "\n",
      "Frecuencias relativas aceptados:\n",
      "1     14.44%\n",
      "19    14.18%\n",
      "14    10.88%\n",
      "15     7.42%\n",
      "11     4.32%\n",
      "24     3.57%\n",
      "25     3.56%\n",
      "6      3.51%\n",
      "22     3.48%\n",
      "9      3.31%\n",
      "21     3.18%\n",
      "30     3.08%\n",
      "3      2.54%\n",
      "2      2.33%\n",
      "23     2.25%\n",
      "31     2.02%\n",
      "26     1.99%\n",
      "28     1.93%\n",
      "17      1.8%\n",
      "16     1.52%\n",
      "18      1.1%\n",
      "13     1.05%\n",
      "10     1.01%\n",
      "8      0.89%\n",
      "4      0.87%\n",
      "7      0.84%\n",
      "32     0.77%\n",
      "12      0.7%\n",
      "27     0.56%\n",
      "20     0.49%\n",
      "5      0.27%\n",
      "29     0.14%\n",
      "Name: comp_interno3, dtype: object\n",
      "\n",
      "Frecuencias relativas no aceptados:\n",
      "1     17.44%\n",
      "19     14.2%\n",
      "14    11.11%\n",
      "15     7.72%\n",
      "11     4.94%\n",
      "22     4.63%\n",
      "25     3.86%\n",
      "24      3.7%\n",
      "6      3.55%\n",
      "30     2.93%\n",
      "31     2.62%\n",
      "3      2.47%\n",
      "9      2.16%\n",
      "21     2.01%\n",
      "26     1.85%\n",
      "2      1.85%\n",
      "23     1.54%\n",
      "16     1.39%\n",
      "28     1.39%\n",
      "10     1.23%\n",
      "13     1.08%\n",
      "12     1.08%\n",
      "7      1.08%\n",
      "17     0.77%\n",
      "8      0.77%\n",
      "18     0.62%\n",
      "4      0.62%\n",
      "20     0.46%\n",
      "32     0.46%\n",
      "27     0.31%\n",
      "5      0.15%\n",
      "Name: comp_interno3, dtype: object\n"
     ]
    },
    {
     "data": {
      "image/png": "[encoded data removed]",
      "text/plain": [
       "<Figure size 432x288 with 1 Axes>"
      ]
     },
     "metadata": {
      "needs_background": "light"
     },
     "output_type": "display_data"
    },
    {
     "data": {
      "image/png": "[encoded data removed]",
      "text/plain": [
       "<Figure size 432x288 with 1 Axes>"
      ]
     },
     "metadata": {
      "needs_background": "light"
     },
     "output_type": "display_data"
    }
   ],
   "source": [
    "#Descripción del comportamiento interno 3 en la base de aceptados\n",
    "print('Resumen estadístico aceptados:')\n",
    "print(base_aceptados['comp_interno3'].describe())\n",
    "\n",
    "#Descripción del comportamiento interno 3 en la base de no aceptados\n",
    "print('\\nResumen estadístico no aceptados:')\n",
    "print(base_no_aceptados['comp_interno3'].describe())\n",
    "\n",
    "#Tabla de frecuencias relativas\n",
    "print('\\nFrecuencias relativas aceptados:')\n",
    "print(round((base_aceptados['comp_interno3'].value_counts()/sum(base_aceptados['comp_interno3'].value_counts()))*100,2).astype('str')+'%')\n",
    "\n",
    "#Tabla de frecuencias relativas\n",
    "print('\\nFrecuencias relativas no aceptados:')\n",
    "print(round((base_no_aceptados['comp_interno3'].value_counts()/sum(base_no_aceptados['comp_interno3'].value_counts()))*100,2).astype('str')+'%')\n",
    "\n",
    "#Gráfica aceptados\n",
    "base_aceptados['comp_interno3'].value_counts().plot(kind='bar')\n",
    "plt.title('Comportamiento interno 3 aceptados')\n",
    "plt.show()\n",
    "\n",
    "#Gráfica no aceptados\n",
    "base_no_aceptados['comp_interno3'].value_counts().plot(kind='bar')\n",
    "plt.title('Comportamiento interno 3 no aceptados')\n",
    "plt.show()"
   ]
  },
  {
   "cell_type": "markdown",
   "metadata": {},
   "source": [
    "Igual esta variable presenta un comportamiento muy similar en las dos bases por lo que parece que no inlfuye en la decisión\n",
    "### Comportamiento interno 4"
   ]
  },
  {
   "cell_type": "code",
   "execution_count": 131,
   "metadata": {},
   "outputs": [
    {
     "name": "stdout",
     "output_type": "stream",
     "text": [
      "Resumen estadístico aceptados:\n",
      "count    49352.000000\n",
      "mean        56.527051\n",
      "std         10.051360\n",
      "min         24.000000\n",
      "25%         48.000000\n",
      "50%         55.000000\n",
      "75%         64.000000\n",
      "max         79.000000\n",
      "Name: comp_interno4, dtype: float64\n",
      "\n",
      "Resumen estadístico no aceptados:\n",
      "count    648.000000\n",
      "mean      57.328704\n",
      "std       10.044644\n",
      "min       29.000000\n",
      "25%       49.000000\n",
      "50%       57.000000\n",
      "75%       65.000000\n",
      "max       75.000000\n",
      "Name: comp_interno4, dtype: float64\n",
      "\n",
      "Frecuencias relativas aceptados:\n",
      "75    4.85%\n",
      "51    3.99%\n",
      "50    3.92%\n",
      "48    3.92%\n",
      "49    3.86%\n",
      "52    3.83%\n",
      "53    3.72%\n",
      "47    3.71%\n",
      "46    3.51%\n",
      "54    3.44%\n",
      "55    3.34%\n",
      "56     3.2%\n",
      "45     3.2%\n",
      "57    3.05%\n",
      "58    2.95%\n",
      "44    2.81%\n",
      "59    2.79%\n",
      "60    2.71%\n",
      "62    2.55%\n",
      "61    2.52%\n",
      "43    2.39%\n",
      "64    2.26%\n",
      "63    2.24%\n",
      "74     2.2%\n",
      "65    2.11%\n",
      "71    2.09%\n",
      "66    2.05%\n",
      "67    1.97%\n",
      "72    1.91%\n",
      "73    1.84%\n",
      "68    1.81%\n",
      "69    1.81%\n",
      "70    1.78%\n",
      "42    1.72%\n",
      "41     1.3%\n",
      "40    0.87%\n",
      "39     0.6%\n",
      "38    0.35%\n",
      "37    0.25%\n",
      "36    0.15%\n",
      "76    0.11%\n",
      "35     0.1%\n",
      "34    0.07%\n",
      "33    0.05%\n",
      "32    0.03%\n",
      "31    0.02%\n",
      "77    0.02%\n",
      "30    0.02%\n",
      "27    0.01%\n",
      "29    0.01%\n",
      "78     0.0%\n",
      "28     0.0%\n",
      "79     0.0%\n",
      "24     0.0%\n",
      "25     0.0%\n",
      "Name: comp_interno4, dtype: object\n",
      "\n",
      "Frecuencias relativas no aceptados:\n",
      "75     5.4%\n",
      "49    4.78%\n",
      "48    4.17%\n",
      "47    3.86%\n",
      "56    3.86%\n",
      "46     3.7%\n",
      "50     3.7%\n",
      "51     3.7%\n",
      "63     3.7%\n",
      "55     3.4%\n",
      "61     3.4%\n",
      "60    3.09%\n",
      "64    3.09%\n",
      "62    3.09%\n",
      "52    2.93%\n",
      "57    2.93%\n",
      "58    2.78%\n",
      "54    2.78%\n",
      "59    2.62%\n",
      "74    2.62%\n",
      "71    2.47%\n",
      "45    2.47%\n",
      "44    2.31%\n",
      "70    2.31%\n",
      "66    2.31%\n",
      "65    2.16%\n",
      "53    2.01%\n",
      "73    1.85%\n",
      "68     1.7%\n",
      "43     1.7%\n",
      "72     1.7%\n",
      "69    1.54%\n",
      "67    1.39%\n",
      "42    1.39%\n",
      "41    1.08%\n",
      "40    0.46%\n",
      "39    0.46%\n",
      "33    0.31%\n",
      "37    0.15%\n",
      "35    0.15%\n",
      "30    0.15%\n",
      "38    0.15%\n",
      "29    0.15%\n",
      "Name: comp_interno4, dtype: object\n"
     ]
    },
    {
     "data": {
      "image/png": "[encoded data removed]",
      "text/plain": [
       "<Figure size 720x360 with 1 Axes>"
      ]
     },
     "metadata": {
      "needs_background": "light"
     },
     "output_type": "display_data"
    },
    {
     "data": {
      "image/png": "[encoded data removed]",
      "text/plain": [
       "<Figure size 720x360 with 1 Axes>"
      ]
     },
     "metadata": {
      "needs_background": "light"
     },
     "output_type": "display_data"
    }
   ],
   "source": [
    "#Descripción del comportamiento interno 4 en la base de aceptados\n",
    "print('Resumen estadístico aceptados:')\n",
    "print(base_aceptados['comp_interno4'].describe())\n",
    "\n",
    "#Descripción del comportamiento interno 4 en la base de no aceptados\n",
    "print('\\nResumen estadístico no aceptados:')\n",
    "print(base_no_aceptados['comp_interno4'].describe())\n",
    "\n",
    "#Tabla de frecuencias relativas aceptados\n",
    "print('\\nFrecuencias relativas aceptados:')\n",
    "print(round((base_aceptados['comp_interno4'].value_counts()/sum(base_aceptados['comp_interno4'].value_counts()))*100,2).astype('str')+'%')\n",
    "\n",
    "#Tabla de frecuencias relativas no aceptados\n",
    "print('\\nFrecuencias relativas no aceptados:')\n",
    "print(round((base_no_aceptados['comp_interno4'].value_counts()/sum(base_no_aceptados['comp_interno4'].value_counts()))*100,2).astype('str')+'%')\n",
    "\n",
    "#Gráfica aceptados\n",
    "base_aceptados['comp_interno4'].value_counts().plot(kind='bar',figsize=(10,5))\n",
    "plt.title('Comportamiento interno 4 aceptados')\n",
    "plt.show()\n",
    "\n",
    "#Gráfica no aceptados\n",
    "base_no_aceptados['comp_interno4'].value_counts().plot(kind='bar',figsize=(10,5))\n",
    "plt.title('Comportamiento interno 4 no aceptados')\n",
    "plt.show()"
   ]
  },
  {
   "cell_type": "markdown",
   "metadata": {},
   "source": [
    "Las dos variables presentan comportamientos similares por lo que parecen no influir en la elección del crédito\n",
    "### Categoria 1"
   ]
  },
  {
   "cell_type": "code",
   "execution_count": 137,
   "metadata": {},
   "outputs": [
    {
     "name": "stdout",
     "output_type": "stream",
     "text": [
      "Resumen estadístico aceptados:\n",
      "count    49352.000000\n",
      "mean         1.842256\n",
      "std          0.940565\n",
      "min          1.000000\n",
      "25%          1.000000\n",
      "50%          2.000000\n",
      "75%          2.000000\n",
      "max          6.000000\n",
      "Name: categoria1, dtype: float64\n",
      "\n",
      "Resumen estadístico no aceptados:\n",
      "count    648.000000\n",
      "mean       1.845679\n",
      "std        0.870758\n",
      "min        1.000000\n",
      "25%        1.000000\n",
      "50%        2.000000\n",
      "75%        2.000000\n",
      "max        6.000000\n",
      "Name: categoria1, dtype: float64\n",
      "\n",
      "Frecuencias relativas aceptados:\n",
      "1    45.35%\n",
      "2    30.18%\n",
      "3    21.48%\n",
      "4     1.67%\n",
      "6     0.79%\n",
      "5     0.53%\n",
      "Name: categoria1, dtype: object\n",
      "\n",
      "Frecuencias relativas no aceptados:\n",
      "1    42.28%\n",
      "2     33.8%\n",
      "3    22.07%\n",
      "4     1.23%\n",
      "6     0.46%\n",
      "5     0.15%\n",
      "Name: categoria1, dtype: object\n"
     ]
    },
    {
     "data": {
      "image/png": "[encoded data removed]",
      "text/plain": [
       "<Figure size 432x288 with 1 Axes>"
      ]
     },
     "metadata": {
      "needs_background": "light"
     },
     "output_type": "display_data"
    },
    {
     "data": {
      "image/png": "[encoded data removed]",
      "text/plain": [
       "<Figure size 432x288 with 1 Axes>"
      ]
     },
     "metadata": {
      "needs_background": "light"
     },
     "output_type": "display_data"
    }
   ],
   "source": [
    "#Descripción de la categoria 1 en la base de aceptados\n",
    "print('Resumen estadístico aceptados:')\n",
    "print(base_aceptados['categoria1'].describe())\n",
    "\n",
    "#Descripción de la categoria 1 en la base de no aceptados\n",
    "print('\\nResumen estadístico no aceptados:')\n",
    "print(base_no_aceptados['categoria1'].describe())\n",
    "\n",
    "#Tabla de frecuencias relativas aceptados\n",
    "print('\\nFrecuencias relativas aceptados:')\n",
    "print(round((base_aceptados['categoria1'].value_counts()/sum(base_aceptados['categoria1'].value_counts()))*100,2).astype('str')+'%')\n",
    "\n",
    "#Tabla de frecuencias relativas no aceptados\n",
    "print('\\nFrecuencias relativas no aceptados:')\n",
    "print(round((base_no_aceptados['categoria1'].value_counts()/sum(base_no_aceptados['categoria1'].value_counts()))*100,2).astype('str')+'%')\n",
    "\n",
    "#Gráfica aceptados\n",
    "base_aceptados['categoria1'].value_counts().plot(kind='bar')\n",
    "plt.title('Categoria 1 aceptados')\n",
    "plt.show()\n",
    "\n",
    "#Gráfica no aceptados\n",
    "base_no_aceptados['categoria1'].value_counts().plot(kind='bar')\n",
    "plt.title('Categoria 1 no aceptados')\n",
    "plt.show()"
   ]
  },
  {
   "cell_type": "markdown",
   "metadata": {},
   "source": [
    "Presentan un comportamiento muy similar las dos variables por lo que parece no influir esta variable en la decisión\n",
    "### Categoria 2"
   ]
  },
  {
   "cell_type": "code",
   "execution_count": 138,
   "metadata": {},
   "outputs": [
    {
     "name": "stdout",
     "output_type": "stream",
     "text": [
      "Resumen estadístico aceptados:\n",
      "count    49352.000000\n",
      "mean         8.029178\n",
      "std          2.040511\n",
      "min          1.000000\n",
      "25%          7.000000\n",
      "50%          9.000000\n",
      "75%          9.000000\n",
      "max         13.000000\n",
      "Name: categoria2, dtype: float64\n",
      "\n",
      "Resumen estadístico no aceptados:\n",
      "count    648.000000\n",
      "mean       8.452160\n",
      "std        1.652368\n",
      "min        1.000000\n",
      "25%        9.000000\n",
      "50%        9.000000\n",
      "75%        9.000000\n",
      "max       13.000000\n",
      "Name: categoria2, dtype: float64\n",
      "\n",
      "Frecuencias relativas aceptados:\n",
      "9      66.0%\n",
      "6     12.25%\n",
      "3      6.27%\n",
      "8       4.0%\n",
      "11     3.68%\n",
      "5      2.15%\n",
      "7      1.76%\n",
      "4      1.55%\n",
      "1      0.93%\n",
      "10      0.8%\n",
      "13     0.38%\n",
      "2      0.18%\n",
      "12     0.06%\n",
      "Name: categoria2, dtype: object\n",
      "\n",
      "Frecuencias relativas no aceptados:\n",
      "9     77.31%\n",
      "6      8.64%\n",
      "11     3.55%\n",
      "3       3.4%\n",
      "8      2.62%\n",
      "5      1.23%\n",
      "4      1.08%\n",
      "7      0.62%\n",
      "10     0.62%\n",
      "1      0.46%\n",
      "13     0.31%\n",
      "12     0.15%\n",
      "Name: categoria2, dtype: object\n"
     ]
    },
    {
     "data": {
      "image/png": "[encoded data removed]",
      "text/plain": [
       "<Figure size 432x288 with 1 Axes>"
      ]
     },
     "metadata": {
      "needs_background": "light"
     },
     "output_type": "display_data"
    },
    {
     "data": {
      "image/png": "[encoded data removed]",
      "text/plain": [
       "<Figure size 432x288 with 1 Axes>"
      ]
     },
     "metadata": {
      "needs_background": "light"
     },
     "output_type": "display_data"
    }
   ],
   "source": [
    "#Descripción de la categoria 2 en la base de aceptados\n",
    "print('Resumen estadístico aceptados:')\n",
    "print(base_aceptados['categoria2'].describe())\n",
    "\n",
    "#Descripción de la categoria 2 en la base de no aceptados\n",
    "print('\\nResumen estadístico no aceptados:')\n",
    "print(base_no_aceptados['categoria2'].describe())\n",
    "\n",
    "#Tabla de frecuencias relativas aceptados\n",
    "print('\\nFrecuencias relativas aceptados:')\n",
    "print(round((base_aceptados['categoria2'].value_counts()/sum(base_aceptados['categoria2'].value_counts()))*100,2).astype('str')+'%')\n",
    "\n",
    "#Tabla de frecuencias relativas no aceptados\n",
    "print('\\nFrecuencias relativas no aceptados:')\n",
    "print(round((base_no_aceptados['categoria2'].value_counts()/sum(base_no_aceptados['categoria2'].value_counts()))*100,2).astype('str')+'%')\n",
    "\n",
    "#Gráfica aceptados\n",
    "base_aceptados['categoria2'].value_counts().plot(kind='bar')\n",
    "plt.title('Categoria 1 aceptados')\n",
    "plt.show()\n",
    "\n",
    "#Gráfica no aceptados\n",
    "base_no_aceptados['categoria2'].value_counts().plot(kind='bar')\n",
    "plt.title('Categoria 2 no aceptados')\n",
    "plt.show()"
   ]
  },
  {
   "cell_type": "markdown",
   "metadata": {},
   "source": [
    "Presentan un comportamiento similar, parece no influir en la decisión\n",
    "### Categoria 3"
   ]
  },
  {
   "cell_type": "code",
   "execution_count": 140,
   "metadata": {},
   "outputs": [
    {
     "name": "stdout",
     "output_type": "stream",
     "text": [
      "Resumen estadístico aceptados:\n",
      "count    49352.000000\n",
      "mean       159.669699\n",
      "std          8.814331\n",
      "min        146.000000\n",
      "25%        153.000000\n",
      "50%        160.000000\n",
      "75%        166.000000\n",
      "max        177.000000\n",
      "Name: categoria3, dtype: float64\n",
      "\n",
      "Resumen estadístico no aceptados:\n",
      "count    648.000000\n",
      "mean     159.209877\n",
      "std        8.963558\n",
      "min      146.000000\n",
      "25%      151.000000\n",
      "50%      160.000000\n",
      "75%      166.000000\n",
      "max      177.000000\n",
      "Name: categoria3, dtype: float64\n",
      "\n",
      "Frecuencias relativas aceptados:\n",
      "146    14.44%\n",
      "164    14.18%\n",
      "159    10.88%\n",
      "160     7.42%\n",
      "156     4.32%\n",
      "169     3.57%\n",
      "170     3.56%\n",
      "151     3.51%\n",
      "167     3.48%\n",
      "154     3.31%\n",
      "166     3.18%\n",
      "175     3.08%\n",
      "148     2.54%\n",
      "147     2.33%\n",
      "168     2.25%\n",
      "176     2.02%\n",
      "171     1.99%\n",
      "173     1.93%\n",
      "162      1.8%\n",
      "161     1.52%\n",
      "163      1.1%\n",
      "158     1.05%\n",
      "155     1.01%\n",
      "153     0.89%\n",
      "149     0.87%\n",
      "152     0.84%\n",
      "177     0.77%\n",
      "157      0.7%\n",
      "172     0.56%\n",
      "165     0.49%\n",
      "150     0.27%\n",
      "174     0.14%\n",
      "Name: categoria3, dtype: object\n",
      "\n",
      "Frecuencias relativas no aceptados:\n",
      "146    17.44%\n",
      "164     14.2%\n",
      "159    11.11%\n",
      "160     7.72%\n",
      "156     4.94%\n",
      "167     4.63%\n",
      "170     3.86%\n",
      "169      3.7%\n",
      "151     3.55%\n",
      "175     2.93%\n",
      "176     2.62%\n",
      "148     2.47%\n",
      "154     2.16%\n",
      "166     2.01%\n",
      "171     1.85%\n",
      "147     1.85%\n",
      "168     1.54%\n",
      "161     1.39%\n",
      "173     1.39%\n",
      "155     1.23%\n",
      "158     1.08%\n",
      "157     1.08%\n",
      "152     1.08%\n",
      "162     0.77%\n",
      "153     0.77%\n",
      "163     0.62%\n",
      "149     0.62%\n",
      "165     0.46%\n",
      "177     0.46%\n",
      "172     0.31%\n",
      "150     0.15%\n",
      "Name: categoria3, dtype: object\n"
     ]
    },
    {
     "data": {
      "image/png": "[encoded data removed]",
      "text/plain": [
       "<Figure size 432x288 with 1 Axes>"
      ]
     },
     "metadata": {
      "needs_background": "light"
     },
     "output_type": "display_data"
    },
    {
     "data": {
      "image/png": "[encoded data removed]",
      "text/plain": [
       "<Figure size 432x288 with 1 Axes>"
      ]
     },
     "metadata": {
      "needs_background": "light"
     },
     "output_type": "display_data"
    }
   ],
   "source": [
    "#Descripción de la categoria 3 en la base de aceptados\n",
    "print('Resumen estadístico aceptados:')\n",
    "print(base_aceptados['categoria3'].describe())\n",
    "\n",
    "#Descripción de la categoria 3 en la base de no aceptados\n",
    "print('\\nResumen estadístico no aceptados:')\n",
    "print(base_no_aceptados['categoria3'].describe())\n",
    "\n",
    "#Tabla de frecuencias relativas aceptados\n",
    "print('\\nFrecuencias relativas aceptados:')\n",
    "print(round((base_aceptados['categoria3'].value_counts()/sum(base_aceptados['categoria3'].value_counts()))*100,2).astype('str')+'%')\n",
    "\n",
    "#Tabla de frecuencias relativas no aceptados\n",
    "print('\\nFrecuencias relativas no aceptados:')\n",
    "print(round((base_no_aceptados['categoria3'].value_counts()/sum(base_no_aceptados['categoria3'].value_counts()))*100,2).astype('str')+'%')\n",
    "\n",
    "#Gráfica aceptados\n",
    "base_aceptados['categoria3'].value_counts().plot(kind='bar')\n",
    "plt.title('Categoria 3 aceptados')\n",
    "plt.show()\n",
    "\n",
    "#Gráfica no aceptados\n",
    "base_no_aceptados['categoria3'].value_counts().plot(kind='bar')\n",
    "plt.title('Categoria 3 no aceptados')\n",
    "plt.show()"
   ]
  },
  {
   "cell_type": "markdown",
   "metadata": {},
   "source": [
    "Presentan un comportamiento muy similar lass dos bases \n",
    "### Comportamiento externo 1"
   ]
  },
  {
   "cell_type": "code",
   "execution_count": 146,
   "metadata": {},
   "outputs": [
    {
     "name": "stdout",
     "output_type": "stream",
     "text": [
      "Resumen estadístico aceptados:\n",
      "count      47202.000000\n",
      "mean         623.816519\n",
      "std        17755.132788\n",
      "min            0.000000\n",
      "25%          130.434783\n",
      "50%          263.768116\n",
      "75%          541.653623\n",
      "max      2898550.721739\n",
      "Name: comp_externo1, dtype: object\n",
      "\n",
      "Resumen estadístico no aceptados:\n",
      "count      629.000000\n",
      "mean       527.725725\n",
      "std        762.219696\n",
      "min          0.000000\n",
      "25%        162.028986\n",
      "50%        347.826087\n",
      "75%        666.666667\n",
      "max      14492.753623\n",
      "Name: comp_externo1, dtype: float64\n"
     ]
    },
    {
     "data": {
      "image/png": "[encoded data removed]",
      "text/plain": [
       "<Figure size 432x288 with 1 Axes>"
      ]
     },
     "metadata": {
      "needs_background": "light"
     },
     "output_type": "display_data"
    },
    {
     "data": {
      "image/png": "[encoded data removed]",
      "text/plain": [
       "<Figure size 432x288 with 1 Axes>"
      ]
     },
     "metadata": {
      "needs_background": "light"
     },
     "output_type": "display_data"
    }
   ],
   "source": [
    "#Descripción del comportamiento externo 1 en la base de aceptados\n",
    "print('Resumen estadístico aceptados:')\n",
    "print(base_aceptados['comp_externo1'].describe().apply(lambda x: format(x, 'f')))\n",
    "\n",
    "#Descripción del comportamiento externo 1 en la base de no aceptados\n",
    "print('\\nResumen estadístico no aceptados:')\n",
    "print(base_no_aceptados['comp_externo1'].describe())\n",
    "\n",
    "#Gráfica aceptados\n",
    "plt.hist(base_aceptados['comp_externo1'],bins=30)\n",
    "plt.title('Comportamiento externo 1 aceptados')\n",
    "plt.show()\n",
    "\n",
    "#Gráfica no aceptados\n",
    "plt.hist(base_no_aceptados['comp_externo1'],bins=20)\n",
    "plt.title('Comportamiento externo 1 no aceptados')\n",
    "plt.show()"
   ]
  },
  {
   "cell_type": "markdown",
   "metadata": {},
   "source": [
    "Estas variables presentan comportamientos similares sin embargo en los casos aprobados existen valores mas extremos y mucho mas grandes que en los casos donde se les negó el crédito\n",
    "### Comportamiento extremo 2"
   ]
  },
  {
   "cell_type": "code",
   "execution_count": 147,
   "metadata": {},
   "outputs": [
    {
     "name": "stdout",
     "output_type": "stream",
     "text": [
      "Resumen estadístico aceptados:\n",
      "count    43826.000000\n",
      "mean        37.483438\n",
      "std         40.313783\n",
      "min          0.000287\n",
      "25%         11.778225\n",
      "50%         23.556449\n",
      "75%         48.980178\n",
      "max        861.821316\n",
      "Name: comp_externo2, dtype: object\n",
      "\n",
      "Resumen estadístico no aceptados:\n",
      "count    584.000000\n",
      "mean      48.034130\n",
      "std       49.299064\n",
      "min        0.143637\n",
      "25%       15.512784\n",
      "50%       30.824619\n",
      "75%       64.708417\n",
      "max      488.710141\n",
      "Name: comp_externo2, dtype: float64\n"
     ]
    },
    {
     "data": {
      "image/png": "[encoded data removed]",
      "text/plain": [
       "<Figure size 432x288 with 1 Axes>"
      ]
     },
     "metadata": {
      "needs_background": "light"
     },
     "output_type": "display_data"
    },
    {
     "data": {
      "image/png": "[encoded data removed]",
      "text/plain": [
       "<Figure size 432x288 with 1 Axes>"
      ]
     },
     "metadata": {
      "needs_background": "light"
     },
     "output_type": "display_data"
    }
   ],
   "source": [
    "#Descripción del comportamiento externo 1 en la base de aceptados\n",
    "print('Resumen estadístico aceptados:')\n",
    "print(base_aceptados['comp_externo2'].describe().apply(lambda x: format(x, 'f')))\n",
    "\n",
    "#Descripción del comportamiento externo 1 en la base de no aceptados\n",
    "print('\\nResumen estadístico no aceptados:')\n",
    "print(base_no_aceptados['comp_externo2'].describe())\n",
    "\n",
    "#Gráfica aceptados\n",
    "plt.hist(base_aceptados['comp_externo2'],bins=30)\n",
    "plt.title('Comportamiento externo 2 aceptados')\n",
    "plt.show()\n",
    "\n",
    "#Gráfica no aceptados\n",
    "plt.hist(base_no_aceptados['comp_externo2'],bins=20)\n",
    "plt.title('Comportamiento externo 2 no aceptados')\n",
    "plt.show()"
   ]
  },
  {
   "cell_type": "markdown",
   "metadata": {},
   "source": [
    "En estas dos variables la distribución es bastante similar sin embargo los datos de los aceptados estan en un rango mas amplio por lo que esta un poco mas dispersa la información\n",
    "### Comportamiento externo 3"
   ]
  },
  {
   "cell_type": "code",
   "execution_count": 154,
   "metadata": {},
   "outputs": [
    {
     "name": "stdout",
     "output_type": "stream",
     "text": [
      "Resumen estadístico aceptados:\n",
      "count    49346.000000\n",
      "mean        66.162587\n",
      "std        140.203718\n",
      "min       -609.000000\n",
      "25%         71.000000\n",
      "50%         99.000000\n",
      "75%        120.000000\n",
      "max        159.000000\n",
      "Name: comp_externo3, dtype: object\n",
      "\n",
      "Resumen estadístico no aceptados:\n",
      "count    648.000000\n",
      "mean      82.947531\n",
      "std      124.458892\n",
      "min     -609.000000\n",
      "25%       89.000000\n",
      "50%      114.000000\n",
      "75%      127.000000\n",
      "max      137.000000\n",
      "Name: comp_externo3, dtype: float64\n",
      "\n",
      "Frecuencias relativas aceptados:\n",
      " 132    3.058%\n",
      " 128    2.511%\n",
      " 131    2.324%\n",
      "-609    2.318%\n",
      " 129    2.318%\n",
      "         ...  \n",
      " 154    0.002%\n",
      "-65     0.002%\n",
      " 156    0.002%\n",
      "-59     0.002%\n",
      " 159    0.002%\n",
      "Name: comp_externo3, Length: 237, dtype: object\n",
      "\n",
      "Frecuencias relativas no aceptados:\n",
      " 132    5.247%\n",
      " 128    4.784%\n",
      " 129    4.475%\n",
      " 124    4.167%\n",
      " 131    3.549%\n",
      "         ...  \n",
      " 33     0.154%\n",
      "-35     0.154%\n",
      " 38     0.154%\n",
      "-8      0.154%\n",
      "-1      0.154%\n",
      "Name: comp_externo3, Length: 109, dtype: object\n"
     ]
    },
    {
     "data": {
      "image/png": "[encoded data removed]",
      "text/plain": [
       "<Figure size 432x288 with 1 Axes>"
      ]
     },
     "metadata": {
      "needs_background": "light"
     },
     "output_type": "display_data"
    },
    {
     "data": {
      "image/png": "[encoded data removed]",
      "text/plain": [
       "<Figure size 432x288 with 1 Axes>"
      ]
     },
     "metadata": {
      "needs_background": "light"
     },
     "output_type": "display_data"
    }
   ],
   "source": [
    "#Descripción del comportamiento externo 1 en la base de aceptados\n",
    "print('Resumen estadístico aceptados:')\n",
    "print(base_aceptados['comp_externo3'].describe().apply(lambda x: format(x, 'f')))\n",
    "\n",
    "#Descripción del comportamiento externo 1 en la base de no aceptados\n",
    "print('\\nResumen estadístico no aceptados:')\n",
    "print(base_no_aceptados['comp_externo3'].describe())\n",
    "\n",
    "#Tabla de frecuencias relativas aceptados\n",
    "print('\\nFrecuencias relativas aceptados:')\n",
    "print(round((base_aceptados['comp_externo3'].value_counts()/sum(base_aceptados['comp_externo3'].value_counts()))*100,3).astype('str')+'%')\n",
    "\n",
    "#Tabla de frecuencias relativas no aceptados\n",
    "print('\\nFrecuencias relativas no aceptados:')\n",
    "print(round((base_no_aceptados['comp_externo3'].value_counts()/sum(base_no_aceptados['comp_externo3'].value_counts()))*100,3).astype('str')+'%')\n",
    "\n",
    "#Gráfica aceptados\n",
    "base_aceptados['comp_externo3'].value_counts().plot(kind='hist')\n",
    "plt.title('Comportamiento externo 3 aceptados')\n",
    "plt.show()\n",
    "\n",
    "#Gráfica no aceptados\n",
    "base_no_aceptados['comp_externo3'].value_counts().plot(kind='hist')\n",
    "plt.title('Comportamiento externo 3 no aceptados')\n",
    "plt.show()"
   ]
  },
  {
   "cell_type": "markdown",
   "metadata": {},
   "source": [
    "###  Comportamiento externo 4\n"
   ]
  },
  {
   "cell_type": "code",
   "execution_count": 155,
   "metadata": {},
   "outputs": [
    {
     "name": "stdout",
     "output_type": "stream",
     "text": [
      "Resumen estadístico aceptados:\n",
      "count         49352.000000\n",
      "mean      318527894.574356\n",
      "std      1756098962.556995\n",
      "min            -230.000000\n",
      "25%            -230.000000\n",
      "50%            -230.000000\n",
      "75%            -230.000000\n",
      "max      9999999769.990000\n",
      "Name: comp_externo4, dtype: object\n",
      "\n",
      "Resumen estadístico no aceptados:\n",
      "count    6.480000e+02\n",
      "mean     2.469134e+08\n",
      "std      1.553027e+09\n",
      "min     -2.300000e+02\n",
      "25%     -2.300000e+02\n",
      "50%     -2.300000e+02\n",
      "75%     -2.300000e+02\n",
      "max      1.000000e+10\n",
      "Name: comp_externo4, dtype: float64\n"
     ]
    },
    {
     "data": {
      "image/png": "[encoded data removed]",
      "text/plain": [
       "<Figure size 432x288 with 1 Axes>"
      ]
     },
     "metadata": {
      "needs_background": "light"
     },
     "output_type": "display_data"
    },
    {
     "data": {
      "image/png": "[encoded data removed]",
      "text/plain": [
       "<Figure size 432x288 with 1 Axes>"
      ]
     },
     "metadata": {
      "needs_background": "light"
     },
     "output_type": "display_data"
    }
   ],
   "source": [
    "#Descripción del comportamiento externo 4 en la base de aceptados\n",
    "print('Resumen estadístico aceptados:')\n",
    "print(base_aceptados['comp_externo4'].describe().apply(lambda x: format(x, 'f')))\n",
    "\n",
    "#Descripción del comportamiento externo 4 en la base de no aceptados\n",
    "print('\\nResumen estadístico no aceptados:')\n",
    "print(base_no_aceptados['comp_externo4'].describe())\n",
    "\n",
    "#Gráfica aceptados\n",
    "plt.hist(base_aceptados['comp_externo4'],bins=30)\n",
    "plt.title('Comportamiento externo 4 aceptados')\n",
    "plt.show()\n",
    "\n",
    "#Gráfica no aceptados\n",
    "plt.hist(base_no_aceptados['comp_externo4'],bins=20)\n",
    "plt.title('Comportamiento externo 4 no aceptados')\n",
    "plt.show()"
   ]
  },
  {
   "cell_type": "markdown",
   "metadata": {},
   "source": [
    "### Comportamiento Mixto 1"
   ]
  },
  {
   "cell_type": "code",
   "execution_count": 156,
   "metadata": {},
   "outputs": [
    {
     "name": "stdout",
     "output_type": "stream",
     "text": [
      "Resumen estadístico aceptados:\n",
      "count    49352.000000\n",
      "mean         0.337220\n",
      "std          0.037811\n",
      "min          0.200000\n",
      "25%          0.314695\n",
      "50%          0.344640\n",
      "75%          0.369320\n",
      "max          0.430060\n",
      "Name: comp_mixto1, dtype: object\n",
      "\n",
      "Resumen estadístico no aceptados:\n",
      "count    648.000000\n",
      "mean       0.329805\n",
      "std        0.041117\n",
      "min        0.209160\n",
      "25%        0.304910\n",
      "50%        0.339890\n",
      "75%        0.362960\n",
      "max        0.390000\n",
      "Name: comp_mixto1, dtype: float64\n"
     ]
    },
    {
     "data": {
      "image/png": "[encoded data removed]",
      "text/plain": [
       "<Figure size 432x288 with 1 Axes>"
      ]
     },
     "metadata": {
      "needs_background": "light"
     },
     "output_type": "display_data"
    },
    {
     "data": {
      "image/png": "[encoded data removed]",
      "text/plain": [
       "<Figure size 432x288 with 1 Axes>"
      ]
     },
     "metadata": {
      "needs_background": "light"
     },
     "output_type": "display_data"
    }
   ],
   "source": [
    "#Descripción del comportamiento externo 4 en la base de aceptados\n",
    "print('Resumen estadístico aceptados:')\n",
    "print(base_aceptados['comp_mixto1'].describe().apply(lambda x: format(x, 'f')))\n",
    "\n",
    "#Descripción del comportamiento externo 4 en la base de no aceptados\n",
    "print('\\nResumen estadístico no aceptados:')\n",
    "print(base_no_aceptados['comp_mixto1'].describe())\n",
    "\n",
    "#Gráfica aceptados\n",
    "plt.hist(base_aceptados['comp_mixto1'],bins=30)\n",
    "plt.title('Comportamiento mixto aceptados')\n",
    "plt.show()\n",
    "\n",
    "#Gráfica no aceptados\n",
    "plt.hist(base_no_aceptados['comp_mixto1'],bins=20)\n",
    "plt.title('Comportamiento mixto no aceptados')\n",
    "plt.show()"
   ]
  },
  {
   "cell_type": "markdown",
   "metadata": {},
   "source": [
    "### Inversión"
   ]
  },
  {
   "cell_type": "code",
   "execution_count": 157,
   "metadata": {},
   "outputs": [
    {
     "name": "stdout",
     "output_type": "stream",
     "text": [
      "Resumen estadístico aceptados:\n",
      "count    17261.000000\n",
      "mean       185.159878\n",
      "std        964.922494\n",
      "min          0.000012\n",
      "25%          6.061260\n",
      "50%         28.350175\n",
      "75%        132.259277\n",
      "max      95052.396733\n",
      "Name: inversion, dtype: object\n",
      "\n",
      "Resumen estadístico no aceptados:\n",
      "count     275.000000\n",
      "mean      235.410331\n",
      "std       489.621377\n",
      "min         0.000350\n",
      "25%        10.486721\n",
      "50%        61.470490\n",
      "75%       226.751424\n",
      "max      4203.606184\n",
      "Name: inversion, dtype: float64\n"
     ]
    },
    {
     "data": {
      "image/png": "[encoded data removed]",
      "text/plain": [
       "<Figure size 432x288 with 1 Axes>"
      ]
     },
     "metadata": {
      "needs_background": "light"
     },
     "output_type": "display_data"
    },
    {
     "data": {
      "image/png": "[encoded data removed]",
      "text/plain": [
       "<Figure size 432x288 with 1 Axes>"
      ]
     },
     "metadata": {
      "needs_background": "light"
     },
     "output_type": "display_data"
    }
   ],
   "source": [
    "#Descripción del comportamiento externo 4 en la base de aceptados\n",
    "print('Resumen estadístico aceptados:')\n",
    "print(base_aceptados['inversion'].describe().apply(lambda x: format(x, 'f')))\n",
    "\n",
    "#Descripción del comportamiento externo 4 en la base de no aceptados\n",
    "print('\\nResumen estadístico no aceptados:')\n",
    "print(base_no_aceptados['inversion'].describe())\n",
    "\n",
    "#Gráfica aceptados\n",
    "plt.hist(base_aceptados['inversion'],bins=30)\n",
    "plt.title('Inversión aceptados')\n",
    "plt.show()\n",
    "\n",
    "#Gráfica no aceptados\n",
    "plt.hist(base_no_aceptados['inversion'],bins=20)\n",
    "plt.title('Inversión no aceptados')\n",
    "plt.show()"
   ]
  },
  {
   "cell_type": "markdown",
   "metadata": {},
   "source": [
    "Prece que los clientes que recibieron el crédito tienen menos dinero invertido que los que no lo recibieron, igual esto se ve mas sesgado debido a que hay muchos mas datos de clientes quienes si recibieron el crédito que de los que no lo recibieron.\n",
    "En ambos casos existen valores bastante extremos.\n",
    "Por último veamos cuantos clientes que tenian inversión recibieron el crédito y cuantos no, igual veremos cuantos de los que tenian inversión no lo recibieron"
   ]
  },
  {
   "cell_type": "code",
   "execution_count": 179,
   "metadata": {},
   "outputs": [
    {
     "name": "stdout",
     "output_type": "stream",
     "text": [
      "Tenian inversión y le aprobaron el crédito:\n",
      "35.0%\n",
      "\n",
      "No tenian inversión y le aprobaron el crédito:\n",
      "65.0%\n",
      "\n",
      "Tenian inversión y les negaron el crédito:\n",
      "42.4%\n",
      "\n",
      "No tenian inversión y  les negaron el crédito:\n",
      "57.599999999999994%\n"
     ]
    }
   ],
   "source": [
    "print('Tenian inversión y le aprobaron el crédito:')\n",
    "print((round(base_aceptados['inversion'].notna().sum()/len(base_aceptados),3)*100).astype('str')+'%')\n",
    "print('\\nNo tenian inversión y le aprobaron el crédito:')\n",
    "print((round(base_aceptados['inversion'].isna().sum()/len(base_aceptados),3)*100).astype('str')+'%')\n",
    "print('\\nTenian inversión y les negaron el crédito:')\n",
    "print((round(base_no_aceptados['inversion'].notna().sum()/len(base_no_aceptados),3)*100).astype('str')+'%')\n",
    "print('\\nNo tenian inversión y  les negaron el crédito:')\n",
    "print((round(base_no_aceptados['inversion'].isna().sum()/len(base_no_aceptados),3)*100).astype('str')+'%')"
   ]
  },
  {
   "cell_type": "markdown",
   "metadata": {},
   "source": [
    "Le aprobaron mas créditos a aquellos clientes quienes no tenian una inversión en el banco que a los que no tenian una inversión en el banco"
   ]
  }
 ],
 "metadata": {
  "kernelspec": {
   "display_name": "Python 3",
   "language": "python",
   "name": "python3"
  },
  "language_info": {
   "codemirror_mode": {
    "name": "ipython",
    "version": 3
   },
   "file_extension": ".py",
   "mimetype": "text/x-python",
   "name": "python",
   "nbconvert_exporter": "python",
   "pygments_lexer": "ipython3",
   "version": "3.8.8"
  }
 },
 "nbformat": 4,
 "nbformat_minor": 2
}
