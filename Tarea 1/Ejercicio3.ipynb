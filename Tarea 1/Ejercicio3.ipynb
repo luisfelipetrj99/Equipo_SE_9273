{
 "cells": [
  {
   "cell_type": "markdown",
   "id": "ddce9f31",
   "metadata": {},
   "source": [
    "### Ejercicio 3"
   ]
  },
  {
   "cell_type": "code",
   "execution_count": 2,
   "id": "4ca29b7e",
   "metadata": {},
   "outputs": [],
   "source": [
    "import pandas as pd\n",
    "import matplotlib.pyplot as plt\n",
    "from sklearn import linear_model\n",
    "import numpy as np"
   ]
  },
  {
   "cell_type": "code",
   "execution_count": 3,
   "id": "f25de7a6",
   "metadata": {},
   "outputs": [],
   "source": [
    "lineal_horm = pd.read_excel('lineal_horm.xlsx')"
   ]
  },
  {
   "cell_type": "code",
   "execution_count": 15,
   "id": "9fc65e79",
   "metadata": {},
   "outputs": [
    {
     "data": {
      "text/html": [
       "<div>\n",
       "<style scoped>\n",
       "    .dataframe tbody tr th:only-of-type {\n",
       "        vertical-align: middle;\n",
       "    }\n",
       "\n",
       "    .dataframe tbody tr th {\n",
       "        vertical-align: top;\n",
       "    }\n",
       "\n",
       "    .dataframe thead th {\n",
       "        text-align: right;\n",
       "    }\n",
       "</style>\n",
       "<table border=\"1\" class=\"dataframe\">\n",
       "  <thead>\n",
       "    <tr style=\"text-align: right;\">\n",
       "      <th></th>\n",
       "      <th>lote</th>\n",
       "      <th>horas</th>\n",
       "      <th>monto</th>\n",
       "    </tr>\n",
       "  </thead>\n",
       "  <tbody>\n",
       "    <tr>\n",
       "      <th>0</th>\n",
       "      <td>A</td>\n",
       "      <td>99</td>\n",
       "      <td>25.8</td>\n",
       "    </tr>\n",
       "    <tr>\n",
       "      <th>1</th>\n",
       "      <td>A</td>\n",
       "      <td>152</td>\n",
       "      <td>20.5</td>\n",
       "    </tr>\n",
       "    <tr>\n",
       "      <th>2</th>\n",
       "      <td>A</td>\n",
       "      <td>293</td>\n",
       "      <td>14.3</td>\n",
       "    </tr>\n",
       "    <tr>\n",
       "      <th>3</th>\n",
       "      <td>A</td>\n",
       "      <td>155</td>\n",
       "      <td>23.2</td>\n",
       "    </tr>\n",
       "    <tr>\n",
       "      <th>4</th>\n",
       "      <td>A</td>\n",
       "      <td>196</td>\n",
       "      <td>20.6</td>\n",
       "    </tr>\n",
       "  </tbody>\n",
       "</table>\n",
       "</div>"
      ],
      "text/plain": [
       "  lote  horas  monto\n",
       "0    A     99   25.8\n",
       "1    A    152   20.5\n",
       "2    A    293   14.3\n",
       "3    A    155   23.2\n",
       "4    A    196   20.6"
      ]
     },
     "metadata": {},
     "output_type": "display_data"
    }
   ],
   "source": [
    "display(lineal_horm.head())"
   ]
  },
  {
   "cell_type": "code",
   "execution_count": 4,
   "id": "031c4e03",
   "metadata": {},
   "outputs": [],
   "source": [
    "X = lineal_horm[[\"horas\"]]\n",
    "Y = lineal_horm[[\"monto\"]]\n",
    "regresion = linear_model.LinearRegression()\n",
    "reg = regresion.fit(X, Y)"
   ]
  },
  {
   "cell_type": "code",
   "execution_count": 5,
   "id": "56b4804f",
   "metadata": {},
   "outputs": [],
   "source": [
    "#Intercepto\n",
    "beta_0 = regresion.intercept_\n",
    "\n",
    "#Coef\n",
    "beta_1 = regresion.coef_"
   ]
  },
  {
   "cell_type": "code",
   "execution_count": 6,
   "id": "1770ad24",
   "metadata": {},
   "outputs": [],
   "source": [
    "#Y_estimada\n",
    "Y_pred = regresion.predict(X).reshape(-1)\n"
   ]
  },
  {
   "cell_type": "code",
   "execution_count": 7,
   "id": "42ebe89a",
   "metadata": {},
   "outputs": [],
   "source": [
    "X = X.to_numpy().reshape(-1)\n",
    "Y_real= Y.to_numpy()\n",
    "Y_real= Y_real.reshape(-1)"
   ]
  },
  {
   "cell_type": "code",
   "execution_count": 8,
   "id": "485f2555",
   "metadata": {},
   "outputs": [],
   "source": [
    "residual = Y_real - Y_pred"
   ]
  },
  {
   "cell_type": "code",
   "execution_count": 9,
   "id": "88854b0a",
   "metadata": {},
   "outputs": [],
   "source": [
    "#Errores \n",
    "\n",
    "n = len(Y_real)\n",
    "den = sum((X-np.mean(X))**2)\n",
    "num=sum(residual**2)/(n-2)\n",
    "error=np.sqrt(num/den)\n"
   ]
  },
  {
   "cell_type": "code",
   "execution_count": 37,
   "id": "a668beb5",
   "metadata": {},
   "outputs": [],
   "source": [
    "def horm_bootstrap(n):\n",
    "    regresion = linear_model.LinearRegression()\n",
    "    coef_boost = np.array([ ])\n",
    "    inter_boost = np.array([ ])\n",
    "    error_boost = np.array([ ])\n",
    "    \n",
    "    for i in range(0,n):\n",
    "        #Se toma una muestra de tamaño 15 \n",
    "        muestra_aux = lineal_horm.groupby('lote').apply(lambda x: x.sample(5)).reset_index(drop=True)\n",
    "        \n",
    "        #Se hace un remuestreo con la muestra obtenida (muestra_aux)\n",
    "        random = np.random.choice(muestra_aux['horas'], len(muestra_aux['horas']), replace = True)\n",
    "        \n",
    "        df_aux =  pd.DataFrame(random, columns=['horas'])\n",
    "        muestra = pd.merge(df_aux, lineal_horm, how=\"inner\", on=[\"horas\"])\n",
    "\n",
    "        X_1 = muestra[[\"horas\"]]\n",
    "        Y_1 = muestra[[\"monto\"]]\n",
    "        reg = regresion.fit(X_1, Y_1)\n",
    "        Y_pred = regresion.predict(X_1).reshape(-1)\n",
    "\n",
    "        Y_real= Y_1.to_numpy().reshape(-1)\n",
    "        X_1 = X_1.to_numpy().reshape(-1)\n",
    "\n",
    "        df_aux1 = pd.DataFrame(X_1, columns=['horas'])\n",
    "        df_aux1 = pd.merge(df_aux1, lineal_horm, how=\"inner\", on=[\"horas\"])\n",
    "\n",
    "        #Estimacion\n",
    "        residuales = Y_real - Y_pred\n",
    "\n",
    "        #error estandar\n",
    "        x_j=df_aux1[[\"horas\"]].to_numpy().reshape(-1)\n",
    "        den=sum((x_j-np.mean(x_j))**2)\n",
    "        num= sum(residuales**2)/(n)\n",
    "        \n",
    "        err=np.sqrt(num/den)\n",
    "        error_boost = np.append(error_boost, err)\n",
    "    \n",
    "        #Coefiencientes \n",
    "        intercepto = regresion.intercept_\n",
    "        coef = regresion.coef_\n",
    "        coef_boost = np.append(coef_boost,coef)\n",
    "        inter_boost = np.append(inter_boost, intercepto)\n",
    "\n",
    "    df_inter = pd.DataFrame(inter_boost, columns=['Beta_0'])\n",
    "    df_coef = pd.DataFrame(coef_boost, columns=['Beta_1'])\n",
    "    df_error = pd.DataFrame(error_boost, columns = ['Errores'])\n",
    "    df = pd.concat([df_inter, df_coef, df_error], axis = 1)\n",
    "        \n",
    "        \n",
    "    \n",
    "    return(df)"
   ]
  },
  {
   "cell_type": "code",
   "execution_count": null,
   "id": "a8eb45eb",
   "metadata": {},
   "outputs": [],
   "source": [
    "df = horm_bootstrap(1000)"
   ]
  },
  {
   "cell_type": "code",
   "execution_count": 43,
   "id": "401d667e",
   "metadata": {},
   "outputs": [
    {
     "data": {
      "text/plain": [
       "Text(0.5, 1.0, 'Histograma de los errores')"
      ]
     },
     "execution_count": 43,
     "metadata": {},
     "output_type": "execute_result"
    },
    {
     "data": {
      "image/png": "[encoded data removed]",
      "text/plain": [
       "<Figure size 1800x360 with 3 Axes>"
      ]
     },
     "metadata": {
      "needs_background": "light"
     },
     "output_type": "display_data"
    }
   ],
   "source": [
    "f, (ax1, ax2, ax3) = plt.subplots(1, 3, sharey=True, figsize=(25,5))\n",
    "#Beta_0\n",
    "ax1.hist(df['Beta_0'],alpha=0.5,color = \"skyblue\",edgecolor=\"white\")\n",
    "ax1.axvline(x = beta_0,color='navy', linestyle='--',linewidth=3)\n",
    "ax1.axvline(x = np.mean(df['Beta_0']),color='magenta', linestyle='--',linewidth=3)\n",
    "ax1.axvline(np.percentile(df['Beta_0'],2.5),color=\"limegreen\",linestyle=\"--\",linewidth=2)                                                                                                                                                    \n",
    "ax1.axvline(np.percentile(df['Beta_0'],97.5),color=\"limegreen\",linestyle=\"--\",linewidth=2) \n",
    "ax1.legend(['b_0 original','Promedio de b_0','Porcentiles'], loc = 'upper left')\n",
    "ax1.set_title(\"Histograma de Betas_0\")\n",
    "\n",
    "#Beta_1\n",
    "ax2.hist(df['Beta_1'],alpha=0.5,color = \"orchid\",edgecolor=\"white\")\n",
    "ax2.axvline(x=beta_1,color='green', linestyle='--',linewidth=3)\n",
    "ax2.axvline(x = np.mean(df['Beta_1']),color='yellow', linestyle='--',linewidth=3)\n",
    "ax2.axvline(np.percentile(df['Beta_1'],2.5),color=\"navy\",linestyle=\"--\",linewidth=2)                                                                                                                                                    \n",
    "ax2.axvline(np.percentile(df['Beta_1'],97.5),color=\"navy\",linestyle=\"--\",linewidth=2)\n",
    "ax2.legend(['b_1 original','Promedio de b_1','Porcentiles'], frameon=False, loc=1)\n",
    "ax2.set_title(\"Histograma de Betas_1\")\n",
    "\n",
    "#Errores\n",
    "ax3.hist(df['Errores'],bins=10, alpha=0.5,color = \"lawngreen\",edgecolor=\"white\")\n",
    "ax3.axvline(x= error ,color='green', linestyle='--',linewidth=3)\n",
    "ax3.axvline(x = np.mean(df['Errores']),color='red', linestyle='--',linewidth=3)\n",
    "ax3.axvline(np.percentile(df['Errores'],2.5),color=\"navy\",linestyle=\"--\",linewidth=2)                                                                                                                                                    \n",
    "ax3.axvline(np.percentile(df['Errores'],97.5),color=\"navy\",linestyle=\"--\",linewidth=2) \n",
    "ax3.legend(['error original','Promedio errores','Porcentiles'], frameon=False, loc=1)\n",
    "ax3.set_title(\"Histograma de los errores\")\n"
   ]
  },
  {
   "cell_type": "code",
   "execution_count": 45,
   "id": "f01820ac",
   "metadata": {},
   "outputs": [
    {
     "data": {
      "text/html": [
       "<div>\n",
       "<style scoped>\n",
       "    .dataframe tbody tr th:only-of-type {\n",
       "        vertical-align: middle;\n",
       "    }\n",
       "\n",
       "    .dataframe tbody tr th {\n",
       "        vertical-align: top;\n",
       "    }\n",
       "\n",
       "    .dataframe thead th {\n",
       "        text-align: right;\n",
       "    }\n",
       "</style>\n",
       "<table border=\"1\" class=\"dataframe\">\n",
       "  <thead>\n",
       "    <tr style=\"text-align: right;\">\n",
       "      <th></th>\n",
       "      <th>Beta_0</th>\n",
       "      <th>Beta_1</th>\n",
       "      <th>Errores</th>\n",
       "    </tr>\n",
       "  </thead>\n",
       "  <tbody>\n",
       "    <tr>\n",
       "      <th>count</th>\n",
       "      <td>1000.000000</td>\n",
       "      <td>1000.000000</td>\n",
       "      <td>1000.000000</td>\n",
       "    </tr>\n",
       "    <tr>\n",
       "      <th>mean</th>\n",
       "      <td>34.302696</td>\n",
       "      <td>-0.059103</td>\n",
       "      <td>0.000762</td>\n",
       "    </tr>\n",
       "    <tr>\n",
       "      <th>std</th>\n",
       "      <td>1.325963</td>\n",
       "      <td>0.008259</td>\n",
       "      <td>0.000304</td>\n",
       "    </tr>\n",
       "    <tr>\n",
       "      <th>min</th>\n",
       "      <td>25.882393</td>\n",
       "      <td>-0.106473</td>\n",
       "      <td>0.000224</td>\n",
       "    </tr>\n",
       "    <tr>\n",
       "      <th>25%</th>\n",
       "      <td>33.524986</td>\n",
       "      <td>-0.062978</td>\n",
       "      <td>0.000559</td>\n",
       "    </tr>\n",
       "    <tr>\n",
       "      <th>50%</th>\n",
       "      <td>34.296908</td>\n",
       "      <td>-0.058230</td>\n",
       "      <td>0.000702</td>\n",
       "    </tr>\n",
       "    <tr>\n",
       "      <th>75%</th>\n",
       "      <td>35.096983</td>\n",
       "      <td>-0.054391</td>\n",
       "      <td>0.000883</td>\n",
       "    </tr>\n",
       "    <tr>\n",
       "      <th>max</th>\n",
       "      <td>40.379446</td>\n",
       "      <td>-0.008163</td>\n",
       "      <td>0.002648</td>\n",
       "    </tr>\n",
       "  </tbody>\n",
       "</table>\n",
       "</div>"
      ],
      "text/plain": [
       "            Beta_0       Beta_1      Errores\n",
       "count  1000.000000  1000.000000  1000.000000\n",
       "mean     34.302696    -0.059103     0.000762\n",
       "std       1.325963     0.008259     0.000304\n",
       "min      25.882393    -0.106473     0.000224\n",
       "25%      33.524986    -0.062978     0.000559\n",
       "50%      34.296908    -0.058230     0.000702\n",
       "75%      35.096983    -0.054391     0.000883\n",
       "max      40.379446    -0.008163     0.002648"
      ]
     },
     "execution_count": 45,
     "metadata": {},
     "output_type": "execute_result"
    }
   ],
   "source": [
    "df.describe()"
   ]
  },
  {
   "cell_type": "code",
   "execution_count": 51,
   "id": "321f0e45",
   "metadata": {},
   "outputs": [
    {
     "name": "stdout",
     "output_type": "stream",
     "text": [
      "Error Estándar sin Bootsrap: 0.0044641731603115384\n",
      "Promedio de Error Estándar de la muestras Bootstrap: 0.0007623974748269982\n",
      "Rango =  ( 0.0003583019445372578 , 0.001572225856215489 )\n"
     ]
    }
   ],
   "source": [
    "print(\"Error Estándar sin Bootsrap:\", error)\n",
    "print(\"Promedio de Error Estándar de la muestras Bootstrap:\", np.mean(df['Errores']))\n",
    "print('Rango = ',  \"(\", np.percentile(df['Errores'],2.5),\",\",np.percentile(df['Errores'],97.5),\")\")"
   ]
  },
  {
   "cell_type": "code",
   "execution_count": 50,
   "id": "59102cea",
   "metadata": {},
   "outputs": [
    {
     "name": "stdout",
     "output_type": "stream",
     "text": [
      "Intercepto sin Bootsrap: [34.16752817]\n",
      "Promedio de las betas con Bootstrap: 34.30269623949293\n",
      "Rango =  ( 31.767789229047764 , 36.91540093399993 )\n"
     ]
    }
   ],
   "source": [
    "print(\"Intercepto sin Bootsrap:\", beta_0)\n",
    "print(\"Promedio de las betas con Bootstrap:\", np.mean(df['Beta_0']))\n",
    "print('Rango = ',  \"(\", np.percentile(df['Beta_0'],2.5),\",\",np.percentile(df['Beta_0'],97.5),\")\")"
   ]
  },
  {
   "cell_type": "code",
   "execution_count": 52,
   "id": "1e57ceae",
   "metadata": {},
   "outputs": [
    {
     "name": "stdout",
     "output_type": "stream",
     "text": [
      "Coeficiente sin Bootsrap: [[-0.0574463]]\n",
      "Promedio de las betas con Bootstrap: -0.059102791102238046\n",
      "Rango =  ( -0.07864212490327321 , -0.045386199756852194 )\n"
     ]
    }
   ],
   "source": [
    "print(\"Coeficiente sin Bootsrap:\", beta_1)\n",
    "print(\"Promedio de las betas con Bootstrap:\", np.mean(df['Beta_1']))\n",
    "print('Rango = ',  \"(\", np.percentile(df['Beta_1'],2.5),\",\",np.percentile(df['Beta_1'],97.5),\")\")"
   ]
  },
  {
   "cell_type": "markdown",
   "id": "e4fbd68d",
   "metadata": {},
   "source": [
    "#### Notemos: \n",
    "* El error estándar disminuyo con la muestras bootstrap en comparación con el error estándar (sin bootstrap) del dataset  \n",
    "\n",
    "* El intercepto y el coeficiente con o sin bootstrap son muy similares. "
   ]
  }
 ],
 "metadata": {
  "kernelspec": {
   "display_name": "Python 3",
   "language": "python",
   "name": "python3"
  },
  "language_info": {
   "codemirror_mode": {
    "name": "ipython",
    "version": 3
   },
   "file_extension": ".py",
   "mimetype": "text/x-python",
   "name": "python",
   "nbconvert_exporter": "python",
   "pygments_lexer": "ipython3",
   "version": "3.8.8"
  }
 },
 "nbformat": 4,
 "nbformat_minor": 5
}
