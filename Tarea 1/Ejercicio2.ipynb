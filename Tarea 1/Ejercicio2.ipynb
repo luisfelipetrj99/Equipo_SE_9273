{
 "cells": [
  {
   "cell_type": "code",
   "execution_count": 1,
   "id": "503cc861",
   "metadata": {},
   "outputs": [],
   "source": [
    "import pandas as pd\n",
    "import matplotlib.pyplot as plt\n",
    "from sklearn import linear_model\n",
    "import numpy as np"
   ]
  },
  {
   "cell_type": "code",
   "execution_count": 7,
   "id": "9c1d96fd",
   "metadata": {},
   "outputs": [],
   "source": [
    "#Intercepto\n",
    "beta_0 = regresion.intercept_\n",
    "\n",
    "#Coef\n",
    "beta_1 = regresion.coef_"
   ]
  },
  {
   "cell_type": "code",
   "execution_count": 8,
   "id": "a3fb2611",
   "metadata": {},
   "outputs": [],
   "source": [
    "Y_pred = regresion.predict(X).reshape(-1)"
   ]
  },
  {
   "cell_type": "code",
   "execution_count": 9,
   "id": "ce140380",
   "metadata": {},
   "outputs": [],
   "source": [
    "X = X.to_numpy().reshape(-1)\n",
    "Y_real= Y.to_numpy()\n",
    "Y_real= Y_real.reshape(-1)"
   ]
  },
  {
   "cell_type": "code",
   "execution_count": 10,
   "id": "582471c9",
   "metadata": {},
   "outputs": [],
   "source": [
    "residual = Y_real - Y_pred"
   ]
  },
  {
   "cell_type": "code",
   "execution_count": 11,
   "id": "04209a6f",
   "metadata": {},
   "outputs": [],
   "source": [
    "n = len(Y_real)\n",
    "den = sum((X-np.mean(X))**2)\n",
    "num=sum(residual**2)/(n-2)\n",
    "error=np.sqrt(num/den)"
   ]
  },
  {
   "cell_type": "code",
   "execution_count": 43,
   "id": "a141f9d4",
   "metadata": {},
   "outputs": [],
   "source": [
    "def ds_bootstrap(n):\n",
    "    regresion = linear_model.LinearRegression()\n",
    "    error_boost = np.array([ ])\n",
    "    \n",
    "    for i in range(0,n):\n",
    "        random = np.random.choice(data_schools['escuela'], len(data_schools['escuela']), replace = True)\n",
    "        \n",
    "        \n",
    "        df_aux =  pd.DataFrame(random, columns=['escuela'])\n",
    "        muestra = pd.merge(df_aux, data_schools, how=\"inner\", on=[\"escuela\"])\n",
    "\n",
    "        \n",
    "        X_1 = muestra[[\"LSAT\"]]\n",
    "        Y_1 = muestra[[\"GPA\"]]\n",
    "        reg = regresion.fit(X_1, Y_1)\n",
    "        Y_pred = regresion.predict(X_1).reshape(-1)\n",
    "\n",
    "        Y_real= Y_1.to_numpy().reshape(-1)\n",
    "        X_1 = X_1.to_numpy().reshape(-1)\n",
    "        \n",
    "        df_aux1 = pd.DataFrame(X_1, columns=['LSAT'])\n",
    "\n",
    "        #Estimacion\n",
    "        residuales = Y_real - Y_pred\n",
    "\n",
    "        #error estandar\n",
    "        x_j=df_aux1[[\"LSAT\"]].to_numpy().reshape(-1)\n",
    "        den=sum((x_j-np.mean(x_j))**2)\n",
    "        num= sum(residuales**2)/(n)\n",
    "        err=np.sqrt(num/den)\n",
    "        err\n",
    "        \n",
    "        err=np.sqrt(num/den)\n",
    "        error_boost = np.append(error_boost, err)\n",
    "        \n",
    "\n",
    "    df = pd.DataFrame(error_boost, columns = ['Errores'])\n",
    "        \n",
    "        \n",
    "    \n",
    "    return(df)"
   ]
  },
  {
   "cell_type": "code",
   "execution_count": 45,
   "id": "0ea4bf58",
   "metadata": {},
   "outputs": [
    {
     "data": {
      "text/html": [
       "<div>\n",
       "<style scoped>\n",
       "    .dataframe tbody tr th:only-of-type {\n",
       "        vertical-align: middle;\n",
       "    }\n",
       "\n",
       "    .dataframe tbody tr th {\n",
       "        vertical-align: top;\n",
       "    }\n",
       "\n",
       "    .dataframe thead th {\n",
       "        text-align: right;\n",
       "    }\n",
       "</style>\n",
       "<table border=\"1\" class=\"dataframe\">\n",
       "  <thead>\n",
       "    <tr style=\"text-align: right;\">\n",
       "      <th></th>\n",
       "      <th>Errores</th>\n",
       "    </tr>\n",
       "  </thead>\n",
       "  <tbody>\n",
       "    <tr>\n",
       "      <th>0</th>\n",
       "      <td>0.000742</td>\n",
       "    </tr>\n",
       "    <tr>\n",
       "      <th>1</th>\n",
       "      <td>0.000836</td>\n",
       "    </tr>\n",
       "    <tr>\n",
       "      <th>2</th>\n",
       "      <td>0.000918</td>\n",
       "    </tr>\n",
       "    <tr>\n",
       "      <th>3</th>\n",
       "      <td>0.001049</td>\n",
       "    </tr>\n",
       "    <tr>\n",
       "      <th>4</th>\n",
       "      <td>0.000967</td>\n",
       "    </tr>\n",
       "    <tr>\n",
       "      <th>5</th>\n",
       "      <td>0.001118</td>\n",
       "    </tr>\n",
       "    <tr>\n",
       "      <th>6</th>\n",
       "      <td>0.001001</td>\n",
       "    </tr>\n",
       "    <tr>\n",
       "      <th>7</th>\n",
       "      <td>0.000906</td>\n",
       "    </tr>\n",
       "    <tr>\n",
       "      <th>8</th>\n",
       "      <td>0.000920</td>\n",
       "    </tr>\n",
       "    <tr>\n",
       "      <th>9</th>\n",
       "      <td>0.001089</td>\n",
       "    </tr>\n",
       "  </tbody>\n",
       "</table>\n",
       "</div>"
      ],
      "text/plain": [
       "    Errores\n",
       "0  0.000742\n",
       "1  0.000836\n",
       "2  0.000918\n",
       "3  0.001049\n",
       "4  0.000967\n",
       "5  0.001118\n",
       "6  0.001001\n",
       "7  0.000906\n",
       "8  0.000920\n",
       "9  0.001089"
      ]
     },
     "execution_count": 45,
     "metadata": {},
     "output_type": "execute_result"
    }
   ],
   "source": [
    "ds_bootstrap(10)"
   ]
  }
 ],
 "metadata": {
  "kernelspec": {
   "display_name": "Python 3",
   "language": "python",
   "name": "python3"
  },
  "language_info": {
   "codemirror_mode": {
    "name": "ipython",
    "version": 3
   },
   "file_extension": ".py",
   "mimetype": "text/x-python",
   "name": "python",
   "nbconvert_exporter": "python",
   "pygments_lexer": "ipython3",
   "version": "3.8.8"
  }
 },
 "nbformat": 4,
 "nbformat_minor": 5
}
