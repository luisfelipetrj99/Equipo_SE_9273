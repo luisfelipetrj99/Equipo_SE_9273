{
 "cells": [
  {
   "cell_type": "markdown",
   "id": "e7e435ed",
   "metadata": {},
   "source": [
    "## Ejercicio 2"
   ]
  },
  {
   "cell_type": "code",
   "execution_count": 3,
   "id": "503cc861",
   "metadata": {},
   "outputs": [],
   "source": [
    "import pandas as pd\n",
    "import matplotlib.pyplot as plt\n",
    "from sklearn import linear_model\n",
    "import numpy as np"
   ]
  },
  {
   "cell_type": "code",
   "execution_count": 7,
   "id": "6ff69ab9",
   "metadata": {},
   "outputs": [
    {
     "data": {
      "text/html": [
       "<div>\n",
       "<style scoped>\n",
       "    .dataframe tbody tr th:only-of-type {\n",
       "        vertical-align: middle;\n",
       "    }\n",
       "\n",
       "    .dataframe tbody tr th {\n",
       "        vertical-align: top;\n",
       "    }\n",
       "\n",
       "    .dataframe thead th {\n",
       "        text-align: right;\n",
       "    }\n",
       "</style>\n",
       "<table border=\"1\" class=\"dataframe\">\n",
       "  <thead>\n",
       "    <tr style=\"text-align: right;\">\n",
       "      <th></th>\n",
       "      <th>escuela</th>\n",
       "      <th>LSAT</th>\n",
       "      <th>GPA</th>\n",
       "    </tr>\n",
       "  </thead>\n",
       "  <tbody>\n",
       "    <tr>\n",
       "      <th>0</th>\n",
       "      <td>1</td>\n",
       "      <td>622</td>\n",
       "      <td>3.23</td>\n",
       "    </tr>\n",
       "    <tr>\n",
       "      <th>1</th>\n",
       "      <td>2</td>\n",
       "      <td>542</td>\n",
       "      <td>2.83</td>\n",
       "    </tr>\n",
       "    <tr>\n",
       "      <th>2</th>\n",
       "      <td>3</td>\n",
       "      <td>579</td>\n",
       "      <td>3.24</td>\n",
       "    </tr>\n",
       "    <tr>\n",
       "      <th>3</th>\n",
       "      <td>4</td>\n",
       "      <td>653</td>\n",
       "      <td>3.12</td>\n",
       "    </tr>\n",
       "    <tr>\n",
       "      <th>4</th>\n",
       "      <td>5</td>\n",
       "      <td>606</td>\n",
       "      <td>3.09</td>\n",
       "    </tr>\n",
       "  </tbody>\n",
       "</table>\n",
       "</div>"
      ],
      "text/plain": [
       "   escuela  LSAT   GPA\n",
       "0        1   622  3.23\n",
       "1        2   542  2.83\n",
       "2        3   579  3.24\n",
       "3        4   653  3.12\n",
       "4        5   606  3.09"
      ]
     },
     "metadata": {},
     "output_type": "display_data"
    }
   ],
   "source": [
    "data_schools = pd.read_excel('data_schools.xlsx')\n",
    "display(data_schools.head())"
   ]
  },
  {
   "cell_type": "code",
   "execution_count": 9,
   "id": "c0fe8e07",
   "metadata": {},
   "outputs": [],
   "source": [
    "X = data_schools[[\"LSAT\"]]\n",
    "Y = data_schools[[\"GPA\"]]\n",
    "regresion = linear_model.LinearRegression()\n",
    "reg = regresion.fit(X, Y)"
   ]
  },
  {
   "cell_type": "code",
   "execution_count": 10,
   "id": "9c1d96fd",
   "metadata": {},
   "outputs": [],
   "source": [
    "#Intercepto\n",
    "beta_0 = regresion.intercept_\n",
    "\n",
    "#Coef\n",
    "beta_1 = regresion.coef_"
   ]
  },
  {
   "cell_type": "code",
   "execution_count": 11,
   "id": "a3fb2611",
   "metadata": {},
   "outputs": [],
   "source": [
    "Y_pred = regresion.predict(X).reshape(-1)"
   ]
  },
  {
   "cell_type": "code",
   "execution_count": 12,
   "id": "ce140380",
   "metadata": {},
   "outputs": [],
   "source": [
    "X = X.to_numpy().reshape(-1)\n",
    "Y_real= Y.to_numpy()\n",
    "Y_real= Y_real.reshape(-1)"
   ]
  },
  {
   "cell_type": "code",
   "execution_count": 13,
   "id": "582471c9",
   "metadata": {},
   "outputs": [],
   "source": [
    "residual = Y_real - Y_pred"
   ]
  },
  {
   "cell_type": "code",
   "execution_count": 14,
   "id": "04209a6f",
   "metadata": {},
   "outputs": [],
   "source": [
    "n = len(Y_real)\n",
    "den = sum((X-np.mean(X))**2)\n",
    "num=sum(residual**2)/(n-2)\n",
    "error=np.sqrt(num/den)"
   ]
  },
  {
   "cell_type": "code",
   "execution_count": 15,
   "id": "a141f9d4",
   "metadata": {},
   "outputs": [],
   "source": [
    "def ds_bootstrap(n):\n",
    "    regresion = linear_model.LinearRegression()\n",
    "    error_boost = np.array([ ])\n",
    "    \n",
    "    for i in range(0,n):\n",
    "        random = np.random.choice(data_schools['escuela'], len(data_schools['escuela']), replace = True)\n",
    "        \n",
    "        \n",
    "        df_aux =  pd.DataFrame(random, columns=['escuela'])\n",
    "        muestra = pd.merge(df_aux, data_schools, how=\"inner\", on=[\"escuela\"])\n",
    "\n",
    "        \n",
    "        X_1 = muestra[[\"LSAT\"]]\n",
    "        Y_1 = muestra[[\"GPA\"]]\n",
    "        reg = regresion.fit(X_1, Y_1)\n",
    "        Y_pred = regresion.predict(X_1).reshape(-1)\n",
    "\n",
    "        Y_real= Y_1.to_numpy().reshape(-1)\n",
    "        X_1 = X_1.to_numpy().reshape(-1)\n",
    "        \n",
    "        df_aux1 = pd.DataFrame(X_1, columns=['LSAT'])\n",
    "\n",
    "        #Estimacion\n",
    "        residuales = Y_real - Y_pred\n",
    "\n",
    "        #error estandar\n",
    "        x_j=df_aux1[[\"LSAT\"]].to_numpy().reshape(-1)\n",
    "        den=sum((x_j-np.mean(x_j))**2)\n",
    "        num= sum(residuales**2)/(n)\n",
    "        err=np.sqrt(num/den)\n",
    "        err\n",
    "        \n",
    "        err=np.sqrt(num/den)\n",
    "        error_boost = np.append(error_boost, err)\n",
    "        \n",
    "\n",
    "    df = pd.DataFrame(error_boost, columns = ['Errores'])\n",
    "        \n",
    "        \n",
    "    \n",
    "    return(df)"
   ]
  },
  {
   "cell_type": "code",
   "execution_count": 22,
   "id": "0ea4bf58",
   "metadata": {},
   "outputs": [],
   "source": [
    "df = ds_bootstrap(1000)\n",
    "\n"
   ]
  },
  {
   "cell_type": "code",
   "execution_count": null,
   "id": "cae1be25",
   "metadata": {},
   "outputs": [],
   "source": [
    "df_1 = ds_bootstrap(900)"
   ]
  },
  {
   "cell_type": "code",
   "execution_count": 19,
   "id": "6b448056",
   "metadata": {},
   "outputs": [
    {
     "data": {
      "text/html": [
       "<div>\n",
       "<style scoped>\n",
       "    .dataframe tbody tr th:only-of-type {\n",
       "        vertical-align: middle;\n",
       "    }\n",
       "\n",
       "    .dataframe tbody tr th {\n",
       "        vertical-align: top;\n",
       "    }\n",
       "\n",
       "    .dataframe thead th {\n",
       "        text-align: right;\n",
       "    }\n",
       "</style>\n",
       "<table border=\"1\" class=\"dataframe\">\n",
       "  <thead>\n",
       "    <tr style=\"text-align: right;\">\n",
       "      <th></th>\n",
       "      <th>Errores</th>\n",
       "    </tr>\n",
       "  </thead>\n",
       "  <tbody>\n",
       "    <tr>\n",
       "      <th>0</th>\n",
       "      <td>0.000103</td>\n",
       "    </tr>\n",
       "    <tr>\n",
       "      <th>1</th>\n",
       "      <td>0.000111</td>\n",
       "    </tr>\n",
       "    <tr>\n",
       "      <th>2</th>\n",
       "      <td>0.000115</td>\n",
       "    </tr>\n",
       "    <tr>\n",
       "      <th>3</th>\n",
       "      <td>0.000088</td>\n",
       "    </tr>\n",
       "    <tr>\n",
       "      <th>4</th>\n",
       "      <td>0.000087</td>\n",
       "    </tr>\n",
       "  </tbody>\n",
       "</table>\n",
       "</div>"
      ],
      "text/plain": [
       "    Errores\n",
       "0  0.000103\n",
       "1  0.000111\n",
       "2  0.000115\n",
       "3  0.000088\n",
       "4  0.000087"
      ]
     },
     "metadata": {},
     "output_type": "display_data"
    }
   ],
   "source": [
    "display(df.head())"
   ]
  },
  {
   "cell_type": "code",
   "execution_count": 23,
   "id": "a3a1f76b",
   "metadata": {},
   "outputs": [
    {
     "data": {
      "text/plain": [
       "Text(0.5, 1.0, 'Histograma de los errores con n-1')"
      ]
     },
     "execution_count": 23,
     "metadata": {},
     "output_type": "execute_result"
    },
    {
     "data": {
      "image/png": "[encoded data removed]",
      "text/plain": [
       "<Figure size 1800x360 with 2 Axes>"
      ]
     },
     "metadata": {
      "needs_background": "light"
     },
     "output_type": "display_data"
    }
   ],
   "source": [
    "f, (ax1, ax2) = plt.subplots(1, 2, sharey=True, figsize=(25,5))\n",
    "\n",
    "#Error 1\n",
    "ax1.hist(df['Errores'],bins=10, alpha=0.5,color = \"lawngreen\",edgecolor=\"white\")\n",
    "ax1.axvline(x= error ,color='green', linestyle='--',linewidth=3)\n",
    "ax1.axvline(x = np.mean(df['Errores']),color='red', linestyle='--',linewidth=3)\n",
    "ax1.axvline(np.percentile(df['Errores'],2.5),color=\"navy\",linestyle=\"--\",linewidth=2)                                                                                                                                                    \n",
    "ax1.axvline(np.percentile(df['Errores'],97.5),color=\"navy\",linestyle=\"--\",linewidth=2) \n",
    "ax1.legend(['error original','Promedio errores','Porcentiles'], frameon=False, loc=1)\n",
    "ax1.set_title(\"Histograma de los errores con n\")\n",
    "\n",
    "#Error2\n",
    "ax2.hist(df_1['Errores'],bins=10, alpha=0.5,color = \"lawngreen\",edgecolor=\"white\")\n",
    "ax2.axvline(x= error ,color='green', linestyle='--',linewidth=3)\n",
    "ax2.axvline(x = np.mean(df_1['Errores']),color='red', linestyle='--',linewidth=3)\n",
    "ax2.axvline(np.percentile(df_1['Errores'],2.5),color=\"navy\",linestyle=\"--\",linewidth=2)                                                                                                                                                    \n",
    "ax2.axvline(np.percentile(df_1['Errores'],97.5),color=\"navy\",linestyle=\"--\",linewidth=2) \n",
    "ax2.legend(['error original','Promedio errores','Porcentiles'], frameon=False, loc=1)\n",
    "ax2.set_title(\"Histograma de los errores con n-1\")"
   ]
  },
  {
   "cell_type": "markdown",
   "id": "e5746772",
   "metadata": {},
   "source": [
    "### Nota:\n",
    "Observemos que el error disminuye cuando se usa bootstrap, y además la muestra es indistinta, ya que se obtienen los mismos resultados"
   ]
  }
 ],
 "metadata": {
  "kernelspec": {
   "display_name": "Python 3",
   "language": "python",
   "name": "python3"
  },
  "language_info": {
   "codemirror_mode": {
    "name": "ipython",
    "version": 3
   },
   "file_extension": ".py",
   "mimetype": "text/x-python",
   "name": "python",
   "nbconvert_exporter": "python",
   "pygments_lexer": "ipython3",
   "version": "3.8.8"
  }
 },
 "nbformat": 4,
 "nbformat_minor": 5
}
